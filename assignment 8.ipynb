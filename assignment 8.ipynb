{
 "cells": [
  {
   "cell_type": "code",
   "execution_count": 17,
   "id": "64d58014-fb5e-4529-b9f7-ab0a2947f1df",
   "metadata": {},
   "outputs": [
    {
     "name": "stdin",
     "output_type": "stream",
     "text": [
      "Enter a number:  45\n"
     ]
    },
    {
     "name": "stdout",
     "output_type": "stream",
     "text": [
      "Difference is: 11\n"
     ]
    }
   ],
   "source": [
    "# 1. Take a user input and find the difference between the poduct and sum of digits of a number.\n",
    "a = input(\"Enter a number: \")\n",
    "sum = 0\n",
    "product = 1\n",
    "\n",
    "for d in a:\n",
    "    d = int(d)\n",
    "    sum += d       \n",
    "    product *= d   \n",
    "print(\"Difference is:\", product - sum)"
   ]
  },
  {
   "cell_type": "code",
   "execution_count": 55,
   "id": "ed6d616b-27e9-402d-800a-3826fb3ba33d",
   "metadata": {},
   "outputs": [
    {
     "name": "stdin",
     "output_type": "stream",
     "text": [
      "Enter a number:  34067\n"
     ]
    },
    {
     "name": "stdout",
     "output_type": "stream",
     "text": [
      "34067 is a Duck number\n"
     ]
    }
   ],
   "source": [
    "# 2. write a python program to check whether  a number is a Duck number(contains zero but not as the first digit).\n",
    "num = input(\"Enter a number: \")\n",
    "if num[0] != \"0\" and  \"0\" in num:\n",
    "    print(num, \"is a Duck number\")\n",
    "else:\n",
    "    print(num, \"is NOT a Duck number\")"
   ]
  },
  {
   "cell_type": "code",
   "execution_count": null,
   "id": "72661997-585b-4cad-92f5-7e3d7a36f8a3",
   "metadata": {},
   "outputs": [],
   "source": [
    "#3.Write a python program to check whether a number is an Automorphic number."
   ]
  },
  {
   "cell_type": "code",
   "execution_count": 65,
   "id": "63b553be-2a8a-49b2-a9f2-aa39eef64d16",
   "metadata": {},
   "outputs": [],
   "source": [
    "#4.Write a python program to check if a number is a Trimorphic number."
   ]
  },
  {
   "cell_type": "code",
   "execution_count": 61,
   "id": "2286b889-1ae5-4ddb-9661-9783d7c0a244",
   "metadata": {},
   "outputs": [
    {
     "name": "stdin",
     "output_type": "stream",
     "text": [
      "Enter a number:  123456789\n"
     ]
    },
    {
     "name": "stdout",
     "output_type": "stream",
     "text": [
      "First digit is: 1\n"
     ]
    }
   ],
   "source": [
    "#5.Write a python program to find the first digit of a number without converting to string\n",
    "num = int(input(\"Enter a number: \"))\n",
    "while num >= 10:   \n",
    "    num = num // 10\n",
    "\n",
    "print(\"First digit is:\", num)"
   ]
  }
 ],
 "metadata": {
  "kernelspec": {
   "display_name": "Python 3 (ipykernel)",
   "language": "python",
   "name": "python3"
  },
  "language_info": {
   "codemirror_mode": {
    "name": "ipython",
    "version": 3
   },
   "file_extension": ".py",
   "mimetype": "text/x-python",
   "name": "python",
   "nbconvert_exporter": "python",
   "pygments_lexer": "ipython3",
   "version": "3.12.7"
  }
 },
 "nbformat": 4,
 "nbformat_minor": 5
}
