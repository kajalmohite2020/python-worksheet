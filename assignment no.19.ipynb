{
 "cells": [
  {
   "cell_type": "code",
   "execution_count": 9,
   "id": "fd7803d7-4825-4b60-b8e9-aa909aaf5514",
   "metadata": {},
   "outputs": [
    {
     "name": "stdin",
     "output_type": "stream",
     "text": [
      "Enter a time: 0907\n"
     ]
    },
    {
     "name": "stdout",
     "output_type": "stream",
     "text": [
      "9:7 AM\n"
     ]
    }
   ],
   "source": [
    "#1.Given a time in 24‑hour format as a four‑digit integer or string (e.g., \"1425\", 1425, \"0907\"), convert it to spoken English using a 12‑hour clock.\n",
    "t = int(input(\"Enter a time:\"))\n",
    "\n",
    "def time(t): \n",
    "    h = t // 100\n",
    "    m = t % 100\n",
    "    if h < 12:\n",
    "        period = \"AM\"\n",
    "    else:\n",
    "        period = \"PM\"\n",
    "        \n",
    "    h = h % 12\n",
    "    if h == 0:\n",
    "        h = 12\n",
    "    return str(h) + \":\" + str(m) + \" \" + period\n",
    "\n",
    "print(time(t))"
   ]
  },
  {
   "cell_type": "code",
   "execution_count": 1,
   "id": "905c2cfd-0310-4245-9fd3-522ede8cd71e",
   "metadata": {},
   "outputs": [
    {
     "name": "stdin",
     "output_type": "stream",
     "text": [
      "Enter n:  25\n"
     ]
    },
    {
     "data": {
      "text/plain": [
       "4"
      ]
     },
     "execution_count": 1,
     "metadata": {},
     "output_type": "execute_result"
    }
   ],
   "source": [
    "#2.Write a program to find how many distinct pairs (a, b) of non-negative integers satisfy the equation a² + b² = n.\n",
    "n=int(input(\"Enter n: \"))\n",
    "def count_pairs(n):\n",
    "    c=0\n",
    "    for a in range(int(n**0.5)+1):\n",
    "        b=(n-a*a)**0.5\n",
    "        if b==int(b): \n",
    "            c+=1\n",
    "    return c\n",
    "count_pairs(n)"
   ]
  },
  {
   "cell_type": "code",
   "execution_count": 3,
   "id": "2c1d2b7e-9f92-42d7-8786-cdca276244bf",
   "metadata": {},
   "outputs": [
    {
     "name": "stdin",
     "output_type": "stream",
     "text": [
      "Enter number:  4527\n"
     ]
    },
    {
     "data": {
      "text/plain": [
       "(11, 28)"
      ]
     },
     "execution_count": 3,
     "metadata": {},
     "output_type": "execute_result"
    }
   ],
   "source": [
    "#3.Write a program that reads an integer and returns the sum and the product of its first and last digits.\n",
    "n=int(input(\"Enter number: \"))\n",
    "def sum_product(n):\n",
    "    l = n % 10\n",
    "    for i in str(n):\n",
    "        f = int(i)\n",
    "        break\n",
    "    return f + l, f * l\n",
    "\n",
    "sum_product(n)"
   ]
  },
  {
   "cell_type": "code",
   "execution_count": null,
   "id": "d1c1a849-ac96-4ad5-955d-94c91bfc671d",
   "metadata": {},
   "outputs": [],
   "source": [
    "#4.Write a program to calculate the Pearson correlation coefficient for two lists of equal length.\n"
   ]
  },
  {
   "cell_type": "code",
   "execution_count": 21,
   "id": "ebd7e34a-8abe-4869-be89-08a3c2fc3ce1",
   "metadata": {},
   "outputs": [
    {
     "name": "stdout",
     "output_type": "stream",
     "text": [
      "Mean Absolute Deviation: 2.25\n"
     ]
    }
   ],
   "source": [
    "#5.Write a program to calculate the mean absolute deviation of a list of numbers.\n",
    "nums = [1, 2, 3, 4, 5, 8, 9, 6]\n",
    "def mean_absolute_deviation(numbers):\n",
    "    total = count = 0\n",
    "    for n in numbers:\n",
    "        total += n\n",
    "        count += 1\n",
    "    mean = total / count\n",
    "    absolute_deviation = 0\n",
    "    for n in numbers:\n",
    "        absolute_deviation += abs(n - mean)\n",
    "    print(\"Mean Absolute Deviation:\", absolute_deviation / count)\n",
    "\n",
    "mean_absolute_deviation(nums)"
   ]
  },
  {
   "cell_type": "code",
   "execution_count": null,
   "id": "93ea5edd-b645-4728-a3b1-5e1479daf8ac",
   "metadata": {},
   "outputs": [],
   "source": [
    "#6.Write a program that calculates the moving average of a list of numbers given a window size.\n"
   ]
  }
 ],
 "metadata": {
  "kernelspec": {
   "display_name": "Python 3 (ipykernel)",
   "language": "python",
   "name": "python3"
  },
  "language_info": {
   "codemirror_mode": {
    "name": "ipython",
    "version": 3
   },
   "file_extension": ".py",
   "mimetype": "text/x-python",
   "name": "python",
   "nbconvert_exporter": "python",
   "pygments_lexer": "ipython3",
   "version": "3.12.7"
  }
 },
 "nbformat": 4,
 "nbformat_minor": 5
}
