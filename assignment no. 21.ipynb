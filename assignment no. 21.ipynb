{
 "cells": [
  {
   "cell_type": "code",
   "execution_count": 19,
   "id": "a72c208c-e19f-4246-a995-a76a4fa132ab",
   "metadata": {},
   "outputs": [
    {
     "name": "stdout",
     "output_type": "stream",
     "text": [
      "Reversed number: 321\n",
      "Reversed number: 54\n",
      "Reversed number: 97\n"
     ]
    }
   ],
   "source": [
    "#Assignment no.21\n",
    "#1.Write a python program to Convert each number into the reverse of its digits.\n",
    "numbers = [123, 450, 79]\n",
    "def reverse_digit(numbers):\n",
    "    for n in numbers:\n",
    "        reversed_num = int(str(n)[::-1])\n",
    "        print(\"Reversed number:\", reversed_num)\n",
    "reverse_digit(numbers)"
   ]
  },
  {
   "cell_type": "code",
   "execution_count": 13,
   "id": "da117b67-49a1-468e-b2b6-198d81fa55d6",
   "metadata": {},
   "outputs": [
    {
     "name": "stdout",
     "output_type": "stream",
     "text": [
      "[False, False, True, False, True]\n"
     ]
    }
   ],
   "source": [
    "#2.Write a python program to Map numbers to True if divisible by 7, else False\n",
    "l= [ 34, 10, 28, 33, 49]\n",
    "def divisible_by_7(num):\n",
    "    result=list(map(lambda x: x % 7 == 0, num))\n",
    "    print(result)\n",
    "divisible_by_7(l)"
   ]
  },
  {
   "cell_type": "code",
   "execution_count": 1,
   "id": "758a6b8a-3227-4fd1-bee7-f99f31526e9e",
   "metadata": {},
   "outputs": [
    {
     "name": "stdout",
     "output_type": "stream",
     "text": [
      "[2, 4, 6, 8, 10]\n"
     ]
    }
   ],
   "source": [
    "#3.Write a python program to Filter numbers where all digits are even.\n",
    "l = [1, 2, 3, 4, 5, 6, 7, 8, 9, 10]\n",
    "def even_number(n):\n",
    "    res = list(filter(lambda x: x % 2 == 0,n))\n",
    "    print(res)\n",
    "even_number(l)"
   ]
  },
  {
   "cell_type": "code",
   "execution_count": 37,
   "id": "c723e5ae-27b1-4a4a-9c03-3cc5bc640d4a",
   "metadata": {},
   "outputs": [
    {
     "name": "stdout",
     "output_type": "stream",
     "text": [
      "Numbers where product of digits is even: [24, 402, 68, 222]\n"
     ]
    }
   ],
   "source": [
    "#4.Write a python program to Keep numbers where the product of digits is even.\n",
    "numbers = [24, 135, 402, 68, 222, 17]\n",
    "def product_even(n):\n",
    "    return (n % 10 % 2 == 0)\n",
    "even_product_numbers = list(filter(product_even, numbers))\n",
    "print(\"Numbers where product of digits is even:\", even_product_numbers)"
   ]
  },
  {
   "cell_type": "code",
   "execution_count": 3,
   "id": "2463ad56-93ae-4682-99fe-5177cf662e42",
   "metadata": {},
   "outputs": [
    {
     "name": "stdout",
     "output_type": "stream",
     "text": [
      "10\n"
     ]
    }
   ],
   "source": [
    "#5.Write a python program to Find the sum of the minimum and maximum in a list using reduce.\n",
    "from functools import reduce\n",
    "l = [5, 4, 7, 8, 2, 3]\n",
    "def add(x, y):\n",
    "    return x + y\n",
    "result = reduce(add, [min(l), max(l)])\n",
    "print(result)"
   ]
  },
  {
   "cell_type": "code",
   "execution_count": 9,
   "id": "ba1f0d05-0df6-4da9-9f3d-b6684ae62817",
   "metadata": {},
   "outputs": [],
   "source": [
    "#6.Write a python program to Count how many numbers in a list are greater than the average (use reduce to get average).\n"
   ]
  },
  {
   "cell_type": "code",
   "execution_count": null,
   "id": "6d3bbbad-50d3-433d-bd42-515af6cc466b",
   "metadata": {},
   "outputs": [],
   "source": [
    "#7.Write a python program to Sort a list of numbers based on the sum of their digits.\n"
   ]
  },
  {
   "cell_type": "code",
   "execution_count": 5,
   "id": "76c6a78c-51c4-4024-a60f-e125190f057e",
   "metadata": {},
   "outputs": [
    {
     "name": "stdout",
     "output_type": "stream",
     "text": [
      "[11, 9]\n"
     ]
    }
   ],
   "source": [
    "#8.Write a python program to Use lambda in filter to keep numbers whose square ends in 1.\n",
    "num=[3,6,8,11,24,9,]\n",
    "def square_ends_in_1(num):\n",
    "    result=list(filter(lambda x:(x*x) % 10 == 1,num))\n",
    "    print(result)\n",
    "    \n",
    "square_ends_in_1(num)    "
   ]
  },
  {
   "cell_type": "code",
   "execution_count": 11,
   "id": "9e6403ff-077a-43f2-a9bb-fc0e64c7abe8",
   "metadata": {},
   "outputs": [],
   "source": [
    "#9.Write a python program to Filter numbers whose digit sum is even, then return their reversed forms"
   ]
  },
  {
   "cell_type": "code",
   "execution_count": 17,
   "id": "4c00fdf2-aa84-47ce-a5d9-ca0f9b6c2c36",
   "metadata": {},
   "outputs": [
    {
     "name": "stdout",
     "output_type": "stream",
     "text": [
      "[-9, -198]\n"
     ]
    }
   ],
   "source": [
    "#10.  Write a python program to Map numbers to the difference between the number and its reverse.\n",
    "numbers = [12, 456,]\n",
    "def difference(num):\n",
    "    return num - int(str(num)[::-1])\n",
    "differences = list(map(difference, numbers))\n",
    "print(differences)"
   ]
  },
  {
   "cell_type": "code",
   "execution_count": null,
   "id": "b2c97e89-921c-42a1-9e6a-5e903e838d4b",
   "metadata": {},
   "outputs": [],
   "source": []
  }
 ],
 "metadata": {
  "kernelspec": {
   "display_name": "Python 3 (ipykernel)",
   "language": "python",
   "name": "python3"
  },
  "language_info": {
   "codemirror_mode": {
    "name": "ipython",
    "version": 3
   },
   "file_extension": ".py",
   "mimetype": "text/x-python",
   "name": "python",
   "nbconvert_exporter": "python",
   "pygments_lexer": "ipython3",
   "version": "3.12.7"
  }
 },
 "nbformat": 4,
 "nbformat_minor": 5
}
