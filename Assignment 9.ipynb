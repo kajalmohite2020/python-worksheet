{
 "cells": [
  {
   "cell_type": "code",
   "execution_count": 99,
   "id": "ea2b8ebb-a09b-4310-9e10-c31c60aae083",
   "metadata": {},
   "outputs": [
    {
     "name": "stdin",
     "output_type": "stream",
     "text": [
      "How many numbers do you want to enter?:  2\n",
      "Enter a number:  3\n",
      "Enter a number:  4\n"
     ]
    },
    {
     "name": "stdout",
     "output_type": "stream",
     "text": [
      "Sum = 7\n",
      "Average = 3.5\n"
     ]
    }
   ],
   "source": [
    "#assignment no.9\n",
    "#1,Ask the user how many numbers they want to enter(n).Accept n numbers, then print their total sum and average.\n",
    "n = int(input(\"How many numbers do you want to enter?: \"))\n",
    "total = 0\n",
    "for i in range(n):\n",
    "    num = int(input(\"Enter a number: \"))\n",
    "    total += num\n",
    "average = total / n\n",
    "print(\"Sum =\", total)\n",
    "print(\"Average =\", average)"
   ]
  },
  {
   "cell_type": "code",
   "execution_count": 13,
   "id": "6339ebfa-4efa-43b1-86e6-0b2608526580",
   "metadata": {},
   "outputs": [
    {
     "name": "stdin",
     "output_type": "stream",
     "text": [
      "Enter a total number of seconds: 23\n"
     ]
    },
    {
     "name": "stdout",
     "output_type": "stream",
     "text": [
      "0 minutes 23 seconds\n"
     ]
    }
   ],
   "source": [
    "#2.Ask the user to input a total number of seconds. Convert and print it as minutes and seconds. ",
    "Example: 130 seconds → 2 minutes, 10 seconds\n",
    "seconds = int(input(\"Enter a total number of seconds:\"))\n",
    "m = seconds // 60\n",
    "s = seconds % 60\n",
    "print(m,\"minutes\",s,\"seconds\")\n",
    "    "
   ]
  },
  {
   "cell_type": "code",
   "execution_count": 41,
   "id": "652a563d-1dc0-447b-86e5-6595326dc719",
   "metadata": {},
   "outputs": [
    {
     "name": "stdin",
     "output_type": "stream",
     "text": [
      "enter a first number: 5\n",
      "enter a second number: 5\n"
     ]
    },
    {
     "name": "stdout",
     "output_type": "stream",
     "text": [
      "both number are equal\n"
     ]
    }
   ],
   "source": [
    "# 3.Ask the user to enter two numbers. Print whether the first number is less than, greater than, or equal to the second.\n",
    "a = int(input(\"enter a first number:\"))\n",
    "b = int(input(\"enter a second number:\"))\n",
    "if a< b:\n",
    "    print(\"first number is less than second number\")\n",
    "elif a > b:\n",
    "    print(\"first number is greater than second number\")\n",
    "else:\n",
    "    print(\"both number are equal\")"
   ]
  },
  {
   "cell_type": "code",
   "execution_count": 47,
   "id": "e4a18ada-f9a0-42c5-a892-428db4b5dbb6",
   "metadata": {},
   "outputs": [
    {
     "name": "stdin",
     "output_type": "stream",
     "text": [
      "enter time in hours: 2\n"
     ]
    },
    {
     "name": "stdout",
     "output_type": "stream",
     "text": [
      "Equivalent in second: 7200\n"
     ]
    }
   ],
   "source": [
    "#4.Ask the user to input time in hours. Convert and print the equivalent in seconds\n",
    "hours = int(input(\"enter time in hours:\"))\n",
    "if hours >=0:\n",
    "    s= hours*3600\n",
    "    print(\"Equivalent in second:\",s)"
   ]
  },
  {
   "cell_type": "code",
   "execution_count": null,
   "id": "3b083310-eda6-4a7d-a60b-0dc70cd77b03",
   "metadata": {},
   "outputs": [],
   "source": [
    "#5Ask the user for two numbers: a and b. Print all numbers from a to b. If a > b, print in reverse"
   ]
  },
  {
   "cell_type": "code",
   "execution_count": 69,
   "id": "ba7106a2-8f5b-4254-b4e5-4817d65b488e",
   "metadata": {},
   "outputs": [
    {
     "name": "stdin",
     "output_type": "stream",
     "text": [
      "Enter a number: 4\n"
     ]
    },
    {
     "name": "stdout",
     "output_type": "stream",
     "text": [
      "product of number form 1 to n is: 1\n",
      "product of number form 1 to n is: 2\n",
      "product of number form 1 to n is: 6\n",
      "product of number form 1 to n is: 24\n"
     ]
    }
   ],
   "source": [
    "#6.Ask the user for a number n. Use a loop to calculate the product of all numbers from 1 to n.\n",
    "n = int(input(\"Enter a number:\"))\n",
    "product =1\n",
    "for i in range(1,n+1):\n",
    "    product= product *i\n",
    "    print(\"product of all number form 1 to n is:\",product)"
   ]
  },
  {
   "cell_type": "code",
   "execution_count": 71,
   "id": "2d5b84dc-4ea8-48ce-aee3-90498dcb8df1",
   "metadata": {},
   "outputs": [
    {
     "name": "stdin",
     "output_type": "stream",
     "text": [
      "Enter first integer:  5\n",
      "Enter second integer:  7\n"
     ]
    },
    {
     "name": "stdout",
     "output_type": "stream",
     "text": [
      "Result as float: 12.0\n"
     ]
    }
   ],
   "source": [
    "#7.Ask the user to input two integers. Add them and print the result as a float using type conversion.\n",
    "a = int(input(\"Enter first integer: \"))\n",
    "b = int(input(\"Enter second integer: \"))\n",
    "result = float(a + b)\n",
    "print(\"Result as float:\", result)"
   ]
  },
  {
   "cell_type": "code",
   "execution_count": 15,
   "id": "a3736e7b-f49b-4f2f-8ca1-9debf2636fbe",
   "metadata": {},
   "outputs": [
    {
     "name": "stdin",
     "output_type": "stream",
     "text": [
      "enter a number: 5\n"
     ]
    },
    {
     "name": "stdout",
     "output_type": "stream",
     "text": [
      "Hello\n",
      "Hello\n",
      "Hello\n",
      "Hello\n",
      "Hello\n"
     ]
    }
   ],
   "source": [
    "#8.Ask the user to input a number n. Use a loop to print \"Hello\" exactly n times\n",
    "n = int(input(\"enter a number:\"))\n",
    "for i in range(n):\n",
    "    print(\"Hello\")"
   ]
  },
  {
   "cell_type": "code",
   "execution_count": 27,
   "id": "37857e1c-3345-4322-8211-34975a649fcd",
   "metadata": {},
   "outputs": [
    {
     "name": "stdin",
     "output_type": "stream",
     "text": [
      "enter a number: 23\n"
     ]
    },
    {
     "name": "stdout",
     "output_type": "stream",
     "text": [
      "4\n",
      "8\n",
      "12\n",
      "16\n",
      "20\n"
     ]
    }
   ],
   "source": [
    "#9.Ask the user to enter a number n. Use a loop to print numbers from 1 to n, but skip all numbers that are divisible by 4.\n",
    "n=int(input(\"enter a number:\"))\n",
    "for i in range(1,n+1):\n",
    "    if i % 4 ==0:\n",
    "        continue\n",
    "    print(i)\n"
   ]
  },
  {
   "cell_type": "code",
   "execution_count": 55,
   "id": "347487b4-50e6-458c-ac05-fb1e3a1ade70",
   "metadata": {},
   "outputs": [
    {
     "name": "stdin",
     "output_type": "stream",
     "text": [
      "Enter a number:  5\n"
     ]
    },
    {
     "name": "stdout",
     "output_type": "stream",
     "text": [
      "Number of divisions: 3\n"
     ]
    }
   ],
   "source": [
    "#10.Ask the user to input a number. Keep dividing it by 2 using a loop until it becomes less than 1. Print how many divisions were performed.\n",
    "n = int(input(\"Enter a number: \"))\n",
    "count = 0\n",
    "for i in range(n):   \n",
    "    if n < 1:        \n",
    "        break\n",
    "    n = n / 2\n",
    "    count += 1\n",
    "print(\"Number of divisions:\", count)"
   ]
  },
  {
   "cell_type": "code",
   "execution_count": 85,
   "id": "659f6b92-891e-40b4-a252-f76ed3d961fe",
   "metadata": {},
   "outputs": [
    {
     "name": "stdin",
     "output_type": "stream",
     "text": [
      "enter a first number: 4\n",
      "enter a second number: 6\n"
     ]
    },
    {
     "name": "stdout",
     "output_type": "stream",
     "text": [
      "Sum of numbers between a and b : 4\n",
      "Sum of numbers between a and b : 9\n",
      "Sum of numbers between a and b : 15\n"
     ]
    }
   ],
   "source": [
    "#11.Ask the user to input two numbers, a and b. Use a loop to find the sum of all numbers between a and b (inclusive). ",
    "Handle if a > b by swapping or using a conditional structure.\n",
    "a = int(input(\"enter a first number:\"))\n",
    "b = int(input(\"enter a second number:\"))\n",
    "total=0\n",
    "for i in range(a, b + 1):\n",
    "    total +=i\n",
    "    \n",
    "    if a > b:\n",
    "        a, b= b, a\n",
    "\n",
    "    print(\"Sum of numbers between a and b :\",total)\n"
   ]
  }
 ],
 "metadata": {
  "kernelspec": {
   "display_name": "Python 3 (ipykernel)",
   "language": "python",
   "name": "python3"
  },
  "language_info": {
   "codemirror_mode": {
    "name": "ipython",
    "version": 3
   },
   "file_extension": ".py",
   "mimetype": "text/x-python",
   "name": "python",
   "nbconvert_exporter": "python",
   "pygments_lexer": "ipython3",
   "version": "3.12.7"
  }
 },
 "nbformat": 4,
 "nbformat_minor": 5
}
