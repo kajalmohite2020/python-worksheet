{
 "cells": [
  {
   "cell_type": "code",
   "execution_count": 7,
   "id": "1f0a7f85-b6bc-4ffd-8cba-d822cd6ef5c6",
   "metadata": {},
   "outputs": [
    {
     "name": "stdout",
     "output_type": "stream",
     "text": [
      "natural numbers is:\n"
     ]
    },
    {
     "data": {
      "text/plain": [
       "15"
      ]
     },
     "execution_count": 7,
     "metadata": {},
     "output_type": "execute_result"
    }
   ],
   "source": [
    "#assignment no. 17\n",
    "#1. Write a recursive function to return the sum of first n natural numbers \n",
    "# ex: sum(5) = 5 + 4 + 3 + 2 + 1\n",
    "#Take the n (number) from user.\n",
    "\n",
    "def sum_natural(n):\n",
    "    if n == 1: \n",
    "        print(\"natural numbers is:\")\n",
    "        return 1\n",
    "    else:\n",
    "        return n + sum_natural(n - 1)\n",
    "\n",
    "sum_natural(5)\n"
   ]
  },
  {
   "cell_type": "code",
   "execution_count": 28,
   "id": "89654c0b-fdde-4c13-b3f3-4c778486bda8",
   "metadata": {},
   "outputs": [
    {
     "name": "stdin",
     "output_type": "stream",
     "text": [
      "Enter a number: 2\n",
      "Enter a number: 4\n"
     ]
    },
    {
     "data": {
      "text/plain": [
       "32"
      ]
     },
     "execution_count": 28,
     "metadata": {},
     "output_type": "execute_result"
    }
   ],
   "source": [
    "#2.Write a recursive function to calculate a ^ b without using exponent operator\n",
    "a=input(\"Enter a number:\")\n",
    "b=input(\"Enter a number:\")\n",
    "def cal(a, b):\n",
    "    if b == 0:\n",
    "        return 1\n",
    "    else:\n",
    "        return a * cal(a, b - 1)\n",
    "cal(2, 5)\n"
   ]
  },
  {
   "cell_type": "code",
   "execution_count": 1,
   "id": "5ba584a2-4be3-40ed-80f4-17b1054661f6",
   "metadata": {},
   "outputs": [
    {
     "name": "stdin",
     "output_type": "stream",
     "text": [
      "Enter a number: 1234\n"
     ]
    },
    {
     "name": "stdout",
     "output_type": "stream",
     "text": [
      "Count of digits is:\n"
     ]
    },
    {
     "data": {
      "text/plain": [
       "4"
      ]
     },
     "execution_count": 1,
     "metadata": {},
     "output_type": "execute_result"
    }
   ],
   "source": [
    "#3. Write a recursive function to count number of digits in the number entered by the user:\n",
    "#ex: if user enterd = 1234 - The count of the digit is 4  \n",
    "n = int(input(\"Enter a number:\"))\n",
    "def count_digit(n):\n",
    "    if n < 10 and n >= 0:\n",
    "        print(\"Count of digits is:\")\n",
    "        return 1\n",
    "    elif n < 0:\n",
    "        return count_digit(-n)\n",
    "    else:\n",
    "        return 1 + count_digit(n // 10)\n",
    "\n",
    "count_digit(n)"
   ]
  },
  {
   "cell_type": "code",
   "execution_count": 53,
   "id": "87e064cf-e26f-4bc5-8a0d-2e46d0219297",
   "metadata": {},
   "outputs": [],
   "source": [
    "#4.Write a python function for  two spheres (x1,y1,z1,r1) and (x2,y2,z2,r2), check whether the smaller lies completely inside the larger. "
   ]
  },
  {
   "cell_type": "code",
   "execution_count": 30,
   "id": "02bd362c-4832-46dd-9888-c2304bb80cf8",
   "metadata": {},
   "outputs": [
    {
     "name": "stdout",
     "output_type": "stream",
     "text": [
      "Perpendicular\n"
     ]
    }
   ],
   "source": [
    "#5. Write a python function for Perpendicular Vectors in 3D . Given vectors (a1,b1,c1) and (a2,b2,c2), check if Perpendicular (dot=0) or Not Perpendicular.    \n",
    "def check_perpendicular(a1, b1, c1, a2, b2, c2):\n",
    "    dot = a1*a2 + b1*b2 + c1*c2\n",
    "    if dot == 0:\n",
    "        print(\"Perpendicular\")\n",
    "    else:\n",
    "        print(\"Not Perpendicular\")\n",
    "\n",
    "check_perpendicular(1, 2, 3, 4, -8, 4)"
   ]
  },
  {
   "cell_type": "code",
   "execution_count": null,
   "id": "267d66f5-749f-479c-b787-f2a197f85bc4",
   "metadata": {},
   "outputs": [],
   "source": [
    "#6. Write a python function to Find LCM using Recursion \n"
   ]
  },
  {
   "cell_type": "code",
   "execution_count": 9,
   "id": "8c5843ec-d7ee-4eb1-9ef7-bc21ef44a034",
   "metadata": {},
   "outputs": [
    {
     "name": "stdout",
     "output_type": "stream",
     "text": [
      "12\n"
     ]
    }
   ],
   "source": [
    "#7.Write a python function to  Find GCD (Greatest Common Divisor) using recursion\n",
    "def gcd(a, b):\n",
    "    if b == 0:\n",
    "        return a\n",
    "    else:\n",
    "        return gcd(b, a % b)\n",
    "\n",
    "print(gcd(24, 36)) "
   ]
  },
  {
   "cell_type": "code",
   "execution_count": null,
   "id": "f0232168-1924-475f-ab29-7457b8b72724",
   "metadata": {},
   "outputs": [],
   "source": [
    "#8.Write a python function to Check if Number is Prime using recursion\n"
   ]
  },
  {
   "cell_type": "code",
   "execution_count": 20,
   "id": "9eecb6c2-e2eb-454d-b677-182274f2c354",
   "metadata": {},
   "outputs": [
    {
     "name": "stdin",
     "output_type": "stream",
     "text": [
      "Enter a number:  3456\n"
     ]
    },
    {
     "name": "stdout",
     "output_type": "stream",
     "text": [
      "Product of digits:\n"
     ]
    },
    {
     "data": {
      "text/plain": [
       "360"
      ]
     },
     "execution_count": 20,
     "metadata": {},
     "output_type": "execute_result"
    }
   ],
   "source": [
    "#9. Write a python function to find Product of Digits using recursion\n",
    "n = int(input(\"Enter a number: \"))\n",
    "def product_of_digits(n):\n",
    "        if n < 10:\n",
    "            print(\"Product of digits:\")\n",
    "            return n\n",
    "        else:\n",
    "            return (n % 10) * product_of_digits(n // 10)\n",
    "\n",
    "product_of_digits(n)"
   ]
  },
  {
   "cell_type": "code",
   "execution_count": 26,
   "id": "004e79aa-a345-4236-8c14-eb6fcca6babd",
   "metadata": {},
   "outputs": [
    {
     "name": "stdin",
     "output_type": "stream",
     "text": [
      "Enter a number:  1234\n"
     ]
    },
    {
     "name": "stdout",
     "output_type": "stream",
     "text": [
      "4\n",
      "3\n",
      "2\n",
      "1\n"
     ]
    }
   ],
   "source": [
    "#10. Write a python function to Print Number in Reverse using recursion.\n",
    "num = int(input(\"Enter a number: \"))\n",
    "def reverse_number(n):\n",
    "    if n < 10:\n",
    "        print(n)\n",
    "    else:\n",
    "        print(n % 10),reverse_number(n // 10)\n",
    "\n",
    "reverse_number(num)"
   ]
  },
  {
   "cell_type": "code",
   "execution_count": null,
   "id": "05c26ced-b148-4239-a528-7910f0cc928b",
   "metadata": {},
   "outputs": [],
   "source": []
  }
 ],
 "metadata": {
  "kernelspec": {
   "display_name": "Python 3 (ipykernel)",
   "language": "python",
   "name": "python3"
  },
  "language_info": {
   "codemirror_mode": {
    "name": "ipython",
    "version": 3
   },
   "file_extension": ".py",
   "mimetype": "text/x-python",
   "name": "python",
   "nbconvert_exporter": "python",
   "pygments_lexer": "ipython3",
   "version": "3.12.7"
  }
 },
 "nbformat": 4,
 "nbformat_minor": 5
}
