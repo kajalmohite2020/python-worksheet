{
 "cells": [
  {
   "cell_type": "code",
   "execution_count": 7,
   "id": "949954fc-cf17-4de9-8ec7-98612a6cf4de",
   "metadata": {},
   "outputs": [
    {
     "name": "stdout",
     "output_type": "stream",
     "text": [
      "Found Charlie!\n"
     ]
    }
   ],
   "source": [
    "#Assingment no.7\n",
    "#1.Given a list of names: [\"Alice\", \"Bob\", \"Charlie\", \"David\"], write a program that iterates through the list and prints \"Found Charlie!\" when \"Charlie\" is encountered, then exits the loop.\n",
    "\n",
    "names = [\"Alice\", \"Bob\", \"Charlie\", \"David\"]\n",
    "for name in names:\n",
    "    if name == \"Charlie\":\n",
    "        print(\"Found Charlie!\")\n",
    "        break\n"
   ]
  },
  {
   "cell_type": "code",
   "execution_count": 9,
   "id": "ea828591-e571-4d20-87ed-3c442f15fb2d",
   "metadata": {},
   "outputs": [
    {
     "name": "stdout",
     "output_type": "stream",
     "text": [
      "10\n",
      "20\n",
      "55\n"
     ]
    }
   ],
   "source": [
    "#2.Given a list of numbers: [10, 20, 33, 46, 55], write a program that only prints numbers divisible by 5. If a number is not divisible by 5, skip it using continue. \n",
    "num = [10,20,33,46,55]\n",
    "for n in num:\n",
    "    if n % 5 != 0:\n",
    "        continue\n",
    "    print(n)\n"
   ]
  },
  {
   "cell_type": "code",
   "execution_count": 11,
   "id": "1ddd2f9a-f950-4f0d-b6a5-a38d6f4fc908",
   "metadata": {},
   "outputs": [
    {
     "name": "stdout",
     "output_type": "stream",
     "text": [
      "1\n",
      "3\n",
      "5\n",
      "7\n",
      "9\n"
     ]
    }
   ],
   "source": [
    "#3.Given a list of numbers, e.g., [1, 2, 3, 4, 5, 6, 7, 8, 9, 10], write a program that:\n",
    "#Uses continue to skip even numbers.\n",
    "#Otherwise, it prints the odd numbers. \n",
    "numbers = [1, 2, 3, 4, 5, 6, 7, 8, 9, 10]\n",
    "for num in numbers:\n",
    "    if num % 2 == 0:    \n",
    "        continue\n",
    "    print(num)"
   ]
  },
  {
   "cell_type": "code",
   "execution_count": 13,
   "id": "f0e90158-dda6-4927-879f-2aa55e4f8cef",
   "metadata": {},
   "outputs": [
    {
     "name": "stdout",
     "output_type": "stream",
     "text": [
      "1\n",
      "2\n",
      "3\n",
      "4\n",
      "5\n",
      "6\n"
     ]
    }
   ],
   "source": [
    "#Uses break to exit the loop if a number greater than 7 is encountered.\n",
    "for num in numbers:\n",
    "    if num >= 7:\n",
    "        break\n",
    "    print(num)"
   ]
  },
  {
   "cell_type": "code",
   "execution_count": 15,
   "id": "6817bced-b323-4f04-9970-10b3477c919a",
   "metadata": {},
   "outputs": [
    {
     "name": "stdout",
     "output_type": "stream",
     "text": [
      "10\n",
      "20\n",
      "0\n",
      "30\n",
      "40\n"
     ]
    }
   ],
   "source": [
    "#4.You have a list of numbers: data = [10, -5, 20, 0, 30, -15, 40]. Write a program that iterates through this list:\n",
    "#If a number is negative, use continue to skip it.\n",
    "#Otherwise, print the square of the number. \n",
    "data= [10,-5,20,0,30,-15,40]\n",
    "for n in data:\n",
    "    if n < 0:\n",
    "        continue\n",
    "    print(n)"
   ]
  },
  {
   "cell_type": "code",
   "execution_count": 17,
   "id": "ead06de3-19d1-42be-bf69-c1dd9559f80b",
   "metadata": {},
   "outputs": [
    {
     "name": "stdout",
     "output_type": "stream",
     "text": [
      "10\n",
      "-5\n",
      "20\n"
     ]
    }
   ],
   "source": [
    "#If a number is 0, use break to exit the loop entirely.\n",
    "for n in data:\n",
    "    if n == 0:\n",
    "        break\n",
    "    print(n)\n"
   ]
  },
  {
   "cell_type": "code",
   "execution_count": 19,
   "id": "e61009e0-b6b3-4aea-a080-60fe89713711",
   "metadata": {},
   "outputs": [
    {
     "name": "stdout",
     "output_type": "stream",
     "text": [
      "100\n",
      "25\n",
      "400\n",
      "0\n",
      "900\n",
      "225\n",
      "1600\n"
     ]
    }
   ],
   "source": [
    "#Otherwise, print the square of the number.\n",
    "for n in data:\n",
    "    print(n * n)"
   ]
  },
  {
   "cell_type": "code",
   "execution_count": 25,
   "id": "96af51da-f157-422e-98c8-83717f1472c8",
   "metadata": {},
   "outputs": [
    {
     "name": "stdin",
     "output_type": "stream",
     "text": [
      "Enter a positive number:  -6\n"
     ]
    },
    {
     "name": "stdout",
     "output_type": "stream",
     "text": [
      "Error: Please enter a positive number!\n"
     ]
    },
    {
     "name": "stdin",
     "output_type": "stream",
     "text": [
      "Enter a positive number:  67\n"
     ]
    },
    {
     "name": "stdout",
     "output_type": "stream",
     "text": [
      "Valid positive number received\n"
     ]
    }
   ],
   "source": [
    "#5.Write a while loop that continues to prompt the user to enter a positive number. If the user enters a non-positive number or invalid input (like text), print an error message and use continue to ask again. Only accept positive numbers and use break once a valid positive number is received. \n",
    "num=0\n",
    "while num <= 0:\n",
    "    num = int(input(\"Enter a positive number: \"))\n",
    "    if num > 0:\n",
    "        print(\"Valid positive number received!\", )\n",
    "        break\n",
    "    else:\n",
    "        print(\"Error: Please enter a positive number!\")"
   ]
  },
  {
   "cell_type": "code",
   "execution_count": 5,
   "id": "e303d7a6-f01f-4a80-a188-d20fb4867d47",
   "metadata": {},
   "outputs": [
    {
     "name": "stdout",
     "output_type": "stream",
     "text": [
      "85 Pass\n",
      "92 Pass\n",
      "78 Pass\n",
      "65 Fail\n",
      "95 Pass\n",
      "70 Pass\n",
      "Warning: Invalid score found, skipping...\n",
      "88 Pass\n",
      "55 Fail\n",
      "Perfect Score!\n"
     ]
    }
   ],
   "source": [
    "#6.You have a list of student scores: scores = [85, 92, 78, 65, 95, 70, -1, 88, 55, 100].Iterate through the list:\n",
    "#If a score is negative, consider it an invalid entry, print a warning message, and use continue to skip it.\n",
    "#If a score is 100, print \"Perfect Score!\" and use break to stop further processing (assuming you only need to acknowledge the first perfect score).\n",
    "#Otherwise, print the score and indicate if it's a passing score (70 or above) or a failing score.\n",
    "scores = [85,92,78,65,95,70,-1,88,55,100]\n",
    "for s in scores:\n",
    "    if s < 0:\n",
    "        print(\"Warning: Invalid score found, skipping...\")\n",
    "        continue    \n",
    "    if s == 100:\n",
    "        print(\"Perfect Score!\")\n",
    "        break\n",
    "    if s >= 70:\n",
    "        print(s,\"Pass\")\n",
    "    else:\n",
    "        print(s,\"Fail\")"
   ]
  },
  {
   "cell_type": "code",
   "execution_count": null,
   "id": "eb217214-5b3c-4e63-b206-8a8412bec23b",
   "metadata": {},
   "outputs": [],
   "source": []
  }
 ],
 "metadata": {
  "kernelspec": {
   "display_name": "Python 3 (ipykernel)",
   "language": "python",
   "name": "python3"
  },
  "language_info": {
   "codemirror_mode": {
    "name": "ipython",
    "version": 3
   },
   "file_extension": ".py",
   "mimetype": "text/x-python",
   "name": "python",
   "nbconvert_exporter": "python",
   "pygments_lexer": "ipython3",
   "version": "3.12.7"
  }
 },
 "nbformat": 4,
 "nbformat_minor": 5
}
