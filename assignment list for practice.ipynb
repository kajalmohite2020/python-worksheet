{
 "cells": [
  {
   "cell_type": "code",
   "execution_count": 11,
   "id": "ad4628a2-a4b4-4635-81f1-f9a9642b2b4b",
   "metadata": {},
   "outputs": [
    {
     "name": "stdout",
     "output_type": "stream",
     "text": [
      "maximum is: 30\n"
     ]
    }
   ],
   "source": [
    "#practice program\n",
    "#1.Write a python program to Find the maximum number in a list.\n",
    "num=[2,4,6,1,11,30]\n",
    "maximum = num[0]\n",
    "for i in num:\n",
    "    if i> maximum:\n",
    "        maximum = i\n",
    "print(\"maximum is:\",maximum)"
   ]
  },
  {
   "cell_type": "code",
   "execution_count": 17,
   "id": "4edefa20-b803-4042-a302-82beacc6b8cb",
   "metadata": {},
   "outputs": [
    {
     "name": "stdout",
     "output_type": "stream",
     "text": [
      "Number of strings containing 'a': 3\n"
     ]
    }
   ],
   "source": [
    "#2.Write a python program to Count how many strings contain the letter ‘a' in a list of strings.\n",
    "words = [\"pune\", \"mumbai\", \"solapur\", \"ratnagiri\"]\n",
    "count = 0\n",
    "for word in words:\n",
    "    if 'a' in word:\n",
    "        count += 1\n",
    "print(\"Number of strings containing 'a':\",count)"
   ]
  },
  {
   "cell_type": "code",
   "execution_count": null,
   "id": "28e66a48-46cb-457e-a0f3-bb5f4b15368e",
   "metadata": {},
   "outputs": [],
   "source": [
    "#3.Write a python program to Find numbers which are squares of other numbers from a list of numbers from a list of numbers.\n"
   ]
  },
  {
   "cell_type": "code",
   "execution_count": null,
   "id": "6718c15a-fa28-4bc6-bc22-d290b600a152",
   "metadata": {},
   "outputs": [],
   "source": [
    "#4.Write a python program to Find all prime numbers from a list\n"
   ]
  },
  {
   "cell_type": "code",
   "execution_count": 7,
   "id": "06ec65b4-b3d4-4446-b278-632e6b6d0ccb",
   "metadata": {},
   "outputs": [
    {
     "name": "stdout",
     "output_type": "stream",
     "text": [
      "the vowel in city: pune 2\n",
      "the vowel in city: mumbai 3\n",
      "the vowel in city: solapur 3\n",
      "the vowel in city: ratnagiri 4\n"
     ]
    }
   ],
   "source": [
    "#5.Write a python program to Count vowels in each string of a list\n",
    "city = [\"pune\", \"mumbai\", \"solapur\", \"ratnagiri\"]\n",
    "for word in city:\n",
    "    count = 0\n",
    "    for ch in word:          \n",
    "        if ch in \"aeiou\":    \n",
    "            count += 1\n",
    "    print(\"the vowel in city:\",word,count)"
   ]
  },
  {
   "cell_type": "code",
   "execution_count": 9,
   "id": "2776394f-e83a-454e-bece-bcfa71b06697",
   "metadata": {},
   "outputs": [
    {
     "name": "stdout",
     "output_type": "stream",
     "text": [
      "The smallest number is: 1\n"
     ]
    }
   ],
   "source": [
    "#6.Write a python program to Find the smallest number in a list\n",
    "num=[2,4,6,1,11,30]\n",
    "smallest = num[0]\n",
    "for i in num:\n",
    "    if i< smallest:\n",
    "        smallest = i\n",
    "print(\"The smallest number is:\",smallest)"
   ]
  },
  {
   "cell_type": "code",
   "execution_count": 19,
   "id": "2f16ad14-a146-4595-9f56-44a8a04351b8",
   "metadata": {},
   "outputs": [
    {
     "name": "stdout",
     "output_type": "stream",
     "text": [
      "Average of even numbers: 5.0\n"
     ]
    }
   ],
   "source": [
    "#7.Write a python program to Find the average of even numbers only from a list\n",
    "num = [6,4,3,8,2,9,1,5]\n",
    "total = 0\n",
    "count = 0\n",
    "for i in num:\n",
    "    if i%2 == 0:\n",
    "        total +=i\n",
    "        count +=1\n",
    "avg= total/count\n",
    "print(\"Average of even numbers:\",avg)"
   ]
  },
  {
   "cell_type": "code",
   "execution_count": 21,
   "id": "0655f41a-a2b9-47ab-9412-e0bf9cc1689e",
   "metadata": {},
   "outputs": [
    {
     "name": "stdout",
     "output_type": "stream",
     "text": [
      "Product of even numbers: 10\n",
      "Sum of odd numbers: 7\n"
     ]
    }
   ],
   "source": [
    "#8.Write a python program to Find the product of even numbers and reduction of odd numbers in a list\n",
    "numbers = [2, 5, 8, 11, 14, 7, 10]\n",
    "product_even = 1  \n",
    "reduction_odd = 0        \n",
    "for n in numbers:\n",
    "    if n % 2 == 0:     \n",
    "        p = product_even * n\n",
    "    else:                \n",
    "        r = reduction_odd + n\n",
    "print(\"Product of even numbers:\", p)\n",
    "print(\"Sum of odd numbers:\",r)"
   ]
  },
  {
   "cell_type": "code",
   "execution_count": 59,
   "id": "75ab8593-e862-445d-b1ff-fdcd438c3ee8",
   "metadata": {},
   "outputs": [
    {
     "name": "stdout",
     "output_type": "stream",
     "text": [
      "Merged list is: [2, 5, 4, 7, 10, 1, 6, 8, 3, 11, 12]\n"
     ]
    }
   ],
   "source": [
    "#9.Write a python program to Merge two lists without duplicates\n",
    "num1 = [2,5,4,7,2,10]\n",
    "num2 = [1,6,8,3,6,11,12] \n",
    "merge = []\n",
    "for a in num1 + num2 :\n",
    "    if a not in merge:\n",
    "        merge += [a]\n",
    "print(\"Merged list is:\",merge)"
   ]
  },
  {
   "cell_type": "code",
   "execution_count": 91,
   "id": "893de3d6-b0dd-4129-b798-83b3010dbf90",
   "metadata": {},
   "outputs": [
    {
     "name": "stdout",
     "output_type": "stream",
     "text": [
      "The difference between the largest and smallest number in a list is: 9\n"
     ]
    }
   ],
   "source": [
    "#10.Write a python program to Find the difference between the largest and smallest number in a list\n",
    "num = [5, 8, 4, 2, 9, 1, 10, 3, 7]\n",
    "l = num[0]\n",
    "s = num[0]\n",
    "for i in num:\n",
    "    if i > l:\n",
    "        l = i\n",
    "    elif i < s:\n",
    "        s = i\n",
    "n = l - s\n",
    "print(\"The difference between the largest and smallest number in a list is:\", n)"
   ]
  },
  {
   "cell_type": "code",
   "execution_count": null,
   "id": "4b361b1b-329d-46b6-9076-60d87016c8cc",
   "metadata": {},
   "outputs": [],
   "source": []
  }
 ],
 "metadata": {
  "kernelspec": {
   "display_name": "Python 3 (ipykernel)",
   "language": "python",
   "name": "python3"
  },
  "language_info": {
   "codemirror_mode": {
    "name": "ipython",
    "version": 3
   },
   "file_extension": ".py",
   "mimetype": "text/x-python",
   "name": "python",
   "nbconvert_exporter": "python",
   "pygments_lexer": "ipython3",
   "version": "3.12.7"
  }
 },
 "nbformat": 4,
 "nbformat_minor": 5
}
