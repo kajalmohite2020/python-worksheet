{
 "cells": [
  {
   "cell_type": "code",
   "execution_count": 39,
   "id": "58b26072-82f2-4181-9ea3-7e7d33be3c9c",
   "metadata": {},
   "outputs": [
    {
     "name": "stdin",
     "output_type": "stream",
     "text": [
      "Enter first number:  2\n",
      "Enter first number:  4\n"
     ]
    },
    {
     "name": "stdout",
     "output_type": "stream",
     "text": [
      "greater number:  4\n"
     ]
    }
   ],
   "source": [
    "#Assignment no.1\n",
    "#1.Write a Python program that takes two numbers and prints which number is greater.\n",
    "num1=int(input(\"Enter first number: \"))\n",
    "num2=int(input(\"Enter first number: \"))\n",
    "\n",
    "if num1>num2:\n",
    "    print(\"greater number: \",num1)\n",
    "else:\n",
    "    print(\"greater number: \",num2)"
   ]
  },
  {
   "cell_type": "code",
   "execution_count": 43,
   "id": "38519792-58c0-41d2-ba9e-35d634bdd382",
   "metadata": {},
   "outputs": [
    {
     "name": "stdin",
     "output_type": "stream",
     "text": [
      "Enter a number: 23\n"
     ]
    },
    {
     "name": "stdout",
     "output_type": "stream",
     "text": [
      "This is a positive number\n"
     ]
    }
   ],
   "source": [
    "#2.Write a Python program that checks whether a number is positive, negative, or zero.\n",
    "a=int(input(\"Enter a number:\"))\n",
    "if a > 0:\n",
    "    print(\"This is a positive number\")\n",
    "elif a < 0:\n",
    "    print(\"This is a negative number\")\n",
    "else:\n",
    "    print(\"This is zero\")"
   ]
  },
  {
   "cell_type": "code",
   "execution_count": 45,
   "id": "d690364e-d36f-47f8-b198-f3bfa6d1dbec",
   "metadata": {},
   "outputs": [
    {
     "name": "stdin",
     "output_type": "stream",
     "text": [
      "Enter your mark 34\n"
     ]
    },
    {
     "name": "stdout",
     "output_type": "stream",
     "text": [
      "Fail\n"
     ]
    }
   ],
   "source": [
    "#3.Write a Python program to assign grades based on the marks entered using conditional statements.\n",
    "marks = int(input(\"Enter your mark\"))\n",
    "if marks >=90:\n",
    "    print(\"Grade A+\")\n",
    "elif marks >=80:\n",
    "    print(\"Grade B+\")\n",
    "elif marks >=70:\n",
    "    print(\"Grade C+\")\n",
    "elif  marks >=65:\n",
    "    print(\"Grade B+\")\n",
    "elif  marks >=60:\n",
    "    print(\"Grade C+\")\n",
    "elif marks >=50:\n",
    "    print(\"Grade D+\")\n",
    "else:\n",
    "    print(\"Fail\")"
   ]
  },
  {
   "cell_type": "code",
   "execution_count": 47,
   "id": "5356b6a7-e9f3-4532-bb06-a6b5734d9f1c",
   "metadata": {},
   "outputs": [
    {
     "name": "stdin",
     "output_type": "stream",
     "text": [
      "Enter a single alphabet: a\n"
     ]
    },
    {
     "name": "stdout",
     "output_type": "stream",
     "text": [
      "is a vowel.\n"
     ]
    }
   ],
   "source": [
    "#4.Write a Python program to check whether a given character is a vowel or a consonant.\n",
    "char = input(\"Enter a single alphabet:\")\n",
    "if char in \"aeiou\":\n",
    "    print(\"is a vowel.\")\n",
    "else:\n",
    "    print(\"is a consonant.\")\n"
   ]
  },
  {
   "cell_type": "code",
   "execution_count": 49,
   "id": "372072de-9707-4a5c-b7fd-c3a728cee8f3",
   "metadata": {},
   "outputs": [
    {
     "name": "stdin",
     "output_type": "stream",
     "text": [
      "Enter a number:  23\n"
     ]
    },
    {
     "name": "stdout",
     "output_type": "stream",
     "text": [
      "This a number not lies between 10 and 20 (exclusive)\n"
     ]
    }
   ],
   "source": [
    "#5.Write a Python program that checks if a number lies between 10 and 20 (exclusive).\n",
    "a = int(input(\"Enter a number: \"))\n",
    "if 10< a <20:\n",
    "    print(\"This a number a lies between 10 and 20 (exclusive)\")\n",
    "else:\n",
    "     print(\"This a number not lies between 10 and 20 (exclusive)\")\n",
    "    \n"
   ]
  },
  {
   "cell_type": "code",
   "execution_count": 51,
   "id": "2be316ee-131d-4b15-bd88-2878faaefe97",
   "metadata": {},
   "outputs": [
    {
     "name": "stdin",
     "output_type": "stream",
     "text": [
      "Enter the year:  2020\n"
     ]
    },
    {
     "name": "stdout",
     "output_type": "stream",
     "text": [
      "The entered year is a leap year\n"
     ]
    }
   ],
   "source": [
    "#6. Write a Python program to check if a given year is a leap year.\n",
    "year = int(input(\"Enter the year: \"))\n",
    "if year % 4 == 0:\n",
    "    print(\"The entered year is a leap year\")\n",
    "else:\n",
    "    print(\"The entered year is not a leap year\")"
   ]
  },
  {
   "cell_type": "code",
   "execution_count": 53,
   "id": "eb0c0b79-1ea3-4930-b8fb-4ea08fc9cc1a",
   "metadata": {},
   "outputs": [
    {
     "name": "stdin",
     "output_type": "stream",
     "text": [
      "Enter username:  kajal\n",
      "Enter password:  1234\n"
     ]
    },
    {
     "name": "stdout",
     "output_type": "stream",
     "text": [
      "Login successful.\n"
     ]
    }
   ],
   "source": [
    "#7. Write a Python program that validates a login using a predefined username and password.\n",
    "username = \"kajal\"\n",
    "password = \"1234\"\n",
    "a = input(\"Enter username: \")\n",
    "b = input(\"Enter password: \")\n",
    "if a == username and b == password:\n",
    "    print(\"Login successful.\")\n",
    "elif a !=username:\n",
    "    print(\"Invalid username.\")\n",
    "else:\n",
    "    print(\"Invalid password.\")   "
   ]
  },
  {
   "cell_type": "code",
   "execution_count": 55,
   "id": "2b37146a-9a72-4091-8db7-a0447779b168",
   "metadata": {},
   "outputs": [
    {
     "name": "stdin",
     "output_type": "stream",
     "text": [
      "Enter first number:  3\n",
      "Enter second number:  6\n",
      "Enter operator :  7\n"
     ]
    },
    {
     "name": "stdout",
     "output_type": "stream",
     "text": [
      "Invalid operator\n"
     ]
    }
   ],
   "source": [
    "#8.Write a Python program that works as a basic calculator (supports +, -, *, /).\n",
    "\n",
    "a = int(input(\"Enter first number: \"))\n",
    "b = int(input(\"Enter second number: \"))\n",
    "Op = input(\"Enter operator : \")\n",
    "if Op == '+':\n",
    "    print(a + b)\n",
    "elif Op== '-':\n",
    "    print(a - b)\n",
    "elif Op== '*':\n",
    "    print(a * b)\n",
    "elif Op== '/':\n",
    "    print(a / b)\n",
    "else:\n",
    "    print(\"Invalid operator\") "
   ]
  },
  {
   "cell_type": "code",
   "execution_count": 57,
   "id": "21375284-222a-4486-a077-7ff0f0daddac",
   "metadata": {},
   "outputs": [
    {
     "name": "stdin",
     "output_type": "stream",
     "text": [
      "Enter your age:  21\n"
     ]
    },
    {
     "name": "stdout",
     "output_type": "stream",
     "text": [
      "your are a adult.\n"
     ]
    }
   ],
   "source": [
    "#9.Write a Python program that assigns a category (Child, Teen, Adult, Senior) based on age.\n",
    "age = int(input(\"Enter your age: \"))\n",
    "if age < 12:\n",
    "    print(\"your are a child.\")\n",
    "elif age < 20:\n",
    "    print(\"your are a teen.\")\n",
    "elif age < 60:\n",
    "    print(\"your are a adult.\")\n",
    "elif age >61:\n",
    "    print(\"your are a senior.\")\n",
    "else:\n",
    "    print(\"please enter currect age\")\n",
    "          "
   ]
  },
  {
   "cell_type": "code",
   "execution_count": 59,
   "id": "eca2b4d0-5394-4892-bfaf-3b714b126ba1",
   "metadata": {},
   "outputs": [
    {
     "name": "stdin",
     "output_type": "stream",
     "text": [
      "enter the side1 of the triangle:  300\n",
      "enter the side2 of the triangle:  200\n",
      "enter the side3 of the triangle:  201\n"
     ]
    },
    {
     "name": "stdout",
     "output_type": "stream",
     "text": [
      "The triangle is scalene triangle\n"
     ]
    }
   ],
   "source": [
    "#10. Write a Python program that checks the type of triangle based on the sides (Equilateral, Isosceles, Scalene).\n",
    "s1 = int(input(\"enter the side1 of the triangle: \"))\n",
    "s2 = int(input(\"enter the side2 of the triangle: \"))\n",
    "s3 = int(input(\"enter the side3 of the triangle: \"))\n",
    "\n",
    "if s1 == s2 and s2 == s3:\n",
    "    print(\"The triangle is an equalateral triangle\")\n",
    "elif s1 == s2 or s2 == s3 or s3 == s1:\n",
    "    print(\"The triangle is an Isoceles triangle\")\n",
    "elif s1 != s2 and s3 != s2 and s1 != s3:\n",
    "    print(\"The triangle is scalene triangle\")\n",
    "else:\n",
    "    print(\"please enter a currect side\")\n",
    "\n"
   ]
  },
  {
   "cell_type": "code",
   "execution_count": 37,
   "id": "23eeb5b4-6785-4fda-892b-e7460ba7c646",
   "metadata": {},
   "outputs": [
    {
     "name": "stdin",
     "output_type": "stream",
     "text": [
      "Enter a number:  2\n",
      "Enter a number:  4\n",
      "Enter a number:  5\n",
      "Enter a number:  6\n",
      "Enter a number:  7\n"
     ]
    },
    {
     "name": "stdout",
     "output_type": "stream",
     "text": [
      "Add the to list: [1, 3, 7, 5, 9]\n"
     ]
    }
   ],
   "source": [
    "# assingmnet no.2\n",
    "#1.Take 5 numbers from user, add them to a list and for each odd number add +2 and even number substract -1\n",
    "numbers = [0] * 5  \n",
    "\n",
    "for i in range(5):\n",
    "    a = int(input(\"Enter a number: \"))\n",
    "    if a % 2 == 0: \n",
    "        a -= 1\n",
    "    else:  \n",
    "        a += 2\n",
    "    numbers[i] = a  \n",
    "\n",
    "print(\"Add the to list:\",numbers)\n"
   ]
  },
  {
   "cell_type": "code",
   "execution_count": 23,
   "id": "724c5192-8889-4e01-9253-bcc93a399397",
   "metadata": {},
   "outputs": [
    {
     "name": "stdin",
     "output_type": "stream",
     "text": [
      "Enter a number: 4\n"
     ]
    },
    {
     "name": "stdout",
     "output_type": "stream",
     "text": [
      "not both condition satified\n"
     ]
    }
   ],
   "source": [
    "#2.Given a list of numbers, calculate the sum of all elements that are greater than 50 or divisible by 3, but not both.\n",
    "a = int(input(\"Enter a number:\"))\n",
    "if a >= 50 or a % 3 == 0:\n",
    "    print(\"number is greater than 50 or divisible by 3\")\n",
    "else:\n",
    "    print(\"not both condition satified\")"
   ]
  },
  {
   "cell_type": "code",
   "execution_count": 63,
   "id": "0a0b490c-2798-4aee-ab24-90814d78f508",
   "metadata": {},
   "outputs": [
    {
     "name": "stdin",
     "output_type": "stream",
     "text": [
      "Enter year:  2020\n"
     ]
    },
    {
     "name": "stdout",
     "output_type": "stream",
     "text": [
      "Leap year\n"
     ]
    }
   ],
   "source": [
    "#3. Given a year, check whether it's a leap year.Take the year from the user.\n",
    "y = int(input(\"Enter year: \"))\n",
    "if y % 4 == 0 :\n",
    "    print(\"Leap year\")\n",
    "else:\n",
    "    print(\"Not leap year\")"
   ]
  },
  {
   "cell_type": "code",
   "execution_count": 1,
   "id": "7ec6ff45-6828-46f2-825f-4b70d1382f93",
   "metadata": {},
   "outputs": [
    {
     "name": "stdin",
     "output_type": "stream",
     "text": [
      "Enter the principal amount:  34\n",
      "Enter the rate of interest :  45\n",
      "Enter the time :  67\n"
     ]
    },
    {
     "name": "stdout",
     "output_type": "stream",
     "text": [
      "The simple interest is: 1025.1\n"
     ]
    }
   ],
   "source": [
    "#4.Take principal, rate, and time as input, and calculate simple interest.\n",
    "principal = float(input(\"Enter the principal amount: \"))\n",
    "rate = float(input(\"Enter the rate of interest : \"))\n",
    "time = float(input(\"Enter the time : \"))\n",
    "\n",
    "simple_interest = (principal * rate * time) / 100\n",
    "\n",
    "print(\"The simple interest is:\", simple_interest)"
   ]
  },
  {
   "cell_type": "code",
   "execution_count": 5,
   "id": "e431f5b8-d5aa-4db6-93e3-1667db09db62",
   "metadata": {},
   "outputs": [
    {
     "name": "stdin",
     "output_type": "stream",
     "text": [
      "Enter a positive integer:  34\n"
     ]
    },
    {
     "name": "stdout",
     "output_type": "stream",
     "text": [
      "The sum of squares from 1 to n is: 13685\n"
     ]
    }
   ],
   "source": [
    "#5.Take n, and compute the sum of squares: 1² + 2² + 3² + ... + n²\n",
    "\n",
    "n = int(input(\"Enter a positive integer: \"))\n",
    "sum_of_squares = 0\n",
    "\n",
    "for i in range(1, n + 1):\n",
    "    sum_of_squares += i ** 2\n",
    "\n",
    "print(\"The sum of squares from 1 to n is:\", sum_of_squares)\n"
   ]
  },
  {
   "cell_type": "code",
   "execution_count": 19,
   "id": "a921b06c-5c04-4eb3-9964-0588d7277e28",
   "metadata": {},
   "outputs": [
    {
     "name": "stdin",
     "output_type": "stream",
     "text": [
      "Enter a number between 1 and 100:  3\n"
     ]
    },
    {
     "name": "stdout",
     "output_type": "stream",
     "text": [
      "Odd numbers:\n",
      "1\n",
      "3\n",
      "Less than 50\n"
     ]
    }
   ],
   "source": [
    "#6.Write a Python program that asks the user to enter a number between 1 and 100. Then the program should: \n",
    "\n",
    "#- Check if the number is even or odd using a conditional statement\n",
    "\n",
    "#- If the number is even, print all even numbers from 2 to that number using a loop.\n",
    "\n",
    "#- If the number is odd, print all odd numbers from 1 to that number using a loop.\n",
    "\n",
    "#Finally, print whether the number is greater than, less than, or equal to 50 using comparison operators.\n",
    "\n",
    "\n",
    "n = int(input(\"Enter a number between 1 and 100: \"))\n",
    "\n",
    "if n % 2 == 0:\n",
    "    print(\"Even numbers:\")\n",
    "    for i in range(2, n+1, 2):\n",
    "        print(i)\n",
    "else:\n",
    "    print(\"Odd numbers:\")\n",
    "    for i in range(1, n+1, 2):\n",
    "        print(i)\n",
    "\n",
    "if n > 50:\n",
    "    print(\"Greater than 50\")\n",
    "elif n < 50:\n",
    "    print(\"Less than 50\")\n",
    "else:\n",
    "    print(\"Equal to 50\")"
   ]
  },
  {
   "cell_type": "code",
   "execution_count": 7,
   "id": "c19034ad-6a47-4311-9909-378326ddfbbe",
   "metadata": {},
   "outputs": [
    {
     "name": "stdin",
     "output_type": "stream",
     "text": [
      "Enter a number:  34\n"
     ]
    },
    {
     "name": "stdout",
     "output_type": "stream",
     "text": [
      "4\n"
     ]
    }
   ],
   "source": [
    "#7. Ask the user to enter a number. Find the sum of all even digits in that number.\n",
    "#Example: 2468 → 2 + 4 + 6 + 8 = 20\n",
    "num = input(\"Enter a number: \")\n",
    "even_digit = 0\n",
    "for i in num:\n",
    "    i = int(i)   \n",
    "    if i % 2 == 0:\n",
    "        even_digit += i\n",
    "print(even_digit)"
   ]
  },
  {
   "cell_type": "code",
   "execution_count": 9,
   "id": "e0865e07-296f-4536-9dda-fc677b1cf103",
   "metadata": {},
   "outputs": [
    {
     "name": "stdin",
     "output_type": "stream",
     "text": [
      "Enter a number:  34\n"
     ]
    },
    {
     "name": "stdout",
     "output_type": "stream",
     "text": [
      "306\n"
     ]
    }
   ],
   "source": [
    "#8. Write a Python program to calculate the sum of all even numbers between 1 and a number entered by the user.\n",
    "n = int(input(\"Enter a number: \"))\n",
    "s = 0\n",
    "for i in range(1, n+1):\n",
    "    if i % 2 == 0:\n",
    "        s += i\n",
    "print(s)\n"
   ]
  },
  {
   "cell_type": "code",
   "execution_count": 11,
   "id": "fd0daa29-c4e8-426e-8ef2-b8101444f45f",
   "metadata": {},
   "outputs": [
    {
     "name": "stdin",
     "output_type": "stream",
     "text": [
      "how many numbers? 5\n",
      "Enter number: 758\n",
      "Enter number: 34\n",
      "Enter number: 456\n",
      "Enter number: 453\n",
      "Enter number: 345\n"
     ]
    },
    {
     "name": "stdout",
     "output_type": "stream",
     "text": [
      "sum: 2046.0\n",
      "Average: 409.2\n"
     ]
    }
   ],
   "source": [
    "# 9.Ask the user how many numbers they want to enter (n). Accept n numbers, then print their total sum and average.\n",
    "n=int(input(\"how many numbers?\" ))\n",
    "total=0\n",
    "for i in range(n):\n",
    "    total+=float(input(\"Enter number:\"))\n",
    "avg=total/n\n",
    "print(\"sum:\",total)\n",
    "print(\"Average:\",avg)\n",
    "    "
   ]
  },
  {
   "cell_type": "code",
   "execution_count": 15,
   "id": "9ea7dcd5-add3-4cf1-b7ad-de719935134c",
   "metadata": {},
   "outputs": [
    {
     "name": "stdin",
     "output_type": "stream",
     "text": [
      "Enter total seconds: 45\n"
     ]
    },
    {
     "name": "stdout",
     "output_type": "stream",
     "text": [
      "0 minutes 45 seconds\n"
     ]
    }
   ],
   "source": [
    "#10.Ask the user to input a total number of seconds. Convert and print it as minutes and seconds.\n",
    "\n",
    "#Example: 130 seconds → 2 minutes, 10 seconds \n",
    "s = int(input(\"Enter total seconds:\"))\n",
    "m = s // 60\n",
    "s = s %  60\n",
    "print(m,\"minutes\",s,\"seconds\")"
   ]
  },
  {
   "cell_type": "code",
   "execution_count": 37,
   "id": "4ce67a99-10b0-4caf-9de6-1a64131e3a16",
   "metadata": {},
   "outputs": [
    {
     "name": "stdin",
     "output_type": "stream",
     "text": [
      "Enter total slices:  6\n",
      "Enter number of friends:  5\n"
     ]
    },
    {
     "name": "stdout",
     "output_type": "stream",
     "text": [
      "Each friend gets: 1.0\n",
      "Slices left: 1.0\n"
     ]
    }
   ],
   "source": [
    "#Assignment on.3\n",
    "#1.Pizza Slice Divider  Input total slices and number of friends. Calculate: How many slices each gets How many are left.\n",
    "\n",
    "slices = float(input(\"Enter total slices: \"))\n",
    "friends = float(input(\"Enter number of friends: \"))\n",
    "\n",
    "if friends > 0:\n",
    "    each = slices // friends       \n",
    "    print(\"Each friend gets:\", each)\n",
    "    left = slices % friends\n",
    "    print(\"Slices left:\", left)\n",
    "else:\n",
    "    print(\"Number of friends must be greater than 0\")\n"
   ]
  },
  {
   "cell_type": "code",
   "execution_count": 25,
   "id": "a873d725-e2c5-42e0-ad73-1150fc63e010",
   "metadata": {},
   "outputs": [
    {
     "name": "stdin",
     "output_type": "stream",
     "text": [
      " 45\n"
     ]
    },
    {
     "name": "stdout",
     "output_type": "stream",
     "text": [
      "1\n",
      "3\n",
      "5\n",
      "9\n",
      "15\n",
      "45\n"
     ]
    }
   ],
   "source": [
    "#2.Input a number. Print all numbers that divide it exactly (its factors).\n",
    "n = int(input())\n",
    "for i in range(1, n + 1):\n",
    "    if n % i == 0:\n",
    "        print(i)"
   ]
  },
  {
   "cell_type": "code",
   "execution_count": 39,
   "id": "b5637c1a-7450-4d96-bf01-e0bd865075a7",
   "metadata": {},
   "outputs": [
    {
     "name": "stdin",
     "output_type": "stream",
     "text": [
      "Enter a single digit (0-9):  3\n"
     ]
    },
    {
     "name": "stdout",
     "output_type": "stream",
     "text": [
      "Three\n"
     ]
    }
   ],
   "source": [
    "# 3.Ask for base and exponent. Calculate power using a loop.4.  Ask for a single digit (0–9). Print the digit in words (e.g., 5 → \"Five\").\n",
    "digit = int(input(\"Enter a single digit (0-9): \"))\n",
    "if digit == 0:\n",
    "    print(\"Zero\")\n",
    "elif digit == 1:\n",
    "    print(\"One\")\n",
    "elif digit == 2:\n",
    "    print(\"Two\")\n",
    "elif digit == 3:\n",
    "    print(\"Three\")\n",
    "elif digit == 4:\n",
    "    print(\"Four\")\n",
    "elif digit == 5:\n",
    "    print(\"Five\")\n",
    "elif digit == 6:\n",
    "    print(\"Six\")\n",
    "elif digit == 7:\n",
    "    print(\"Seven\")\n",
    "elif digit == 8:\n",
    "    print(\"Eight\")\n",
    "elif digit == 9:\n",
    "    print(\"Nine\")\n",
    "else:\n",
    "    print(\"Not a single digit\")"
   ]
  },
  {
   "cell_type": "code",
   "execution_count": 11,
   "id": "1eb8ac97-b68f-4b92-8ca6-402aa38b069b",
   "metadata": {},
   "outputs": [
    {
     "name": "stdin",
     "output_type": "stream",
     "text": [
      "Enter units used:  4567\n"
     ]
    },
    {
     "name": "stdout",
     "output_type": "stream",
     "text": [
      "Electricity Bill: rs 17868.0\n"
     ]
    }
   ],
   "source": [
    "#4. Electricity Bill Calculator\n",
    "#Ask for units used. Calculate & Display bill:\n",
    "#First 100 units: ₹1.5/unit\n",
    "#Next 100: ₹2.5/unit \n",
    "#Above 200: ₹4/unit\n",
    "\n",
    "u = int(input(\"Enter units used: \"))\n",
    "b = 0\n",
    "if u<= 100:\n",
    "    b = u * 1.5\n",
    "elif u <= 200:\n",
    "    b = 100 * 1.5 + (u - 100) * 2.5\n",
    "else:\n",
    "    b = 100 * 1.5 + 100 * 2.5 + (u - 200) * 4\n",
    "print(\"Electricity Bill: rs\",b)\n"
   ]
  },
  {
   "cell_type": "code",
   "execution_count": 21,
   "id": "4c527054-5b89-45e7-b047-36e161fff421",
   "metadata": {},
   "outputs": [
    {
     "name": "stdin",
     "output_type": "stream",
     "text": [
      "Enter a number:  3\n"
     ]
    },
    {
     "name": "stdout",
     "output_type": "stream",
     "text": [
      "Does not end with zero\n"
     ]
    }
   ],
   "source": [
    "#5. Ask for a number. If the last digit is 0, print \"Ends with zero\".\n",
    "a = int(input(\"Enter a number: \"))\n",
    "if a % 10 == 0:\n",
    "    print(\"Ends with zero\")\n",
    "else:\n",
    "    print(\"Does not end with zero\")"
   ]
  },
  {
   "cell_type": "code",
   "execution_count": 17,
   "id": "9bba0bb8-2e55-4bcd-a34e-6c1021640760",
   "metadata": {},
   "outputs": [
    {
     "name": "stdin",
     "output_type": "stream",
     "text": [
      "Enter a:  2\n",
      "Enter b:  4\n",
      "Enter c:  6\n",
      "Enter d:  6\n"
     ]
    },
    {
     "name": "stdout",
     "output_type": "stream",
     "text": [
      "Sum of c + d is greater\n"
     ]
    }
   ],
   "source": [
    "#6. Input 4 numbers: a, b, c, d.Compare sum of a + b with c + d. Print which sum is greater.\n",
    "a = int(input(\"Enter a: \"))\n",
    "b = int(input(\"Enter b: \"))\n",
    "c = int(input(\"Enter c: \"))\n",
    "d = int(input(\"Enter d: \"))\n",
    "sum1 = a + b  \n",
    "sum2 = c + d     \n",
    "if sum1 > sum2:\n",
    "    print(\"Sum of a + b is greater\")\n",
    "elif sum2 > sum1:\n",
    "    print(\"Sum of c + d is greater\")\n",
    "else:\n",
    "    print(\"sums both are equal\")"
   ]
  },
  {
   "cell_type": "code",
   "execution_count": 15,
   "id": "4e6b3548-03b0-4f35-87a9-8ebd33de0800",
   "metadata": {},
   "outputs": [
    {
     "name": "stdin",
     "output_type": "stream",
     "text": [
      "Enter a number: 23\n"
     ]
    },
    {
     "name": "stdout",
     "output_type": "stream",
     "text": [
      "Square is odd\n"
     ]
    }
   ],
   "source": [
    "#7.Check if Square of a Number is Even or Odd * Input a number. Calculate its square. Say whether it's even or odd\n",
    "n = int(input(\"Enter a number:\"))\n",
    "square = n * n\n",
    "if square % 2 == 0:\n",
    "    print(\"Square is even\")\n",
    "else:\n",
    "    print(\"Square is odd\")"
   ]
  },
  {
   "cell_type": "code",
   "execution_count": 29,
   "id": "3305eeba-9909-4825-bf36-dc3914a19af0",
   "metadata": {},
   "outputs": [
    {
     "name": "stdin",
     "output_type": "stream",
     "text": [
      "Enter a two digit number:  45\n"
     ]
    },
    {
     "name": "stdout",
     "output_type": "stream",
     "text": [
      "9\n"
     ]
    }
   ],
   "source": [
    "#8.Ask the user to enter a 2-digit number as a string (e.g., '45'). Convert each character to an integer and print their sum: 4 + 5 = 9.\n",
    "a = input(\"Enter a two digit number: \")\n",
    "sum_digits = 0\n",
    "for i in a:\n",
    "    sum_digits += int(i)\n",
    "print(sum_digits)"
   ]
  },
  {
   "cell_type": "code",
   "execution_count": 5,
   "id": "bf5ece1a-8cc2-4574-9584-b33690b9aaad",
   "metadata": {},
   "outputs": [
    {
     "name": "stdin",
     "output_type": "stream",
     "text": [
      "Enter a number:  34\n"
     ]
    },
    {
     "name": "stdout",
     "output_type": "stream",
     "text": [
      "2\n",
      "4\n",
      "6\n",
      "8\n",
      "10\n",
      "12\n",
      "14\n",
      "16\n",
      "18\n",
      "20\n",
      "22\n",
      "24\n",
      "26\n",
      "28\n",
      "30\n",
      "32\n",
      "34\n",
      "36\n",
      "38\n",
      "40\n",
      "42\n",
      "44\n",
      "46\n",
      "48\n",
      "50\n",
      "52\n",
      "54\n",
      "56\n",
      "58\n",
      "60\n",
      "62\n",
      "64\n",
      "66\n",
      "68\n"
     ]
    }
   ],
   "source": [
    "#9.Ask for a number n. Print the first n even numbers starting from 2.\n",
    "n = int(input(\"Enter a number: \"))\n",
    "for i in range(1, n + 1):\n",
    "    print(i * 2)"
   ]
  },
  {
   "cell_type": "code",
   "execution_count": 1,
   "id": "8f3c2b53-472f-410c-8686-d9102e8f6d82",
   "metadata": {},
   "outputs": [
    {
     "name": "stdin",
     "output_type": "stream",
     "text": [
      "Enter first number:  5\n",
      "Enter second number:  3\n",
      "Enter third number:  2\n"
     ]
    },
    {
     "name": "stdout",
     "output_type": "stream",
     "text": [
      "2\n"
     ]
    }
   ],
   "source": [
    "#10.Ask for 3 numbers. Print the smallest (using only if/elif/else).\n",
    "a = int(input(\"Enter first number: \"))\n",
    "b = int(input(\"Enter second number: \"))\n",
    "c = int(input(\"Enter third number: \"))\n",
    "\n",
    "if a < b and a < c:\n",
    "    print(a)\n",
    "elif b < a and b < c:\n",
    "    print(b)\n",
    "else:\n",
    "    print(c)"
   ]
  },
  {
   "cell_type": "code",
   "execution_count": 1,
   "id": "2e5c3441-3029-45e0-b0bd-09a6ab3b8b23",
   "metadata": {},
   "outputs": [
    {
     "name": "stdin",
     "output_type": "stream",
     "text": [
      "Enter length:  34\n",
      "Enter width:  23\n"
     ]
    },
    {
     "name": "stdout",
     "output_type": "stream",
     "text": [
      "Area = 782\n",
      "Perimeter = 114\n"
     ]
    }
   ],
   "source": [
    "#11.Input length and width. Print the area and perimeter.\n",
    "\n",
    "length = int(input(\"Enter length: \"))\n",
    "width = int(input(\"Enter width: \"))\n",
    "\n",
    "area = length * width\n",
    "print(\"Area =\", area)\n",
    "\n",
    "perimeter = 2 * (length + width)\n",
    "print(\"Perimeter =\", perimeter)\n"
   ]
  },
  {
   "cell_type": "code",
   "execution_count": 19,
   "id": "ab40f513-0d9f-4873-9e1b-d9b7d831f692",
   "metadata": {},
   "outputs": [
    {
     "name": "stdin",
     "output_type": "stream",
     "text": [
      "Enter a number:  345\n"
     ]
    },
    {
     "name": "stdout",
     "output_type": "stream",
     "text": [
      "345 is divided by 2  remainder is 1\n",
      "345 is divisible by 3 remainder is 0\n",
      "345 is divided by 4  remainder is 1\n",
      "345 is divisible by 5 remainder is 0\n"
     ]
    }
   ],
   "source": [
    "#12.Ask for a number. Print the remainder when divided by 2, 3, 4, and 5.\n",
    "\n",
    "num = int(input(\"Enter a number: \"))\n",
    "for i in [2, 3, 4, 5]:\n",
    "    rem = num % i\n",
    "    if rem == 0:\n",
    "        print(num, \"is divisible by\", i, \"remainder is 0\")\n",
    "    else:\n",
    "        print(num, \"is divided by\", i, \" remainder is\", rem)"
   ]
  },
  {
   "cell_type": "code",
   "execution_count": 27,
   "id": "2c94c1de-bdb1-41ab-ae6c-bda57f5aad7d",
   "metadata": {},
   "outputs": [
    {
     "name": "stdin",
     "output_type": "stream",
     "text": [
      "Enter first number:  3\n",
      "Enter second number:  5\n",
      "Enter third number:  7\n"
     ]
    },
    {
     "name": "stdout",
     "output_type": "stream",
     "text": [
      "The combined number is: 357\n"
     ]
    }
   ],
   "source": [
    "#13. Ask for 3 digits separately (like 4, 7, 2). Combine them into the number 472.\n",
    "d1 = input(\"Enter first number: \")\n",
    "d2 = input(\"Enter second number: \")\n",
    "d3 = input(\"Enter third number: \")\n",
    "\n",
    "if d1 and d2 and d3 :\n",
    "    number = d1 + d2 + d3\n",
    "    print(\"The combined number is:\", number)"
   ]
  },
  {
   "cell_type": "code",
   "execution_count": null,
   "id": "3c3ad83e-d5bd-4e2b-8986-36c40dc4cd24",
   "metadata": {},
   "outputs": [],
   "source": [
    "#Assignment no.4\n",
    "#1.Write a program to check whether the first and last digit of a number are equal (without converting to string).\n",
    "\n"
   ]
  },
  {
   "cell_type": "code",
   "execution_count": 31,
   "id": "e6ce3445-1285-40e1-8b3f-d61bc6aad22d",
   "metadata": {},
   "outputs": [
    {
     "name": "stdin",
     "output_type": "stream",
     "text": [
      "Enter temperature in °C:  45\n"
     ]
    },
    {
     "name": "stdout",
     "output_type": "stream",
     "text": [
      "Liquid\n"
     ]
    }
   ],
   "source": [
    "#2. Write a program to display “Solid”, “Liquid”, or “Gas” based on the temperature of water in °C.\n",
    "temp = float(input(\"Enter temperature in °C: \"))\n",
    "\n",
    "if temp <= 0:\n",
    "    print(\"Solid\")\n",
    "elif temp < 100:\n",
    "    print(\"Liquid\")\n",
    "else:\n",
    "    print(\"Gas\")"
   ]
  },
  {
   "cell_type": "code",
   "execution_count": 33,
   "id": "4afda697-f9ec-4c40-ad9a-7cc80d2157a5",
   "metadata": {},
   "outputs": [
    {
     "name": "stdin",
     "output_type": "stream",
     "text": [
      "Enter first number:  45\n",
      "Enter second number:  65\n"
     ]
    },
    {
     "name": "stdout",
     "output_type": "stream",
     "text": [
      "Both are odd\n"
     ]
    }
   ],
   "source": [
    "#3.Write a program to check whether both numbers are odd, both are even, or one of each.\n",
    "a = int(input(\"Enter first number: \"))\n",
    "b = int(input(\"Enter second number: \"))\n",
    "if a % 2 == 0 and b % 2 == 0:\n",
    "    print(\"Both are even\")\n",
    "elif a % 2 != 0 and b % 2 != 0:\n",
    "    print(\"Both are odd\")\n",
    "else:\n",
    "    print(\"One of each\")\n"
   ]
  },
  {
   "cell_type": "code",
   "execution_count": 75,
   "id": "1b416c6d-7491-4522-9064-a89d6dc9b215",
   "metadata": {},
   "outputs": [
    {
     "name": "stdin",
     "output_type": "stream",
     "text": [
      "Enter a number:  20\n"
     ]
    },
    {
     "name": "stdout",
     "output_type": "stream",
     "text": [
      "Closer to 20\n"
     ]
    }
   ],
   "source": [
    "#4.Write a program to check whether a number is closer to 10 or 20.\n",
    "\n",
    "a = int(input(\"Enter a number: \"))\n",
    "\n",
    "if a < 10:          \n",
    "    print(\"Closer to 10\")\n",
    "elif a > 15:        \n",
    "    print(\"Closer to 20\")\n",
    "else:               \n",
    "    print(\"Equally close to 10 and 20\")"
   ]
  },
  {
   "cell_type": "code",
   "execution_count": 77,
   "id": "935a77fa-65e4-42df-9bd9-95806d5ea6ee",
   "metadata": {},
   "outputs": [
    {
     "name": "stdin",
     "output_type": "stream",
     "text": [
      "Enter current balance:  120\n",
      "Enter amount to withdraw:  12\n"
     ]
    },
    {
     "name": "stdout",
     "output_type": "stream",
     "text": [
      "Withdrawal successful\n"
     ]
    }
   ],
   "source": [
    "#5.Write a program to check whether a person can withdraw an amount based on current balance.\n",
    "b = int(input(\"Enter current balance: \"))\n",
    "w = int(input(\"Enter amount to withdraw: \"))\n",
    "\n",
    "if w <= b:\n",
    "    print(\"Withdrawal successful\")\n",
    "else:\n",
    "    print(\"Insufficient balance\")\n"
   ]
  },
  {
   "cell_type": "code",
   "execution_count": 89,
   "id": "2aef4dc1-6e04-4714-a736-e8d95855427a",
   "metadata": {},
   "outputs": [
    {
     "name": "stdin",
     "output_type": "stream",
     "text": [
      "Enter a number:  25\n"
     ]
    },
    {
     "name": "stdout",
     "output_type": "stream",
     "text": [
      "Number ends with digit 5\n"
     ]
    }
   ],
   "source": [
    "#6.Write a program to check whether a given number ends with digit 0 or 5\n",
    "num = int(input(\"Enter a number: \"))\n",
    "\n",
    "if num % 20 == 0:\n",
    "    print(\"Number ends with digit 0\")\n",
    "elif num % 20 == 5:\n",
    "    print(\"Number ends with digit 5\")\n",
    "else:\n",
    "    print(\"Number is not end with 0 or 5\")"
   ]
  },
  {
   "cell_type": "code",
   "execution_count": 91,
   "id": "4f400ca9-111c-48ff-a6e1-73b96cd5f68e",
   "metadata": {},
   "outputs": [
    {
     "name": "stdin",
     "output_type": "stream",
     "text": [
      "Enter your height in cm:  34\n",
      "Enter your weight in kg:  567\n"
     ]
    },
    {
     "name": "stdout",
     "output_type": "stream",
     "text": [
      "Condition not satisfied\n"
     ]
    }
   ],
   "source": [
    "#7.Write a program to check whether height is above 140 cm and weight is below 120 kg.\n",
    "H= int(input(\"Enter your height in cm: \"))\n",
    "W = int(input(\"Enter your weight in kg: \"))\n",
    "\n",
    "if H > 140 and W < 120:\n",
    "    print(\"the Height above 140 cm and weight below 120 kg\")\n",
    "else:\n",
    "    print(\"Condition not satisfied\")"
   ]
  },
  {
   "cell_type": "code",
   "execution_count": 97,
   "id": "4df51a2d-2acf-4ea8-9e92-627bcd769f6b",
   "metadata": {},
   "outputs": [
    {
     "name": "stdin",
     "output_type": "stream",
     "text": [
      "Enter first length:  12\n",
      "Enter second length:  23\n",
      "Enter third length:  45\n"
     ]
    },
    {
     "name": "stdout",
     "output_type": "stream",
     "text": [
      "Cannot\n"
     ]
    }
   ],
   "source": [
    "#8.Given three lengths, print “Can form triangle” if each side is less than the sum of the other two; else “Cannot”.\n",
    "a = float(input(\"Enter length of first triangle: \"))\n",
    "b = float(input(\"Enter length of second triangle: \"))\n",
    "c = float(input(\"Enter length of third triangle: \"))\n",
    "\n",
    "if a < b + c and b < a + c and c < a + b:\n",
    "    print(\"Can form triangle\")\n",
    "else:\n",
    "    print(\"Cannot\")\n"
   ]
  },
  {
   "cell_type": "code",
   "execution_count": 103,
   "id": "d6f9be0e-24e9-49e1-afa2-4244e2869710",
   "metadata": {},
   "outputs": [
    {
     "name": "stdin",
     "output_type": "stream",
     "text": [
      "Enter first temperature:  34\n",
      "Enter second temperature:  23\n"
     ]
    },
    {
     "name": "stdout",
     "output_type": "stream",
     "text": [
      "First temperature is higher by\n"
     ]
    }
   ],
   "source": [
    "# 9.Write a program that compares two temperature readings and prints which one is higher, along with the difference.\n",
    "t1 = int(input(\"Enter first temperature: \"))\n",
    "t2 = int(input(\"Enter second temperature: \"))\n",
    "\n",
    "if t1 > t2:\n",
    "    print(\"First temperature is higher by\")\n",
    "elif t2 > t1:\n",
    "    print(\"Second temperature is higher by\")\n",
    "else:\n",
    "    print(\"Both temperatures are equal\")\n"
   ]
  },
  {
   "cell_type": "code",
   "execution_count": 107,
   "id": "34285132-d00b-4f7f-a184-40f19210f64d",
   "metadata": {},
   "outputs": [
    {
     "name": "stdin",
     "output_type": "stream",
     "text": [
      "Enter first number:  23\n",
      "Enter second number:  45\n"
     ]
    },
    {
     "name": "stdout",
     "output_type": "stream",
     "text": [
      "Not both are multiples of 4\n"
     ]
    }
   ],
   "source": [
    "#10.Write a program to check whether two given numbers are both multiples of 4.\n",
    "num1 = float(input(\"Enter first number: \"))\n",
    "num2= float(input(\"Enter second number: \"))\n",
    "\n",
    "if num1 % 4 == 0 and num2 % 4 == 0:\n",
    "    print(\"Both are multiples of 4\")\n",
    "else:\n",
    "    print(\"Not both are multiples of 4\")\n"
   ]
  },
  {
   "cell_type": "code",
   "execution_count": 115,
   "id": "c75c8173-d3f0-4507-b5f9-2b9dad053e8d",
   "metadata": {},
   "outputs": [
    {
     "name": "stdin",
     "output_type": "stream",
     "text": [
      "Enter first number:  25\n",
      "Enter second number:  25\n"
     ]
    },
    {
     "name": "stdout",
     "output_type": "stream",
     "text": [
      "Both numbers are from the set\n"
     ]
    }
   ],
   "source": [
    "# 11.Program to check whether two given numbers are in the set {1, 5, 25, 125, 625, 3125}\n",
    "\n",
    "a = int(input(\"Enter first number: \"))\n",
    "b = int(input(\"Enter second number: \"))\n",
    "s = {1, 5, 25, 125, 625, 3125}\n",
    "if a in s and b in s:\n",
    "    print(\"Both numbers are from the set\")\n",
    "else:\n",
    "    print(\"Both numbers are not from the set\")"
   ]
  },
  {
   "cell_type": "code",
   "execution_count": 122,
   "id": "93c1acd2-2613-468d-bdbc-909465cdacb1",
   "metadata": {},
   "outputs": [
    {
     "name": "stdin",
     "output_type": "stream",
     "text": [
      "Enter a three-digit number:  235\n"
     ]
    },
    {
     "name": "stdout",
     "output_type": "stream",
     "text": [
      "Yes, last digit equals the sum of first two digits\n"
     ]
    }
   ],
   "source": [
    "#12.Write a program to check whether the last digit of a three-digit number equals the sum of its first two digits.\n",
    "n = int(input(\"Enter a three-digit number: \"))\n",
    "\n",
    "f = n // 100\n",
    "s= (n // 10) % 10\n",
    "l = n % 10\n",
    "\n",
    "if l == (f + s):\n",
    "    print(\"Yes, last digit equals the sum of first two digits\")\n",
    "else:\n",
    "    print(\"No, last digit is not equal to the sum of first two digits\")"
   ]
  }
 ],
 "metadata": {
  "kernelspec": {
   "display_name": "Python 3 (ipykernel)",
   "language": "python",
   "name": "python3"
  },
  "language_info": {
   "codemirror_mode": {
    "name": "ipython",
    "version": 3
   },
   "file_extension": ".py",
   "mimetype": "text/x-python",
   "name": "python",
   "nbconvert_exporter": "python",
   "pygments_lexer": "ipython3",
   "version": "3.12.7"
  }
 },
 "nbformat": 4,
 "nbformat_minor": 5
}
