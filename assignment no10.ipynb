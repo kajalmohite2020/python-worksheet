{
 "cells": [
  {
   "cell_type": "code",
   "execution_count": 17,
   "id": "2596ed6a-3e60-4586-8827-ce0aa8e5a3e0",
   "metadata": {},
   "outputs": [
    {
     "name": "stdin",
     "output_type": "stream",
     "text": [
      "Enter a first number: 3\n",
      "enter a second number: 4\n"
     ]
    },
    {
     "name": "stdout",
     "output_type": "stream",
     "text": [
      "12\n",
      "-1\n",
      "0.75\n"
     ]
    }
   ],
   "source": [
    "#Assignment no.10\n",
    "#1.write different functions for multiplication, substraction, divition.\n",
    "#without paramenter\n",
    "a = int(input(\"Enter a first number:\"))\n",
    "b = int(input(\"enter a second number:\"))\n",
    "def mul():\n",
    "    return a * b\n",
    "def sub():\n",
    "    return a - b\n",
    "def div():\n",
    "    return a / b\n",
    "print(mul())\n",
    "print(sub())\n",
    "print(div())"
   ]
  },
  {
   "cell_type": "code",
   "execution_count": 33,
   "id": "182f6928-a2ad-4618-9843-747612e4e19e",
   "metadata": {},
   "outputs": [
    {
     "name": "stdout",
     "output_type": "stream",
     "text": [
      "6\n",
      "4\n",
      "0.5\n"
     ]
    }
   ],
   "source": [
    "#with parameter\n",
    "def mul(a,b):\n",
    "    return a * b\n",
    "def sub(a,b):\n",
    "    return a - b\n",
    "def div(a,b):\n",
    "    return a / b\n",
    "    \n",
    "print(mul(2,3))\n",
    "print(sub(7,3))\n",
    "print(div(2,4))"
   ]
  },
  {
   "cell_type": "code",
   "execution_count": 41,
   "id": "0d96ef17-0832-4258-8260-5bbb6e6626c3",
   "metadata": {},
   "outputs": [
    {
     "name": "stdin",
     "output_type": "stream",
     "text": [
      "Enter a first number: 3\n",
      "enter a second number: 4\n"
     ]
    },
    {
     "name": "stdout",
     "output_type": "stream",
     "text": [
      "0.75\n",
      "0\n",
      "3\n"
     ]
    }
   ],
   "source": [
    "#2.Write a function which will accept 2 numbers from used and return their division, floor division, modulus\n",
    "#without paramenter\n",
    "a = int(input(\"Enter a first number:\"))\n",
    "b = int(input(\"enter a second number:\"))\n",
    "def div():\n",
    "    return a / b\n",
    "def floor_div():\n",
    "    return a // b\n",
    "def mod():\n",
    "    return a % b\n",
    "    \n",
    "print(div())\n",
    "print(floor_div())\n",
    "print(mod())\n"
   ]
  },
  {
   "cell_type": "code",
   "execution_count": 43,
   "id": "1da6f40a-7d5d-4853-9f0b-78ec33adbd84",
   "metadata": {},
   "outputs": [
    {
     "name": "stdout",
     "output_type": "stream",
     "text": [
      "0.5\n",
      "0\n",
      "3\n"
     ]
    }
   ],
   "source": [
    "#with parameter\n",
    "def div(a,b):\n",
    "    return a / b\n",
    "def floor_div(a,b):\n",
    "    return a // b\n",
    "def mod(a,b):\n",
    "    return a % b\n",
    "    \n",
    "print(div(2,4))\n",
    "print(floor_div(2,8))\n",
    "print(mod(3,9))\n",
    "\n",
    "    "
   ]
  },
  {
   "cell_type": "code",
   "execution_count": 47,
   "id": "51f2020d-1b21-4de1-acba-6ba72f46b776",
   "metadata": {},
   "outputs": [
    {
     "name": "stdin",
     "output_type": "stream",
     "text": [
      "Enter a length of rectangle: 3\n",
      "Enter a width of rectangle: 4\n"
     ]
    },
    {
     "data": {
      "text/plain": [
       "12"
      ]
     },
     "execution_count": 47,
     "metadata": {},
     "output_type": "execute_result"
    }
   ],
   "source": [
    "#3.Write a function to find area of rectangle\n",
    "#without parameter\n",
    "l = int(input(\"Enter a length of rectangle:\"))\n",
    "w = int(input(\"Enter a width of rectangle:\"))\n",
    "def area_rectangle(l,w):\n",
    "    return l * w\n",
    "area_rectangle(l,w)"
   ]
  },
  {
   "cell_type": "code",
   "execution_count": 49,
   "id": "1912366c-d4a5-4f40-8b84-4f8ac4ed2c6d",
   "metadata": {},
   "outputs": [
    {
     "data": {
      "text/plain": [
       "16"
      ]
     },
     "execution_count": 49,
     "metadata": {},
     "output_type": "execute_result"
    }
   ],
   "source": [
    "#with parameter\n",
    "def area_rectangle(l,w):\n",
    "    return l * w\n",
    "area_rectangle(2,8)\n"
   ]
  },
  {
   "cell_type": "code",
   "execution_count": 57,
   "id": "f07e1b63-4024-4101-9b6b-eecbd81a3c69",
   "metadata": {},
   "outputs": [
    {
     "name": "stdin",
     "output_type": "stream",
     "text": [
      "enter a area of circle 8\n"
     ]
    },
    {
     "data": {
      "text/plain": [
       "200.96"
      ]
     },
     "execution_count": 57,
     "metadata": {},
     "output_type": "execute_result"
    }
   ],
   "source": [
    "#4.Write a function to find area of circle\n",
    "#without parameter\n",
    "r = float(input(\"enter a area of circle:\"))\n",
    "def area_circle(r):\n",
    "    return 3.14* r* r\n",
    "area_circle(r)\n",
    "\n"
   ]
  },
  {
   "cell_type": "code",
   "execution_count": 59,
   "id": "adc59626-2eff-427a-9722-49c3008da4fe",
   "metadata": {},
   "outputs": [
    {
     "data": {
      "text/plain": [
       "78.5"
      ]
     },
     "execution_count": 59,
     "metadata": {},
     "output_type": "execute_result"
    }
   ],
   "source": [
    "def area_circle(r):\n",
    "    return 3.14* r* r\n",
    "area_circle(5)"
   ]
  },
  {
   "cell_type": "code",
   "execution_count": 65,
   "id": "32f31da4-8e26-4879-8396-6a3fb006c57f",
   "metadata": {},
   "outputs": [
    {
     "name": "stdin",
     "output_type": "stream",
     "text": [
      "Enter a number: 3\n"
     ]
    },
    {
     "data": {
      "text/plain": [
       "'odd'"
      ]
     },
     "execution_count": 65,
     "metadata": {},
     "output_type": "execute_result"
    }
   ],
   "source": [
    "#5.Write a function to find even and odd numbers, take number as user input \n",
    "#without parameter\n",
    "n = int(input(\"Enter a number:\"))\n",
    "def check_even_odd(n):\n",
    "    if n % 2 == 0:\n",
    "        return \"Even\"\n",
    "    else:\n",
    "        return \"odd\"\n",
    "check_even_odd(n)\n",
    "        "
   ]
  },
  {
   "cell_type": "code",
   "execution_count": 71,
   "id": "bec3d860-af2f-471c-81ad-2e51b4cb2d6b",
   "metadata": {},
   "outputs": [
    {
     "data": {
      "text/plain": [
       "'odd'"
      ]
     },
     "execution_count": 71,
     "metadata": {},
     "output_type": "execute_result"
    }
   ],
   "source": [
    "#with parameter\n",
    "def check_even_odd(n):\n",
    "    if n % 2 == 0:\n",
    "        return \"Even\"\n",
    "    else:\n",
    "        return \"odd\"\n",
    "check_even_odd(7)\n",
    "        "
   ]
  },
  {
   "cell_type": "code",
   "execution_count": null,
   "id": "f5205d55-71e1-45e5-90dd-e8bd4add1c71",
   "metadata": {},
   "outputs": [],
   "source": []
  }
 ],
 "metadata": {
  "kernelspec": {
   "display_name": "Python 3 (ipykernel)",
   "language": "python",
   "name": "python3"
  },
  "language_info": {
   "codemirror_mode": {
    "name": "ipython",
    "version": 3
   },
   "file_extension": ".py",
   "mimetype": "text/x-python",
   "name": "python",
   "nbconvert_exporter": "python",
   "pygments_lexer": "ipython3",
   "version": "3.12.7"
  }
 },
 "nbformat": 4,
 "nbformat_minor": 5
}
