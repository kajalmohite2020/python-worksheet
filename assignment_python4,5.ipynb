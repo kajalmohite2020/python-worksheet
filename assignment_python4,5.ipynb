{
 "cells": [
  {
   "cell_type": "code",
   "execution_count": null,
   "id": "ae149979-a889-4f06-9a61-4200ed2674be",
   "metadata": {},
   "outputs": [],
   "source": [
    "#Assignment no.4\n",
    "#1.Write a program to check whether the first and last digit of a number are equal (without converting to string).\n"
   ]
  },
  {
   "cell_type": "code",
   "execution_count": 53,
   "id": "a24c2497-c9fa-4899-9934-2734fdd941c9",
   "metadata": {},
   "outputs": [
    {
     "name": "stdin",
     "output_type": "stream",
     "text": [
      "Enter temperature of water in °C: 99\n"
     ]
    },
    {
     "name": "stdout",
     "output_type": "stream",
     "text": [
      "Liquid\n"
     ]
    }
   ],
   "source": [
    "#2. Write a program to display “Solid”, “Liquid”, or “Gas” based on the temperature of water in °C.\n",
    "temp = float(input(\"Enter temperature of water in °C:\"))\n",
    "if temp < 0:\n",
    "    print(\"Solid\")\n",
    "elif temp < 100:\n",
    "    print(\"Liquid\")\n",
    "elif temp > 100:\n",
    "    print(\"Gas\")"
   ]
  },
  {
   "cell_type": "code",
   "execution_count": 51,
   "id": "e20aca1c-23df-4d6e-a095-7dc56459955c",
   "metadata": {},
   "outputs": [
    {
     "name": "stdin",
     "output_type": "stream",
     "text": [
      "Enter first number:  4\n",
      "Enter second number:  6\n"
     ]
    },
    {
     "name": "stdout",
     "output_type": "stream",
     "text": [
      "Both are even\n"
     ]
    }
   ],
   "source": [
    "#3.Write a program to check whether both numbers are odd, both are even, or one of each.\n",
    "a = int(input(\"Enter first number: \"))\n",
    "b = int(input(\"Enter second number: \"))\n",
    "if a % 2 == 0 and b % 2 == 0:\n",
    "    print(\"Both are even\")\n",
    "elif a % 2 != 0 and b % 2 != 0:\n",
    "    print(\"Both are odd\")\n",
    "else:\n",
    "    print(\"One of each\")"
   ]
  },
  {
   "cell_type": "code",
   "execution_count": 49,
   "id": "80cabdf7-a318-4682-ba1e-a9948ac91c4f",
   "metadata": {},
   "outputs": [
    {
     "name": "stdin",
     "output_type": "stream",
     "text": [
      "Enter a number:  3\n"
     ]
    },
    {
     "name": "stdout",
     "output_type": "stream",
     "text": [
      "Closer to 10\n"
     ]
    }
   ],
   "source": [
    "#4.Write a program to check whether a number is closer to 10 or 20.\n",
    "a = int(input(\"Enter a number: \"))\n",
    "if a < 10:          \n",
    "    print(\"Closer to 10\")\n",
    "elif a < 20:        \n",
    "    print(\"Closer to 20\")"
   ]
  },
  {
   "cell_type": "code",
   "execution_count": 43,
   "id": "d49d550f-fb6d-40c5-ac0e-00cdadf5b298",
   "metadata": {},
   "outputs": [
    {
     "name": "stdin",
     "output_type": "stream",
     "text": [
      "Enter current balance:  67\n",
      "Enter amount to withdraw:  89\n"
     ]
    },
    {
     "name": "stdout",
     "output_type": "stream",
     "text": [
      "Transaction failed!\n"
     ]
    }
   ],
   "source": [
    "#5.Write a program to check whether a person can withdraw an amount based on current balance.\n",
    "b = int(input(\"Enter current balance: \"))\n",
    "w = int(input(\"Enter amount to withdraw: \"))\n",
    "if w <= b:\n",
    "    print(\"Withdrawal successful\")\n",
    "    print(\"remaining balance:\",b-w)\n",
    "elif w>= b:\n",
    "    print(\"Transaction failed!\")  "
   ]
  },
  {
   "cell_type": "code",
   "execution_count": 41,
   "id": "fafb7de0-5dc1-43f1-8752-645a7ef7bca4",
   "metadata": {},
   "outputs": [
    {
     "name": "stdin",
     "output_type": "stream",
     "text": [
      "Enter a number:  34\n"
     ]
    },
    {
     "name": "stdout",
     "output_type": "stream",
     "text": [
      "Number is does not end with 0 or 5\n"
     ]
    }
   ],
   "source": [
    "#6.Write a program to check whether a given number ends with digit 0 or 5\n",
    "num = int(input(\"Enter a number: \"))\n",
    "if num % 10 == 0 or num % 10 == 5:\n",
    "    print(\"Number ends with digit 0 or 5\")\n",
    "else:\n",
    "    print(\"Number is does not end with 0 or 5\")"
   ]
  },
  {
   "cell_type": "code",
   "execution_count": 55,
   "id": "d601c5e7-af98-4006-a120-beac9f0c2fe8",
   "metadata": {},
   "outputs": [
    {
     "name": "stdin",
     "output_type": "stream",
     "text": [
      "Enter your height in cm:  678\n",
      "Enter your weight in kg:  65\n"
     ]
    },
    {
     "name": "stdout",
     "output_type": "stream",
     "text": [
      "the Height above 140 cm and weight below 120 kg.\n"
     ]
    }
   ],
   "source": [
    "#7.Write a program to check whether height is above 140 cm and weight is below 120 kg.\n",
    "H=float(input(\"Enter your height in cm: \"))\n",
    "W=float(input(\"Enter your weight in kg: \"))\n",
    "if H > 140 and w < 120:\n",
    "    print(\"the Height above 140 cm and weight below 120 kg.\")\n",
    "else:\n",
    "    print(\"Condition not satisfied.\")"
   ]
  },
  {
   "cell_type": "code",
   "execution_count": 31,
   "id": "e90a6354-7701-4bcb-a0a7-c17618779e5b",
   "metadata": {},
   "outputs": [
    {
     "name": "stdin",
     "output_type": "stream",
     "text": [
      "Enter length of first triangle:  45\n",
      "Enter length of second triangle:  8\n",
      "Enter length of third triangle:  45\n"
     ]
    },
    {
     "name": "stdout",
     "output_type": "stream",
     "text": [
      "Can form triangle\n"
     ]
    }
   ],
   "source": [
    "#8.Given three lengths, print “Can form triangle” if each side is less than the sum of the other two; else “Cannot”.\n",
    "a = int(input(\"Enter length of first triangle: \"))\n",
    "b = int(input(\"Enter length of second triangle: \"))\n",
    "c = int(input(\"Enter length of third triangle: \"))\n",
    "if a <=b + c and b <=a + c and c <=a + b:\n",
    "    print(\"Can form triangle\")\n",
    "else:\n",
    "    print(\"Cannot not a triangle\")"
   ]
  },
  {
   "cell_type": "code",
   "execution_count": 29,
   "id": "e9de39c7-6b61-4830-ad3b-655b7b5073d6",
   "metadata": {},
   "outputs": [
    {
     "name": "stdin",
     "output_type": "stream",
     "text": [
      "Enter first temperature:  4\n",
      "Enter second temperature:  7\n"
     ]
    },
    {
     "name": "stdout",
     "output_type": "stream",
     "text": [
      "Second temperature is higher \n"
     ]
    }
   ],
   "source": [
    "#9.Write a program that compares two temperature readings and prints which one is higher, along with the difference.\n",
    "t1 = int(input(\"Enter first temperature: \"))\n",
    "t2 = int(input(\"Enter second temperature: \"))\n",
    "if t1 > t2:\n",
    "    print(\"First temperature is higher \")\n",
    "elif t2 > t1:\n",
    "    print(\"Second temperature is higher \")"
   ]
  },
  {
   "cell_type": "code",
   "execution_count": 27,
   "id": "47357f95-cd37-4f48-81ea-8834b498e4d1",
   "metadata": {},
   "outputs": [
    {
     "name": "stdin",
     "output_type": "stream",
     "text": [
      "Enter first number:  4\n",
      "Enter second number:  5\n"
     ]
    },
    {
     "name": "stdout",
     "output_type": "stream",
     "text": [
      "Not both are multiples of 4\n"
     ]
    }
   ],
   "source": [
    "# 10.Write a program to check whether two given numbers are both multiples of 4.\n",
    "a = float(input(\"Enter first number: \"))\n",
    "b= float(input(\"Enter second number: \"))\n",
    "if a % 4 == 0 and b % 4 == 0:\n",
    "    print(\"Both are multiples of 4\")\n",
    "else:\n",
    "    print(\"Not both are multiples of 4\")"
   ]
  },
  {
   "cell_type": "code",
   "execution_count": null,
   "id": "0148b50f-8065-46d3-bcc8-88e01ae5eaf0",
   "metadata": {},
   "outputs": [],
   "source": [
    "#11.Program to check whether two given numbers are in the set {1, 5, 25, 125, 625, 3125}\n",
    "\n"
   ]
  },
  {
   "cell_type": "code",
   "execution_count": 21,
   "id": "9881357e-a056-479c-8c3a-4941b3c3ce91",
   "metadata": {},
   "outputs": [
    {
     "name": "stdin",
     "output_type": "stream",
     "text": [
      "Enter a three-digit number:  345\n"
     ]
    },
    {
     "name": "stdout",
     "output_type": "stream",
     "text": [
      "No, last digit is not equal to the sum of first two digits\n"
     ]
    }
   ],
   "source": [
    "#12.Write a program to check whether the last digit of a three-digit number equals the sum of its first two digits.\n",
    "n = int(input(\"Enter a three-digit number: \"))\n",
    "f = n // 100\n",
    "s= (n // 10) % 10\n",
    "l = n % 10\n",
    "if l == (f + s):\n",
    "    print(\"Yes, last digit equals the sum of first two digits\")\n",
    "else:\n",
    "    print(\"No, last digit is not equal to the sum of first two digits\")"
   ]
  },
  {
   "cell_type": "code",
   "execution_count": 19,
   "id": "c5579403-dfa6-4167-ab57-5133ffb1df55",
   "metadata": {},
   "outputs": [
    {
     "name": "stdout",
     "output_type": "stream",
     "text": [
      "Enter a number between 50 and 100: 57\n",
      "Enter a number between 50 and 100: 67\n",
      "Enter a number between 50 and 100: 77\n",
      "Enter a number between 50 and 100: 87\n",
      "Enter a number between 50 and 100: 97\n"
     ]
    }
   ],
   "source": [
    "#Assignment no.5\n",
    "#1.Write a Python program to display all numbers between 50 and 100 that end with the digit 7.\n",
    "for i in range(50, 101):\n",
    "    if i % 10 == 7:\n",
    "        print(\"Enter a number between 50 and 100:\",i)"
   ]
  },
  {
   "cell_type": "code",
   "execution_count": 17,
   "id": "44ff5102-e651-4ad2-bbbc-7032ffc28214",
   "metadata": {},
   "outputs": [
    {
     "name": "stdin",
     "output_type": "stream",
     "text": [
      "Enter angle in degrees:  45\n"
     ]
    },
    {
     "name": "stdout",
     "output_type": "stream",
     "text": [
      "Acute\n"
     ]
    }
   ],
   "source": [
    "#2.Given an angle in degrees, print “Acute” (<90), “Right” (==90), “Obtuse” (90–180), “Straight” (==180), or “Reflex” (>180 and <360). If outside 0–360, print “Invalid”.\n",
    "a = int(input(\"Enter angle in degrees: \"))\n",
    "if 0 >a <360:\n",
    "    print(\"Invalid\")\n",
    "elif a <= 90:\n",
    "    print(\"Acute\")\n",
    "elif a == 90:\n",
    "    print(\"Right\")\n",
    "elif 90> a <180:\n",
    "    print(\"Obtuse\")\n",
    "elif a == 180:\n",
    "    print(\"Straight\")\n",
    "elif a < 360:\n",
    "    print(\"Reflex\")"
   ]
  },
  {
   "cell_type": "code",
   "execution_count": 15,
   "id": "4f02f3c3-b790-4717-a92d-b150b47d5ce6",
   "metadata": {},
   "outputs": [
    {
     "name": "stdin",
     "output_type": "stream",
     "text": [
      "Enter tenure in months:  34\n",
      "Enter salary:  23\n"
     ]
    },
    {
     "name": "stdout",
     "output_type": "stream",
     "text": [
      "Waiver\n"
     ]
    }
   ],
   "source": [
    "#3.Given tenure_months and salary, print “Waiver” if tenure_months > 60 or salary < 20000; else “No Waiver”.\n",
    "months = int(input(\"Enter tenure in months: \"))\n",
    "salary = int(input(\"Enter salary: \"))\n",
    "if months > 60 or salary < 20000:\n",
    "    print(\"Waiver\")\n",
    "else:\n",
    "    print(\"No waiver\")"
   ]
  },
  {
   "cell_type": "code",
   "execution_count": 13,
   "id": "bf61fdea-9040-4e84-9053-5fc78d0ae7dc",
   "metadata": {},
   "outputs": [
    {
     "name": "stdin",
     "output_type": "stream",
     "text": [
      "Enter length of first rectangle:  34\n",
      "Enter width of first rectangle:  12\n",
      "Enter length of second rectangle:  56\n",
      "Enter width of second rectangle:  45\n"
     ]
    },
    {
     "name": "stdout",
     "output_type": "stream",
     "text": [
      "First rectangle fits inside the second without rotation\n"
     ]
    }
   ],
   "source": [
    "#4.Given two rectangles (L1, W1) and (L2, W2), print whether the first fits inside the second without rotation (i.e., L1 ≤ L2 and W1 ≤ W2).\n",
    "L1 = int(input(\"Enter length of first rectangle: \"))\n",
    "W1 = int(input(\"Enter width of first rectangle: \"))\n",
    "L2 = int(input(\"Enter length of second rectangle: \"))\n",
    "W2 = int(input(\"Enter width of second rectangle: \"))\n",
    "if L1 <= L2 and W1 <= W2:\n",
    "    print(\"First rectangle fit inside the second without rotation\")\n",
    "else:\n",
    "    print(\"first rectangle does not fit inside the second without rotation\")"
   ]
  },
  {
   "cell_type": "code",
   "execution_count": 11,
   "id": "c0f53298-9b5a-4cfa-a525-e1bc15d971c0",
   "metadata": {},
   "outputs": [
    {
     "name": "stdin",
     "output_type": "stream",
     "text": [
      "Enter a interval: 123\n",
      "Enter b interval: 23\n",
      "Enter c interval: 12\n",
      "Enter d interval: 12\n"
     ]
    },
    {
     "name": "stdout",
     "output_type": "stream",
     "text": [
      "Overlap\n"
     ]
    }
   ],
   "source": [
    "#5.Given closed intervals [a, b] and [c, d] with a ≤ b and c ≤ d, print “Overlap”, “Touch” (meet at a point), or “Disjoint”.\n",
    "a = int(input(\"Enter a interval:\"))\n",
    "b = int(input(\"Enter b interval:\"))\n",
    "c = int(input(\"Enter c interval:\"))\n",
    "d = int(input(\"Enter d interval:\"))\n",
    "if b < c or d <  a:\n",
    "    print(\"Overlap\")\n",
    "elif b == c or d == a:\n",
    "    print(\"Touch\")\n",
    "else:\n",
    "    print(\"Disjoint\")"
   ]
  },
  {
   "cell_type": "code",
   "execution_count": 9,
   "id": "c0377c8e-3df8-4ffc-8015-58e27fdad322",
   "metadata": {},
   "outputs": [
    {
     "name": "stdin",
     "output_type": "stream",
     "text": [
      "Enter the first three-digit integer:  343\n",
      "Enter the second three-digit integer:  234\n"
     ]
    },
    {
     "name": "stdout",
     "output_type": "stream",
     "text": [
      "The two integers do not contain the same digits.\n"
     ]
    }
   ],
   "source": [
    "#6.Given two three-digit integers, print whether they contain exactly the same digits (in any order)\n",
    "a= int(input(\"Enter the first three-digit integer: \"))\n",
    "b= int(input(\"Enter the second three-digit integer: \"))\n",
    "if a == b:\n",
    "    print(\"The two integers contain exactly the same digits.\")\n",
    "else:\n",
    "    print(\"The two integers do not contain the same digits.\")"
   ]
  },
  {
   "cell_type": "code",
   "execution_count": 7,
   "id": "12e1eae6-a3bb-439d-8244-abc50fe7fffb",
   "metadata": {},
   "outputs": [
    {
     "name": "stdin",
     "output_type": "stream",
     "text": [
      "Enter Q1:  23\n",
      "Enter Q3:  12\n",
      "Enter value x:  34\n"
     ]
    },
    {
     "name": "stdout",
     "output_type": "stream",
     "text": [
      "Outlier\n"
     ]
    }
   ],
   "source": [
    "#7.Given Q1, Q3, and a value x, compute the IQR (= Q3 − Q1). Print whether x is an Outlier if x < Q1 − 1.5*IQR or x > Q3 + 1.5*IQR; else print Not Outlier.\n",
    "Q1 = int(input(\"Enter Q1: \"))\n",
    "Q3 = int(input(\"Enter Q3: \"))\n",
    "x = int(input(\"Enter value x: \"))\n",
    "IQR = Q3 - Q1\n",
    "if x <  Q1 - 1.5 * IQR or x > Q1 - 1.5 * IQR:\n",
    "    print(\"Outlier\")\n",
    "else:\n",
    "    print(\"Not Outlier\")"
   ]
  },
  {
   "cell_type": "code",
   "execution_count": 5,
   "id": "821fa9f3-f282-43bb-a757-626a5992018c",
   "metadata": {},
   "outputs": [
    {
     "name": "stdin",
     "output_type": "stream",
     "text": [
      "Enter a value x: 23\n"
     ]
    },
    {
     "name": "stdout",
     "output_type": "stream",
     "text": [
      "f(x) = 20\n"
     ]
    }
   ],
   "source": [
    "#8.Given x, evaluate and print:f(x) = 2x + 3 if x < 0  f(x) = 5 if x = 0  f(x) = x^2 + 1 if x > 0\n",
    "x = int(input(\"Enter a value x:\"))\n",
    "if x <=0:\n",
    "    f = 2 *x + 3\n",
    "elif x == 0:\n",
    "    f = 5\n",
    "elif x >0:\n",
    "    f = x ^2 + 1\n",
    "else:\n",
    "    print(\"invalid value\")\n",
    "print(\"f(x) =\", f)"
   ]
  },
  {
   "cell_type": "code",
   "execution_count": 3,
   "id": "2f4a3e69-5b3d-4ee3-80e1-531e3157c0f5",
   "metadata": {},
   "outputs": [
    {
     "name": "stdin",
     "output_type": "stream",
     "text": [
      "Enter a1:  1\n",
      "Enter b1:  2\n",
      "Enter c1:  3\n",
      "Enter a2:  4\n",
      "Enter b2:  5\n",
      "Enter c2:  3\n"
     ]
    },
    {
     "name": "stdout",
     "output_type": "stream",
     "text": [
      "Unique Solution\n"
     ]
    }
   ],
   "source": [
    "#9.For  a1*x + b1*y = c1  a2*x + b2*y = c2  Compute Δ = a1*b2 − a2*b1. Print Unique Solution if Δ ≠ 0; else if a1/a2 = b1/b2 = c1/c2 (check via cross-multiplication to avoid division) print Infinitely Many Solutions, otherwise No Solution.\n",
    "a1 = float(input(\"Enter a1: \"))\n",
    "b1 = float(input(\"Enter b1: \"))\n",
    "c1 = float(input(\"Enter c1: \"))\n",
    "a2 = float(input(\"Enter a2: \"))\n",
    "b2 = float(input(\"Enter b2: \"))\n",
    "c2 = float(input(\"Enter c2: \"))\n",
    "d= a1 * b2 - a2 * b1\n",
    "if d != 0:\n",
    "    print(\"Unique Solution\")\n",
    "elif a1 * c2 == a2 * c1 and b1 * c2 == b2 * c1:\n",
    "    print(\"Infinitely Many Solutions\")\n",
    "else:\n",
    "    print(\"No Solution\")"
   ]
  },
  {
   "cell_type": "code",
   "execution_count": 1,
   "id": "d60a5359-41d4-4e34-82b8-34c89ea2b4f8",
   "metadata": {},
   "outputs": [
    {
     "name": "stdin",
     "output_type": "stream",
     "text": [
      "Enter m1:  3\n",
      "Enter c1:  4\n",
      "Enter m2:  5\n",
      "Enter c2:  2\n"
     ]
    },
    {
     "name": "stdout",
     "output_type": "stream",
     "text": [
      "Intersecting\n"
     ]
    }
   ],
   "source": [
    "# 10.Given two lines y = m1*x + c1 and y = m2*x + c2, print Parallel if m1 = m2 and c1 ≠ c2, Coincident if m1 = m2 and c1 = c2, else Intersecting.\n",
    "m1 = int(input(\"Enter m1: \"))\n",
    "c1 = int(input(\"Enter c1: \"))\n",
    "m2 = int(input(\"Enter m2: \"))\n",
    "c2 = int(input(\"Enter c2: \"))\n",
    "if m1 == m2 and c1!=c2:\n",
    "    print(\"Parallel\")\n",
    "elif m1 == m2 and c1 == c2:\n",
    "    print(\"Coincident\")\n",
    "else:\n",
    "    print(\"Intersecting\")\n"
   ]
  }
 ],
 "metadata": {
  "kernelspec": {
   "display_name": "Python 3 (ipykernel)",
   "language": "python",
   "name": "python3"
  },
  "language_info": {
   "codemirror_mode": {
    "name": "ipython",
    "version": 3
   },
   "file_extension": ".py",
   "mimetype": "text/x-python",
   "name": "python",
   "nbconvert_exporter": "python",
   "pygments_lexer": "ipython3",
   "version": "3.12.7"
  }
 },
 "nbformat": 4,
 "nbformat_minor": 5
}
