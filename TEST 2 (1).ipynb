{
 "cells": [
  {
   "cell_type": "markdown",
   "id": "1873775b-ebc3-40d4-8463-c89e982ccb35",
   "metadata": {},
   "source": [
    "# Test 2 - Functions - User Defined "
   ]
  },
  {
   "cell_type": "markdown",
   "id": "1fe1faee-fb1a-41e9-ad4c-7b08f09bd5df",
   "metadata": {},
   "source": [
    "## 1. Write a python function to caluclate the sum of cubes upto n. Take n from the user. "
   ]
  },
  {
   "cell_type": "code",
   "execution_count": 34,
   "id": "eb91bedb-5b6e-4c7c-a0b6-22767edc8ba2",
   "metadata": {},
   "outputs": [
    {
     "name": "stdin",
     "output_type": "stream",
     "text": [
      "Enter a number: 5\n"
     ]
    },
    {
     "name": "stdout",
     "output_type": "stream",
     "text": [
      "1\n"
     ]
    }
   ],
   "source": [
    "n = int(input(\"Enter a number:\"))\n",
    "def sum_of_cudes(n):\n",
    "    total = 0\n",
    "    for i in range(1, n+1):\n",
    "        total += i**3\n",
    "        return total\n",
    "\n",
    "print(sum_of_cudes(n))"
   ]
  },
  {
   "cell_type": "markdown",
   "id": "8edd4492-55f0-4857-9919-4c5b015cd492",
   "metadata": {},
   "source": [
    "## 2. Write a python function to check if two temperatures are in Opposite Seasons.  i.e One temperature is less than 20°C and the other is more than 30°C."
   ]
  },
  {
   "cell_type": "code",
   "execution_count": 7,
   "id": "d2dda1a9-9647-45e4-a6e0-20395d9173e6",
   "metadata": {},
   "outputs": [
    {
     "name": "stdin",
     "output_type": "stream",
     "text": [
      "Enter a first temperature : 2\n",
      "Enter a second temperature: 5\n"
     ]
    },
    {
     "name": "stdout",
     "output_type": "stream",
     "text": [
      "Not opposite seasons\n"
     ]
    }
   ],
   "source": [
    "t1= int(input(\"Enter a first temperature:\"))\n",
    "t2= int(input(\"Enter a second temperature:\"))\n",
    "def opposite_seasons():\n",
    "    if (t1 < 20 and t2 > 30) or (t2 < 20 and t1 > 30):\n",
    "        print(\"Opposite seasons\")\n",
    "    else:\n",
    "        print(\"Not opposite seasons\")\n",
    "\n",
    "opposite_seasons()"
   ]
  },
  {
   "cell_type": "code",
   "execution_count": null,
   "id": "8f3a1b52-3324-4a33-b3c0-456e28a3f31a",
   "metadata": {},
   "outputs": [],
   "source": [
    "3. Write a python function to check whether a three-digit number has exactly two digits equal (e.g., 121, 133)."
   ]
  },
  {
   "cell_type": "code",
   "execution_count": 24,
   "id": "42f31813-897a-4370-965f-6d5c024e8f5e",
   "metadata": {},
   "outputs": [
    {
     "name": "stdin",
     "output_type": "stream",
     "text": [
      "Enter a three-digit number:  123\n"
     ]
    },
    {
     "name": "stdout",
     "output_type": "stream",
     "text": [
      "Digits are all different or all equal\n"
     ]
    }
   ],
   "source": [
    "n = input(\"Enter a three-digit number: \")\n",
    "def check_two_equal():\n",
    "    d1, d2, d3 = n[0], n[1], n[2]\n",
    "    if (d1 == d2 != d3) or (d1 == d3 != d2) or (d2 == d3 != d1):\n",
    "        print(\"Exactly two digits are equal\")\n",
    "    else:\n",
    "        print(\"Digits are all different or all equal\")\n",
    "\n",
    "check_two_equal()"
   ]
  },
  {
   "cell_type": "markdown",
   "id": "db7113e3-5005-4369-b988-239c679b5f25",
   "metadata": {},
   "source": [
    "## 4. Write a python function to check whether the tens place digit of two three-digit numbers is the same.\n",
    "\n"
   ]
  },
  {
   "cell_type": "code",
   "execution_count": 28,
   "id": "516a633a-f358-4e1d-a71c-0278004fdb1d",
   "metadata": {},
   "outputs": [
    {
     "name": "stdin",
     "output_type": "stream",
     "text": [
      "Enter first three-digit number:  123\n",
      "Enter second three-digit number:  234\n"
     ]
    },
    {
     "name": "stdout",
     "output_type": "stream",
     "text": [
      "Tens place is different\n"
     ]
    }
   ],
   "source": [
    "x = int(input(\"Enter first three-digit number: \"))\n",
    "y = int(input(\"Enter second three-digit number: \"))\n",
    "def check_tens(a, b):\n",
    "    if (a // 10) % 10 == (b // 10) % 10:\n",
    "        print(\"Tens place is same\")\n",
    "    else:\n",
    "        print(\"Tens place is different\")\n",
    "\n",
    "check_tens(x, y)\n"
   ]
  },
  {
   "cell_type": "markdown",
   "id": "7f49c126-f863-46e0-b49c-009bdf380b3b",
   "metadata": {},
   "source": [
    "## 5. Write a python function to compare two fractions. \n",
    "Given integers a, b, c, d (denominators non-zero), print which fraction is larger: a/b or c/d, or if they are equal (compare by cross-multiplying)."
   ]
  },
  {
   "cell_type": "code",
   "execution_count": 32,
   "id": "463578b3-7555-457a-a724-03c7adab2a26",
   "metadata": {},
   "outputs": [
    {
     "name": "stdout",
     "output_type": "stream",
     "text": [
      "c/d is greater\n"
     ]
    }
   ],
   "source": [
    "def compare(a, b, c, d):\n",
    "    if a*d > c*b: \n",
    "        print(\"a/b is greater\")\n",
    "    elif a*d < c*b: \n",
    "        print(\"c/d is greater\")\n",
    "    else: \n",
    "        print(\"Both are equal\")\n",
    "compare(1, 2, 2, 3) "
   ]
  },
  {
   "cell_type": "markdown",
   "id": "fda4c171-b12f-4ab3-947a-733bab499243",
   "metadata": {},
   "source": [
    "## 6. Write a python function for target matching. Given numbers a, b, t, print whether t equals a, or b, or a+b, or a-b, or b-a. If none, print “No Match”.\n",
    "\n"
   ]
  },
  {
   "cell_type": "code",
   "execution_count": 30,
   "id": "f2ac0201-f802-4806-83d6-ebadc33b6371",
   "metadata": {},
   "outputs": [
    {
     "name": "stdout",
     "output_type": "stream",
     "text": [
      "t equals a+b\n"
     ]
    }
   ],
   "source": [
    "def target_match(a, b, t):\n",
    "    if t == a:\n",
    "        print(\"t equals a\")\n",
    "    elif t == b:\n",
    "        print(\"t equals b\")\n",
    "    elif t == a + b:\n",
    "        print(\"t equals a+b\")\n",
    "    elif t == b - a:\n",
    "        print(\"t equals b-a\")\n",
    "    else:\n",
    "        print(\"no match\")\n",
    "\n",
    "target_match(3, 5, 8)  "
   ]
  },
  {
   "cell_type": "markdown",
   "id": "bd3d681f-ee64-4ad1-a9c6-50dfbca54107",
   "metadata": {},
   "source": [
    "## 7. Write a python function for Rectangle Fit (No Rotation). Given two rectangles (L1, W1) and (L2, W2), print whether the first fits inside the second without rotation (i.e., L1 ≤ L2 and W1 ≤ W2).\n",
    "\n"
   ]
  },
  {
   "cell_type": "code",
   "execution_count": null,
   "id": "aa82cb92-0615-4696-8af3-a05b5cf93c85",
   "metadata": {},
   "outputs": [],
   "source": [
    "def rectangle_fit():\n",
    "    L1 = int(input(\"Enter L1: \"))\n",
    "    W1 = int(input(\"Enter W1: \"))\n",
    "    L2 = int(input(\"Enter L2: \"))\n",
    "    W2 = int(input(\"Enter W2: \"))\n",
    "    \n",
    "    if L1 <= L2 and W1 <= W2:\n",
    "        print(\"First fits inside second\")\n",
    "    else:\n",
    "        print(\"Does not fit\")\n",
    "\n",
    "rectangle_fit()"
   ]
  },
  {
   "cell_type": "markdown",
   "id": "c535b963-3a73-4e0b-bebc-cd7e9a6cacd8",
   "metadata": {},
   "source": [
    "## 8. Write a python function for point vs circle.Given center (h, k), radius r, and point (x, y), compare (x−h)^2 + (y−k)^2 with r^2 to print “Inside”, “On”, or “Outside”.\n",
    "\n"
   ]
  },
  {
   "cell_type": "code",
   "execution_count": 36,
   "id": "2a13032d-7c55-4ecd-93ea-5f499e86e9ab",
   "metadata": {},
   "outputs": [
    {
     "name": "stdin",
     "output_type": "stream",
     "text": [
      "Enter h (circle center x):  2\n",
      "Enter k (circle center y):  3\n",
      "Enter r (radius):  4\n",
      "Enter x (point x):  5\n",
      "Enter y (point y):  6\n"
     ]
    },
    {
     "name": "stdout",
     "output_type": "stream",
     "text": [
      "Outside\n"
     ]
    }
   ],
   "source": [
    "h = int(input(\"Enter h (circle center x): \"))\n",
    "k = int(input(\"Enter k (circle center y): \"))\n",
    "r = int(input(\"Enter r : \"))\n",
    "x = int(input(\"Enter x : \"))\n",
    "y = int(input(\"Enter y: \"))\n",
    "\n",
    "def point_vs_circle():\n",
    "    d = (x - h)**2 + (y - k)**2\n",
    "    if d < r**2:\n",
    "        print(\"Inside\")\n",
    "    elif d == r**2:\n",
    "        print(\"On\")\n",
    "    else:\n",
    "        print(\"Outside\")\n",
    "\n",
    "point_vs_circle()"
   ]
  },
  {
   "cell_type": "markdown",
   "id": "09072fe4-2002-456c-9c7f-9973c937db5d",
   "metadata": {},
   "source": [
    "## 9. Write a python function for Digit Anagram (3-Digit vs 3-Digit).Given two three-digit integers, print whether they contain exactly the same digits (in any order). (Solve by extracting hundreds/tens/ones and comparing with conditional logic—no loops/collections.)\n",
    "\n"
   ]
  },
  {
   "cell_type": "code",
   "execution_count": null,
   "id": "707f7c25-b893-4ad4-87cd-956d061e2d02",
   "metadata": {},
   "outputs": [],
   "source": []
  },
  {
   "cell_type": "markdown",
   "id": "e22fd801-ac0f-41d6-a05c-123ba870852a",
   "metadata": {},
   "source": [
    "## 10. Write a python function to calculate Z-score.Calculate population mean μ, standard deviation σ (σ > 0), and value x, compute z = (x−μ)/σ and print the band: Within 1σ, Within 2σ, Within 3σ, or Beyond 3σ . Take a list of 10 numbers. "
   ]
  },
  {
   "cell_type": "code",
   "execution_count": null,
   "id": "2e0835f6-c5b9-4812-a307-aabca2cace17",
   "metadata": {},
   "outputs": [],
   "source": []
  },
  {
   "cell_type": "markdown",
   "id": "cddc10ff-b856-45b3-82da-f9d823ffd66e",
   "metadata": {},
   "source": [
    "## 11. Write a Python function that takes two risk values rA and rB (both floats in the range [0, 1]) and computes the Risk Ratio (RR) as RR = rA / rB. The function should then return a string based on the following conditions:\n",
    "\n",
    "- Return \"Increased Risk\" if RR > 1,\n",
    "\n",
    "- Return \"Decreased Risk\" if RR < 1,\n",
    "\n",
    "- Return \"No Change\" if RR == 1."
   ]
  },
  {
   "cell_type": "code",
   "execution_count": null,
   "id": "e895403f-023f-4664-9118-2d146372dc79",
   "metadata": {},
   "outputs": [],
   "source": []
  },
  {
   "cell_type": "markdown",
   "id": "3318f36c-7811-4989-93b1-2e9b867a600a",
   "metadata": {},
   "source": [
    "#12. Write a python function to calculate confidence interval. Given a sample list data and confidence level conf=0.95, return the margin of error using z=1.96 for 95% confidence.\n",
    "\n",
    "Formula:\n",
    "\n",
    " = Z \\times \\frac{\\sigma}{\\sqrt{n}} \n",
    "\n",
    "\n"
   ]
  },
  {
   "cell_type": "code",
   "execution_count": null,
   "id": "1a887147-139e-4ff0-8ba6-b0ebec7a4570",
   "metadata": {},
   "outputs": [],
   "source": []
  },
  {
   "cell_type": "markdown",
   "id": "01099bac-fe66-4b4a-b59d-a84ad9c6b2d2",
   "metadata": {},
   "source": [
    "## 13. Write a function for odds comparison. Given probabilities pA, pB (0..1, not 0 or 1), compute odds p/(1−p) for each and print which has Higher Odds or Equal.\n",
    "\n"
   ]
  },
  {
   "cell_type": "code",
   "execution_count": 32,
   "id": "ff4ff9ee-6f5d-43c8-9607-2303626d41fd",
   "metadata": {},
   "outputs": [
    {
     "name": "stdin",
     "output_type": "stream",
     "text": [
      "Enter a first odd number: 2\n",
      "Enter a second odd number: 3\n"
     ]
    },
    {
     "name": "stdout",
     "output_type": "stream",
     "text": [
      "pb has higher odds\n"
     ]
    }
   ],
   "source": [
    "pa = float(input(\"Enter a first odd number:\"))\n",
    "pb = float(input(\"Enter a second odd number:\"))\n",
    "def compare_odds():\n",
    "    oa = pa / (1 - pa)\n",
    "    ob = pb / (1 - pb)\n",
    "\n",
    "    if oa > ob:\n",
    "        print(\"a has higher odds\")\n",
    "    elif oa < ob:\n",
    "        print(\"b has higher odds\")\n",
    "    else:\n",
    "        print(\"Both have equal odds\")\n",
    "\n",
    "compare_odds()"
   ]
  },
  {
   "cell_type": "markdown",
   "id": "0b4ee352-cf67-4dbe-90ad-77960d1c083c",
   "metadata": {},
   "source": [
    "## 14. Write a python function for comparing two linear expressions. Given x, and coefficients a,b,c,d, compare a*x + b vs c*x + d and print which is larger or Equal.\n",
    "\n"
   ]
  },
  {
   "cell_type": "code",
   "execution_count": 30,
   "id": "dc3c75db-cbd7-4e8f-8c7c-066fec378697",
   "metadata": {},
   "outputs": [
    {
     "name": "stdin",
     "output_type": "stream",
     "text": [
      "Enter a number: 2\n",
      "Enter b number: 3\n",
      "Enter c number: 4\n",
      "Enter d number: 5\n",
      "Enter x number: 6\n"
     ]
    },
    {
     "name": "stdout",
     "output_type": "stream",
     "text": [
      "cX + d is larger\n"
     ]
    }
   ],
   "source": [
    "a = float(input(\"Enter a number:\"))\n",
    "b = float(input(\"Enter b number:\"))\n",
    "c = float(input(\"Enter c number:\"))\n",
    "d = float(input(\"Enter d number:\"))\n",
    "x = float(input(\"Enter x number:\"))\n",
    "\n",
    "def compare_linear():\n",
    "    val1 = a*x + b\n",
    "    val2 = c*x + d\n",
    "\n",
    "    if val1 > val2:\n",
    "        print(\"aX + b is larger\")\n",
    "    elif val1 < val2:\n",
    "        print(\"cX + d is larger\")\n",
    "    else:\n",
    "        print(\"Both are equal\")\n",
    "\n",
    "compare_linear()"
   ]
  },
  {
   "cell_type": "markdown",
   "id": "ff448619-d576-4a8b-86fb-ee95ef11bfbf",
   "metadata": {},
   "source": [
    "## 15. Write a python function for checking collinearity of three points.Given points A(x1,y1), B(x2,y2), C(x3,y3), use area/determinant test. \n",
    "If x1(y2−y3) + x2(y3−y1) + x3(y1−y2) = 0, print Collinear, else Not Collinear."
   ]
  },
  {
   "cell_type": "code",
   "execution_count": 3,
   "id": "2c32182f-ef74-4d87-8224-bbf7972e0968",
   "metadata": {},
   "outputs": [
    {
     "name": "stdin",
     "output_type": "stream",
     "text": [
      "enter a first number 1\n",
      "Enter a second number: 2\n",
      "Enter a third number: 3\n",
      "Enter a forth number: 4\n",
      "Enter a fifth number: 5\n",
      "Enter a sixth number: 6\n"
     ]
    },
    {
     "name": "stdout",
     "output_type": "stream",
     "text": [
      "Collinear\n"
     ]
    }
   ],
   "source": [
    "x1 = int(input(\"enter a first number\"))\n",
    "y1 = int(input(\"Enter a second number:\")) \n",
    "x2 = int(input(\"Enter a third number:\"))\n",
    "y2 = int(input(\"Enter a forth number:\"))\n",
    "x3 = int(input(\"Enter a fifth number:\"))\n",
    "y3 = int(input(\"Enter a sixth number:\"))\n",
    "def check_collinear():\n",
    "    t = x1*(y2 - y3) + x2*(y3 - y1) + x3*(y1 - y2)\n",
    "    if t == 0:\n",
    "        print(\"Collinear\")\n",
    "    else:\n",
    "        print(\"Not Collinear\")\n",
    "\n",
    "check_collinear()"
   ]
  },
  {
   "cell_type": "code",
   "execution_count": null,
   "id": "69d0dafe-f22e-4148-ba7e-0f25a67066c9",
   "metadata": {},
   "outputs": [],
   "source": []
  }
 ],
 "metadata": {
  "kernelspec": {
   "display_name": "Python [conda env:base] *",
   "language": "python",
   "name": "conda-base-py"
  },
  "language_info": {
   "codemirror_mode": {
    "name": "ipython",
    "version": 3
   },
   "file_extension": ".py",
   "mimetype": "text/x-python",
   "name": "python",
   "nbconvert_exporter": "python",
   "pygments_lexer": "ipython3",
   "version": "3.12.7"
  }
 },
 "nbformat": 4,
 "nbformat_minor": 5
}
