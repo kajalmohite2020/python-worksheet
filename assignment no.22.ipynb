{
 "cells": [
  {
   "cell_type": "code",
   "execution_count": 4,
   "id": "a9115441-2aea-45fe-9c5b-dfdc1e8b52a6",
   "metadata": {},
   "outputs": [
    {
     "name": "stdout",
     "output_type": "stream",
     "text": [
      "[1, 32, 4, 0]\n"
     ]
    }
   ],
   "source": [
    "#Assignment no.22\n",
    "#1.Write a python program to Convert a list of floats to integers.\n",
    "l = [1.23, 32.8, 4.545, 0.9]\n",
    "def convert_to_int(l):\n",
    "    return list(map(int, l))\n",
    "integers = convert_to_int(l)\n",
    "print(integers)"
   ]
  },
  {
   "cell_type": "code",
   "execution_count": 14,
   "id": "3f340a0a-4a71-46eb-8737-3ad1bbb6b514",
   "metadata": {},
   "outputs": [
    {
     "name": "stdout",
     "output_type": "stream",
     "text": [
      "[3, 5, 8, 0]\n"
     ]
    }
   ],
   "source": [
    "#2.Write a python program to Extract the unit digit of each number.\n",
    "num = [123, 45, 678, 90]\n",
    "def unit_digit(n):\n",
    "    return n % 10\n",
    "unit_digits = list(map(unit_digit, num))\n",
    "print(unit_digits)"
   ]
  },
  {
   "cell_type": "code",
   "execution_count": 13,
   "id": "4f4c90ae-3e2d-4687-b596-c9af5f18b083",
   "metadata": {},
   "outputs": [
    {
     "name": "stdout",
     "output_type": "stream",
     "text": [
      "[1, 6, 81, 1728, 50625]\n"
     ]
    }
   ],
   "source": [
    "#3.Write a python program to Raise each number to the power of its index.\n",
    "number=[3,6,9,12,15]\n",
    "result=list(map(lambda x:x[1]**x[0],enumerate(number)))\n",
    "print(result)"
   ]
  },
  {
   "cell_type": "code",
   "execution_count": 3,
   "id": "a571f16b-7335-4fb3-a9f5-3728d1ccc692",
   "metadata": {},
   "outputs": [
    {
     "name": "stdout",
     "output_type": "stream",
     "text": [
      "[653, 234, 555]\n"
     ]
    }
   ],
   "source": [
    "#4.Write a python program to Keep only numbers with exactly 3 digits.\n",
    "number=[45,653,234,9,22,555]\n",
    "def three_digit(n):\n",
    "    return 100 <= n <= 999\n",
    "result = list(filter(three_digit, number))\n",
    "print(result) "
   ]
  },
  {
   "cell_type": "code",
   "execution_count": 11,
   "id": "1988d72c-1d8b-48a5-9472-b28eb6015c7b",
   "metadata": {},
   "outputs": [
    {
     "name": "stdout",
     "output_type": "stream",
     "text": [
      "[1, 7]\n"
     ]
    }
   ],
   "source": [
    "#5.Write a python program to Filter numbers which are not multiples of any number in [2, 3, 5].\n",
    "numbers = [1, 2, 3, 4, 5, 6, 7, 8, 9, 10]\n",
    "def not_multiple(num):\n",
    "    return num % 2 != 0 and num % 3 != 0 and num % 5 != 0\n",
    "result = list(filter(not_multiple, numbers))\n",
    "print(result)\n"
   ]
  },
  {
   "cell_type": "code",
   "execution_count": null,
   "id": "8ee1c96a-fed5-4a56-948e-64ade5812c5b",
   "metadata": {},
   "outputs": [],
   "source": [
    "#6.Write a python program to  Find the number formed by multiplying digits of all numbers."
   ]
  },
  {
   "cell_type": "code",
   "execution_count": null,
   "id": "a13440b0-5e34-404d-b2f9-3ced5115e59d",
   "metadata": {},
   "outputs": [],
   "source": [
    "#7.Write a python program to Sort numbers in descending order"
   ]
  },
  {
   "cell_type": "code",
   "execution_count": null,
   "id": "a0ee9d25-5ac3-4044-8451-afc66d7d95c7",
   "metadata": {},
   "outputs": [],
   "source": [
    "#8.Write a python program to Find the index of the number with the highest number of digits"
   ]
  },
  {
   "cell_type": "code",
   "execution_count": null,
   "id": "1f331e3a-d484-4f79-b1c9-e991adc4437c",
   "metadata": {},
   "outputs": [],
   "source": [
    "#9.rite a python program to Sum all values whose index is a multiple of 3."
   ]
  },
  {
   "cell_type": "code",
   "execution_count": null,
   "id": "aaf3cc6a-ad07-46f4-9f94-f5dcd6fc1ace",
   "metadata": {},
   "outputs": [],
   "source": [
    "#10.Write a python program to Find the factorial of each number using map + lambda"
   ]
  }
 ],
 "metadata": {
  "kernelspec": {
   "display_name": "Python 3 (ipykernel)",
   "language": "python",
   "name": "python3"
  },
  "language_info": {
   "codemirror_mode": {
    "name": "ipython",
    "version": 3
   },
   "file_extension": ".py",
   "mimetype": "text/x-python",
   "name": "python",
   "nbconvert_exporter": "python",
   "pygments_lexer": "ipython3",
   "version": "3.12.7"
  }
 },
 "nbformat": 4,
 "nbformat_minor": 5
}
