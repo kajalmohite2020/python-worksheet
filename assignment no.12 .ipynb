{
 "cells": [
  {
   "cell_type": "code",
   "execution_count": 1,
   "id": "0973f8bf-e27f-4412-8b93-9d21df7da611",
   "metadata": {},
   "outputs": [
    {
     "name": "stdin",
     "output_type": "stream",
     "text": [
      "Enter the length of first diagonal:  23\n",
      "Enter the length of second diagonal:  45\n"
     ]
    },
    {
     "name": "stdout",
     "output_type": "stream",
     "text": [
      "Area of Rhombus = 517.5\n"
     ]
    }
   ],
   "source": [
    "#assignment no.12\n",
    "#1.Write a Python program that defines a user-defined function calculate_rhombus_ area(diagonal1,diagonal2) which takes the lenghts of the two diagonals of a rhombus as input and returns its area.\n",
    "#wihtout parameter\n",
    "d1 = float(input(\"Enter the length of first diagonal: \"))\n",
    "d2 = float(input(\"Enter the length of second diagonal: \"))\n",
    "\n",
    "def calculate_rhombus_area(diagonal1, diagonal2):\n",
    "    area = (diagonal1 * diagonal2) / 2\n",
    "    return area\n",
    "\n",
    "print(\"Area of Rhombus =\", calculate_rhombus_area(d1, d2))\n"
   ]
  },
  {
   "cell_type": "code",
   "execution_count": 3,
   "id": "a020fc39-0191-4eda-bb38-42649744a6bd",
   "metadata": {},
   "outputs": [
    {
     "name": "stdin",
     "output_type": "stream",
     "text": [
      "Enter the side length of the rhombus:  234\n"
     ]
    },
    {
     "name": "stdout",
     "output_type": "stream",
     "text": [
      "Perimeter of Rhombus = 936.0\n"
     ]
    }
   ],
   "source": [
    "#2.Create a Python program with a user-defined function calculate_rhombus_perimeter(side) that takes the side length of a rhombus as input and returns its perimeter.\n",
    "#wihtout parameter\n",
    "s = float(input(\"Enter the side length of the rhombus: \"))\n",
    "def calculate_rhombus_perimeter(side):\n",
    "    perimeter = 4 * side\n",
    "    return perimeter\n",
    "\n",
    "print(\"Perimeter of Rhombus =\", calculate_rhombus_perimeter(s))\n"
   ]
  },
  {
   "cell_type": "code",
   "execution_count": 5,
   "id": "0575d472-33d1-4bd3-910c-b1a944e330ce",
   "metadata": {},
   "outputs": [],
   "source": [
    "#3. Write a Python program that defines a user-defined function get_line_equation(x1, y1, x2, y2) which takes the coordinates of two points (x1, y1) and (x2, y2) and returns the slope and y-intercept of the line passing through them. The function should return a tuple (m, c) representing the slope (m) and y-intercept (c) in the slope-intercept form (y = mx + c). Handle the case of vertical lines (undefined slope) appropriately (e.g., return None for slope and the x-intercept).\n"
   ]
  },
  {
   "cell_type": "code",
   "execution_count": 7,
   "id": "6b1fd22f-f548-49ff-8193-8503fc92d450",
   "metadata": {},
   "outputs": [
    {
     "name": "stdin",
     "output_type": "stream",
     "text": [
      "Enter the length of first base:  34\n",
      "Enter the length of second base:  56\n",
      "Enter the height of trapezium:  234\n"
     ]
    },
    {
     "name": "stdout",
     "output_type": "stream",
     "text": [
      "Area of Trapezium = 10530.0\n"
     ]
    }
   ],
   "source": [
    "#4.Write a Python program that defines a user-defined function calculate_trapezium_area(base1, base2, height) which takes the lengths of the two parallel bases and the height of a trapezium (trapezoid) as input and returns its area.\n",
    "b1 = float(input(\"Enter the length of first base: \"))\n",
    "b2 = float(input(\"Enter the length of second base: \"))\n",
    "h = float(input(\"Enter the height of trapezium: \"))\n",
    "\n",
    "def calculate_trapezium_area(base1, base2, height):\n",
    "    area = ((base1 + base2) * height) / 2\n",
    "    return area\n",
    "\n",
    "print(\"Area of Trapezium =\", calculate_trapezium_area(b1, b2, h))\n"
   ]
  },
  {
   "cell_type": "code",
   "execution_count": 9,
   "id": "35962f70-4ed5-4f98-9765-540da081fd0f",
   "metadata": {},
   "outputs": [
    {
     "name": "stdin",
     "output_type": "stream",
     "text": [
      "Enter x-component of first vector:  2\n",
      "Enter y-component of first vector:  4\n",
      "Enter x-component of second vector:  5\n",
      "Enter y-component of second vector:  6\n"
     ]
    },
    {
     "name": "stdout",
     "output_type": "stream",
     "text": [
      "Dot Product = 34.0\n"
     ]
    }
   ],
   "source": [
    "#5. Write a Python program that defines a user-defined function calculate_dot_product(vec1_x, vec1_y, vec2_x, vec2_y) which takes the x and y components of two 2D vectors as input and returns their dot product.\n",
    "#Then, get user input for the components of two vectors and print their dot product.\n",
    "#wihtout parameter\n",
    "x1 = float(input(\"Enter x-component of first vector: \"))\n",
    "y1 = float(input(\"Enter y-component of first vector: \"))\n",
    "x2 = float(input(\"Enter x-component of second vector: \"))\n",
    "y2 = float(input(\"Enter y-component of second vector: \"))\n",
    "\n",
    "def calculate_dot_product(vec1_x, vec1_y, vec2_x, vec2_y):\n",
    "    dot_product = (vec1_x * vec2_x) + (vec1_y * vec2_y)\n",
    "    return dot_product\n",
    "\n",
    "print(\"Dot Product =\", calculate_dot_product(x1, y1, x2, y2))"
   ]
  },
  {
   "cell_type": "code",
   "execution_count": 11,
   "id": "9feddb73-0a80-4312-af69-2e2f05440530",
   "metadata": {},
   "outputs": [
    {
     "name": "stdin",
     "output_type": "stream",
     "text": [
      "Enter a number:  3\n"
     ]
    },
    {
     "name": "stdout",
     "output_type": "stream",
     "text": [
      "Factorial = 6\n"
     ]
    }
   ],
   "source": [
    "#.Create a Python program with a user-defined function calculate_factorial(n) that takes a non-negative integer n as input and returns its factorial. The factorial of a number n is the product of all positive integers less than or equal to n. For example, 5 factorial (5!) is 5 * 4 * 3 * 2 * 1 = 120.\n",
    "#without parameter\n",
    "n = int(input(\"Enter a number: \"))\n",
    "def calculate_factorial(n):\n",
    "    fact = 1\n",
    "    for i in range(1, n+1):\n",
    "        fact *= i\n",
    "    return fact\n",
    "print(\"Factorial =\", calculate_factorial(n))"
   ]
  },
  {
   "cell_type": "code",
   "execution_count": null,
   "id": "417bfca5-696a-489c-8ab7-3b13412a47c2",
   "metadata": {},
   "outputs": [],
   "source": [
    "#7.Write a Python program that defines a user-defined function calculate_mean(numbers_list) which takes a list of numbers as input and returns their arithmetic mean (average). The mean is the sum of all numbers divided by the count of numbers.\n"
   ]
  },
  {
   "cell_type": "code",
   "execution_count": null,
   "id": "a7a7a184-2813-4933-a940-8317ec968bf7",
   "metadata": {},
   "outputs": [],
   "source": [
    "#8.Write a Python program that defines a user-defined function sum_list_elements(numbers_list) which takes a list of numbers as input and returns the sum of all elements in the list. You should not use the built-in sum() function. Use a loop instead."
   ]
  },
  {
   "cell_type": "code",
   "execution_count": 23,
   "id": "0c46e3b1-325a-40c4-8e74-648263d4ee07",
   "metadata": {},
   "outputs": [
    {
     "name": "stdout",
     "output_type": "stream",
     "text": [
      "Largest element = 99\n"
     ]
    }
   ],
   "source": [
    "#9.Create a Python program with a user-defined function find_largest_element(numbers_list) that takes a list of numbers as input and returns the largest element in that list. You should not use the built-in max() function. Use a loop and a variable to keep track of the largest number found so far.\n",
    "numbers = [10, 25, 7, 99, 56]\n",
    "def find_largest_element(numbers_list):\n",
    "    largest = numbers_list[0]\n",
    "    for num in numbers_list:\n",
    "        if num > largest:\n",
    "            largest = num\n",
    "    return largest\n",
    "print(\"Largest element =\", find_largest_element(numbers))\n"
   ]
  },
  {
   "cell_type": "code",
   "execution_count": null,
   "id": "8229033a-80bc-4c9d-94d1-750d27549547",
   "metadata": {},
   "outputs": [],
   "source": [
    "#10.Write a python Function to Check for Twin PrimesTwo numbers are twin primes if they are both prime and differ by 2."
   ]
  }
 ],
 "metadata": {
  "kernelspec": {
   "display_name": "Python 3 (ipykernel)",
   "language": "python",
   "name": "python3"
  },
  "language_info": {
   "codemirror_mode": {
    "name": "ipython",
    "version": 3
   },
   "file_extension": ".py",
   "mimetype": "text/x-python",
   "name": "python",
   "nbconvert_exporter": "python",
   "pygments_lexer": "ipython3",
   "version": "3.12.7"
  }
 },
 "nbformat": 4,
 "nbformat_minor": 5
}
