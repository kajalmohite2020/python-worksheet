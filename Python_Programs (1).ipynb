{
 "cells": [
  {
   "cell_type": "markdown",
   "metadata": {
    "id": "F8nZ-VE8_ggx"
   },
   "source": [
    "#              **Python Programs**"
   ]
  },
  {
   "cell_type": "markdown",
   "metadata": {
    "id": "o06OROs3_86c"
   },
   "source": [
    "**1. Write a program to find if the number entered by the user is even or odd.**\n",
    "\n",
    "- First take the input from the user using **input()** function.\n",
    "- Use conditional statement **if-else**, for the main logic.\n",
    "- If the number is **divisible by 2** then it's an even number or else it's odd number. put this in if-else condition along with the **print()** function displaying the output."
   ]
  },
  {
   "cell_type": "code",
   "execution_count": null,
   "metadata": {
    "id": "J6obik-P_aNf"
   },
   "outputs": [],
   "source": [
    "# Input an integer\n",
    "number = int(input(\"Enter an integer: \")) # take number as an input\n",
    "\n",
    "if number % 2 == 0:                  # if the number is divisible by 2 and remainder is 0 the if block will exceute\n",
    "    print(\"The number is even.\")\n",
    "else:                                # if the condition is false else block will execute\n",
    "    print(\"The number is odd.\")\n"
   ]
  },
  {
   "cell_type": "code",
   "execution_count": 7,
   "metadata": {},
   "outputs": [
    {
     "name": "stdin",
     "output_type": "stream",
     "text": [
      "Enter an integer: 3\n"
     ]
    },
    {
     "name": "stdout",
     "output_type": "stream",
     "text": [
      "the number is odd.\n"
     ]
    }
   ],
   "source": [
    "num = int(input(\"Enter an integer:\"))\n",
    "def even_odd():\n",
    "    for i in range(1):\n",
    "        if num % 2 == 0:\n",
    "            print(\"the number is even.\")\n",
    "        else:\n",
    "            print(\"the number is odd.\")\n",
    "even_odd()"
   ]
  },
  {
   "cell_type": "markdown",
   "metadata": {
    "id": "cr_cI5WdBISm"
   },
   "source": [
    "**2. Write a program to check if the number entered by the user is a prime number or not.**\n",
    "\n",
    "**A prime number is a number which is divisible by 1 or itself.**\n",
    "\n",
    "- Take a number as an input from the user using input() function.\n",
    "- Checks if it’s one of the small prime numbers: 2, 3, 5, or 7.\n",
    "-  If it’s less than or equal to 1 → not prime.\n",
    "- Checks if the number is divisible by any of the common small prime numbers (2, 3, 5, 7). If it is → it's not a prime.\n",
    "- If it's not divisible by any of them → it's considered a prime."
   ]
  },
  {
   "cell_type": "code",
   "execution_count": null,
   "metadata": {
    "id": "VFVLw0vPBD3Z"
   },
   "outputs": [],
   "source": [
    "number = int(input(\"Enter a number: \"))\n",
    "\n",
    "if number == 2 or number == 3 or number == 5 or number == 7:\n",
    "    print(f\"{number} is a prime number.\")\n",
    "elif number == 1 or number < 1:\n",
    "    print(f\"{number} is not a prime number because it is less than 2.\")\n",
    "else:\n",
    "    if number % 2 == 0:\n",
    "        print(f\"{number} is not a prime number because it is divisible by 2.\")\n",
    "    elif number % 3 == 0:\n",
    "        print(f\"{number} is not a prime number because it is d)ivisible by 3.\")\n",
    "    elif number % 5 == 0:\n",
    "        print(f\"{number} is not a prime number because it is divisible by 5.\")\n",
    "    elif number % 7 == 0:\n",
    "        print(f\"{number} is not a prime number because it is divisible by 7.\")\n",
    "    else:\n",
    "        print(f\"{number} is a prime number.\")\n"
   ]
  },
  {
   "cell_type": "code",
   "execution_count": 5,
   "metadata": {},
   "outputs": [
    {
     "name": "stdin",
     "output_type": "stream",
     "text": [
      "Enter a number: 4\n"
     ]
    },
    {
     "name": "stdout",
     "output_type": "stream",
     "text": [
      "4 is not a prime number because it is divisible by 2.\n"
     ]
    }
   ],
   "source": [
    "number = int(input(\"Enter a number:\"))\n",
    "def check_print_num_or_not():\n",
    "    for i in range(1):\n",
    "        if number == 2 or number == 3 or number == 5 or number == 7:\n",
    "            print(f\"{number} is a prime number.\")\n",
    "        elif number == 1 or number < 1:\n",
    "            print(f\"{number} is not a prime number because it is less than 2.\")\n",
    "        else:\n",
    "            if number % 2 == 0:\n",
    "                print(f\"{number} is not a prime number because it is divisible by 2.\")\n",
    "            elif number % 3 == 0:\n",
    "                print(f\"{number} is not a prime number because it is d)ivisible by 3.\")\n",
    "            elif number % 5 == 0:\n",
    "                print(f\"{number} is not a prime number because it is divisible by 5.\")\n",
    "            elif number % 7 == 0:\n",
    "                print(f\"{number} is not a prime number because it is divisible by 7.\")\n",
    "            else:\n",
    "                print(f\"{number} is a prime number.\")\n",
    "check_print_num_or_not()        \n",
    "\n",
    "        "
   ]
  },
  {
   "cell_type": "markdown",
   "metadata": {
    "id": "0wWlphmuCtcE"
   },
   "source": [
    "**3. write a program to calculate Grade based on percentage.**\n",
    "\n",
    "- Take input of the percentage from the user.\n",
    "- As there are multiple conditions we will be using nested if-else / if-elif-else.\n",
    "- If percentage is 90 or more → Grade A+\n",
    "- Else if it's 80 or more → Grade A\n",
    "- Else if it's 70 or more → Grade B+\n",
    "- Else if it's 60 or more → Grade B\n",
    "- Else if it's 40 or more → Just Pass\n",
    "- Else (less than 40) → Fail"
   ]
  },
  {
   "cell_type": "code",
   "execution_count": null,
   "metadata": {
    "id": "F86eHyNnDkea"
   },
   "outputs": [],
   "source": [
    "# Take input from the user\n",
    "percentage = float(input(\"Enter the percentage: \"))\n",
    "\n",
    "# use if-elif-else to find the grade\n",
    "if percentage >= 90:\n",
    "    print(\"Grade A+\")\n",
    "elif percentage >= 80:\n",
    "    print(\"Grade A\")\n",
    "elif percentage >= 70:\n",
    "    print(\"Grade B+\")\n",
    "elif percentage >= 60:\n",
    "    print(\"Grade B\")\n",
    "elif percentage >= 40:\n",
    "    print(\"Pass\")\n",
    "else:\n",
    "    print(\"Fail\")\n"
   ]
  },
  {
   "cell_type": "code",
   "execution_count": 5,
   "metadata": {},
   "outputs": [
    {
     "name": "stdin",
     "output_type": "stream",
     "text": [
      "Enter a number: 45\n"
     ]
    },
    {
     "name": "stdout",
     "output_type": "stream",
     "text": [
      "Pass\n"
     ]
    }
   ],
   "source": [
    "p = int(input(\"Enter a number:\"))\n",
    "\n",
    "def grade_check():\n",
    "    for i in range(p):\n",
    "        if p >= 90:\n",
    "            print(\"Grade A+\")\n",
    "            break\n",
    "        elif p >= 80:\n",
    "            print(\"Grade A\")\n",
    "            break\n",
    "        elif p >= 70:\n",
    "            print(\"Grade B+\")\n",
    "            break\n",
    "        elif p >= 60:\n",
    "            print(\"Grade B\")\n",
    "            break\n",
    "        elif p >= 40:\n",
    "            print(\"Pass\")\n",
    "            break\n",
    "        else:\n",
    "            print(\"Fail\")\n",
    "            break\n",
    "grade_check()\n"
   ]
  },
  {
   "cell_type": "markdown",
   "metadata": {
    "id": "ExiMXXoyDxO9"
   },
   "source": [
    "**Write a program to take a number as an input from the user and print it's multiplication table till 10.**\n",
    "\n",
    "- Take an integer as user input.\n",
    "- Use a **for** loop to specify the range using **range()**.\n",
    "- Using **print()** function print the multiplication of the integer alongside the values of i generated by for loop.\n"
   ]
  },
  {
   "cell_type": "code",
   "execution_count": 1,
   "metadata": {
    "colab": {
     "base_uri": "https://localhost:8080/"
    },
    "id": "_xzKDKIsFAmY",
    "outputId": "3eb366e7-5c10-44e4-830c-f95d49c1e38e"
   },
   "outputs": [
    {
     "name": "stdout",
     "output_type": "stream",
     "text": [
      "Enter the number for table: 3\n",
      "3 x 1 = 3\n",
      "3 x 2 = 6\n",
      "3 x 3 = 9\n",
      "3 x 4 = 12\n",
      "3 x 5 = 15\n",
      "3 x 6 = 18\n",
      "3 x 7 = 21\n",
      "3 x 8 = 24\n",
      "3 x 9 = 27\n",
      "3 x 10 = 30\n"
     ]
    }
   ],
   "source": [
    "num = int(input(\"Enter the number for table: \"))\n",
    "for i in range(1, 11):\n",
    "    print(num, 'x', i, '=', num*i)"
   ]
  },
  {
   "cell_type": "code",
   "execution_count": 9,
   "metadata": {},
   "outputs": [
    {
     "name": "stdin",
     "output_type": "stream",
     "text": [
      "Enter the number for table: 4\n"
     ]
    },
    {
     "name": "stdout",
     "output_type": "stream",
     "text": [
      "4\n",
      "8\n",
      "12\n",
      "16\n",
      "20\n",
      "24\n",
      "28\n",
      "32\n",
      "36\n",
      "40\n"
     ]
    }
   ],
   "source": [
    "num = int(input(\"Enter the number for table:\"))\n",
    "def multiplication_table():\n",
    "    for i in range(1,11):\n",
    "        print(num*i)\n",
    "multiplication_table()\n",
    "    "
   ]
  },
  {
   "cell_type": "markdown",
   "metadata": {
    "id": "lJbdkHNsFORv"
   },
   "source": [
    "**5. Write a python program for countdown timer, take the countdown number from the user as an input**\n",
    "\n",
    "- Take the input from the user.\n",
    "- Use a **while** loop to start down the countdown from the user entered number till 0.\n",
    "- Use **print()** to print the number at each iteration.\n",
    "- **Decrement** the number at each step by**1**."
   ]
  },
  {
   "cell_type": "code",
   "execution_count": 11,
   "metadata": {
    "id": "JiPJkdhNGg_1"
   },
   "outputs": [
    {
     "name": "stdin",
     "output_type": "stream",
     "text": [
      "Enter a starting number for the countdown:  4\n"
     ]
    },
    {
     "name": "stdout",
     "output_type": "stream",
     "text": [
      "4\n",
      "3\n",
      "2\n",
      "1\n",
      "0\n"
     ]
    }
   ],
   "source": [
    "# Take starting number as input from user\n",
    "start = int(input(\"Enter a starting number for the countdown: \"))\n",
    "\n",
    "# Use a while loop to count down to 0\n",
    "while start >= 0:\n",
    "    print(start)\n",
    "    start -= 1  # Decrease the number by 1 in each step"
   ]
  },
  {
   "cell_type": "code",
   "execution_count": 15,
   "metadata": {},
   "outputs": [
    {
     "name": "stdin",
     "output_type": "stream",
     "text": [
      "Enter a starting number for the countdown: 5\n"
     ]
    },
    {
     "name": "stdout",
     "output_type": "stream",
     "text": [
      "5\n",
      "4\n",
      "3\n",
      "2\n",
      "1\n",
      "0\n"
     ]
    }
   ],
   "source": [
    "start = int(input(\"Enter a starting number for the countdown:\"))\n",
    "def countdown_number():  \n",
    "    for i in range(start, -1,-1):\n",
    "        print(i)\n",
    "countdown_number()        "
   ]
  },
  {
   "cell_type": "markdown",
   "metadata": {
    "id": "ZACk8ienGnnA"
   },
   "source": [
    "**6. Find the Minimum of Three Numbers- Take 3 numbers as input from user and check which is the smallest number.**\n",
    "\n",
    "- Take 3 numbers as an input from the user and store those numbers in 3 different variables, eg: a, b, c.\n",
    "- Use **nested if-else / if-elif-else** to check for the condtions. eg: a<b or b<c.\n",
    "- Use **print()** function to print the relevant statement if the specified condition is true."
   ]
  },
  {
   "cell_type": "code",
   "execution_count": 27,
   "metadata": {
    "id": "sinfUEn_GnKV"
   },
   "outputs": [
    {
     "name": "stdin",
     "output_type": "stream",
     "text": [
      "Enter first number:  4\n",
      "Enter second number:  3\n",
      "Enter third number:  6\n"
     ]
    },
    {
     "name": "stdout",
     "output_type": "stream",
     "text": [
      "The smallest number is 3\n"
     ]
    }
   ],
   "source": [
    "a = int(input(\"Enter first number: \"))\n",
    "b = int(input(\"Enter second number: \"))\n",
    "c = int(input(\"Enter third number: \"))\n",
    "\n",
    "if a < b and a < c:\n",
    "    print(\"The smallest number is\", a)\n",
    "elif b < a and b < c:\n",
    "    print(\"The smallest number is\", b)\n",
    "else:\n",
    "    print(\"The smallest number is\", c)\n"
   ]
  },
  {
   "cell_type": "code",
   "execution_count": 37,
   "metadata": {},
   "outputs": [
    {
     "name": "stdin",
     "output_type": "stream",
     "text": [
      "Enter first number:  3\n",
      "Enter second number:  5\n",
      "Enter third number:  2\n"
     ]
    },
    {
     "name": "stdout",
     "output_type": "stream",
     "text": [
      "The smallest number is 2\n"
     ]
    }
   ],
   "source": [
    "a = int(input(\"Enter first number: \"))\n",
    "b = int(input(\"Enter second number: \"))\n",
    "c = int(input(\"Enter third number: \"))\n",
    "# I will use here nested if-else \n",
    "def smallest_number(): \n",
    "    if a > b:\n",
    "        if a < c:\n",
    "            print(\"The smallest number is\", a)\n",
    "        else:\n",
    "            print(\"The smallest number is\", c)\n",
    "    else:\n",
    "        if b < c:\n",
    "            print(\"The smallest number is\",b)\n",
    "        else:\n",
    "            print(\"The smallest number is\", c) \n",
    "smallest_number() "
   ]
  },
  {
   "cell_type": "markdown",
   "metadata": {
    "id": "668RblRcH0qZ"
   },
   "source": [
    "**7. Write a program that prints all prime numbers within a specified range provided by the user.**\n",
    "\n",
    "- Take the starting number and the ending number from the user.\n",
    "- Use for loop to iterate over each number in the specified range(numbers in between the starting number and ending number.\n",
    "- Check if the **number is greater than 1** (because 0 and 1 are not prime).\n",
    "- Assume it's prime for now **(is_prime = True)**.\n",
    "- Try **dividing** the number by all values from **2 up to itself **(excluding itself).\n",
    "- If it divides evenly by any of those, it's **not a prime**, so set **is_prime = False.**\n",
    "- If no number divides it, then it's a **prime**, so print it using print().\n"
   ]
  },
  {
   "cell_type": "code",
   "execution_count": 41,
   "metadata": {
    "id": "QVFUy8ywJT34"
   },
   "outputs": [
    {
     "name": "stdin",
     "output_type": "stream",
     "text": [
      "Enter the start of the range:  5\n",
      "Enter the end of the range:  7\n"
     ]
    },
    {
     "name": "stdout",
     "output_type": "stream",
     "text": [
      "Prime numbers between 5 and 7 are:\n",
      "5\n",
      "7\n"
     ]
    }
   ],
   "source": [
    "start_range = int(input(\"Enter the start of the range: \"))\n",
    "end_range = int(input(\"Enter the end of the range: \"))\n",
    "\n",
    "print(\"Prime numbers between\", start_range, \"and\", end_range, \"are:\")\n",
    "\n",
    "for num in range(start_range, end_range + 1):\n",
    "    if num > 1:  # Prime numbers are greater than 1\n",
    "        is_prime = True  # Assume the number is prime\n",
    "\n",
    "        for i in range(2, num):  # Try dividing num by all numbers from 2 to num-1\n",
    "            if num % i == 0:\n",
    "                is_prime = False  # If divisible, it's not a prime\n",
    "                break  # No need to check further\n",
    "\n",
    "        if is_prime:\n",
    "            print(num)  # Print the number if it's still marked prime\n"
   ]
  },
  {
   "cell_type": "code",
   "execution_count": 138,
   "metadata": {},
   "outputs": [
    {
     "name": "stdin",
     "output_type": "stream",
     "text": [
      "Enter the start of the range:  2\n",
      "Enter the end of the range:  8\n"
     ]
    },
    {
     "name": "stdout",
     "output_type": "stream",
     "text": [
      "Prime numbers between\n",
      "2\n",
      "3\n",
      "5\n",
      "7\n"
     ]
    }
   ],
   "source": [
    "start = int(input(\"Enter the start of the range: \"))\n",
    "end = int(input(\"Enter the end of the range: \"))\n",
    "def prime_numbers_in_range():\n",
    "    print(\"Prime numbers between\")\n",
    "    for num in range(start, end + 1):\n",
    "        if num > 1:\n",
    "            prime_flag = 1\n",
    "            for i in range(2, num):\n",
    "                if num % i == 0:\n",
    "                    prime_flag = 0\n",
    "                    break\n",
    "            if prime_flag:\n",
    "                print(num)\n",
    "prime_numbers_in_range()"
   ]
  },
  {
   "cell_type": "markdown",
   "metadata": {
    "id": "rlOkwSj8Jarc"
   },
   "source": [
    "8. Write a program to find sum of Natural Numbers, take the number as an input from the user.\n",
    "\n",
    "- Take the integer as an input.\n",
    "- Set a **varibale** for storing the **result of additition to 0**.\n",
    "- Use a **for** loop to start the range from **0 to the number specified** by the user.\n",
    "- While this loop **iterates** over each number in the specified range **start adding it to the result**.\n",
    "- After loop ends print the result."
   ]
  },
  {
   "cell_type": "code",
   "execution_count": 43,
   "metadata": {
    "colab": {
     "base_uri": "https://localhost:8080/"
    },
    "id": "oZZCH_O0K0xl",
    "outputId": "47451dc8-8151-43f8-fb9c-1aea557912d6"
   },
   "outputs": [
    {
     "name": "stdin",
     "output_type": "stream",
     "text": [
      "How many natural numbers would you like to sum up?  5\n"
     ]
    },
    {
     "name": "stdout",
     "output_type": "stream",
     "text": [
      "The sum of the first 5 natural numbers is: 15\n"
     ]
    }
   ],
   "source": [
    "N = int(input(\"How many natural numbers would you like to sum up? \"))\n",
    "total = 0\n",
    "\n",
    "for i in range(1, N + 1):\n",
    "    total += i  # Add each number to total\n",
    "\n",
    "print(f\"The sum of the first {N} natural numbers is: {total}\")\n"
   ]
  },
  {
   "cell_type": "code",
   "execution_count": 89,
   "metadata": {},
   "outputs": [
    {
     "name": "stdin",
     "output_type": "stream",
     "text": [
      "Enter a number:  5\n"
     ]
    },
    {
     "name": "stdout",
     "output_type": "stream",
     "text": [
      "15\n"
     ]
    }
   ],
   "source": [
    "def sum_natural_numbers(n):\n",
    "    total = 0\n",
    "    for i in range(1, n + 1):\n",
    "        total += i\n",
    "    return total\n",
    "    \n",
    "num = int(input(\"Enter a number: \"))\n",
    "print(sum_natural_numbers(num))"
   ]
  },
  {
   "cell_type": "markdown",
   "metadata": {
    "id": "q4z43A1gK6dB"
   },
   "source": [
    "**9.Write a program to convert temperature from Celsius to Fahrenheit.**\n",
    "\n",
    "- Take the **celesius temperature** as an **input** from the user.\n",
    "- The formula used to convert the temperature is **°F = (°C × 9/5) + 32**\n",
    "- **Multiply the Celsius value by 9, divide by 5, then add 32.**\n",
    "- Print the converted formula.\n"
   ]
  },
  {
   "cell_type": "code",
   "execution_count": 91,
   "metadata": {
    "id": "fSPSJwEZK5W9"
   },
   "outputs": [
    {
     "name": "stdin",
     "output_type": "stream",
     "text": [
      "Please enter the temperature in Celsius:  4\n"
     ]
    },
    {
     "name": "stdout",
     "output_type": "stream",
     "text": [
      "4.0 Celsius is equivalent to 39.2 Fahrenheit.\n"
     ]
    }
   ],
   "source": [
    "celsius = float(input(\"Please enter the temperature in Celsius: \"))\n",
    "fahrenheit = (celsius * 9/5) + 32\n",
    "print(f\"{celsius} Celsius is equivalent to {fahrenheit} Fahrenheit.\")\n"
   ]
  },
  {
   "cell_type": "code",
   "execution_count": 95,
   "metadata": {},
   "outputs": [
    {
     "name": "stdin",
     "output_type": "stream",
     "text": [
      "Please enter the temperature in Celsius:  4\n"
     ]
    },
    {
     "name": "stdout",
     "output_type": "stream",
     "text": [
      "temperature from Celsius to Fahrenheit 39.2\n"
     ]
    }
   ],
   "source": [
    "def Celsius_to_Fahrenheit(): \n",
    "    celsius = float(input(\"Please enter the temperature in Celsius: \"))\n",
    "    fahrenheit = (celsius * 9/5) + 32\n",
    "    print(\"temperature from Celsius to Fahrenheit\",fahrenheit)\n",
    "Celsius_to_Fahrenheit()"
   ]
  },
  {
   "cell_type": "markdown",
   "metadata": {
    "id": "3fX0Gv0DLuf9"
   },
   "source": [
    "**10. Write a program to calculate the sum of the digits of a number provided by the user.**\n",
    "\n",
    "- Take the number as an input from the user.\n",
    "- Use a **for** loop to loop through each digit separetly in the number entered by the user.\n",
    "- Use **sum()** to add the digits.\n",
    "- Print the addition of all the digits."
   ]
  },
  {
   "cell_type": "code",
   "execution_count": 3,
   "metadata": {
    "colab": {
     "base_uri": "https://localhost:8080/"
    },
    "id": "7-kUl3SFMYiH",
    "outputId": "824697cd-2b2c-4452-ec2b-ca4ec53f620f"
   },
   "outputs": [
    {
     "name": "stdout",
     "output_type": "stream",
     "text": [
      "Please enter a number to find the sum of its digits: 45\n",
      "The sum of the digits is: 9\n"
     ]
    }
   ],
   "source": [
    "number = input(\"Please enter a number to find the sum of its digits: \")\n",
    "sum_of_digits = sum(int(digit) for digit in number)\n",
    "print(\"The sum of the digits is:\", sum_of_digits)"
   ]
  },
  {
   "cell_type": "code",
   "execution_count": 140,
   "metadata": {},
   "outputs": [
    {
     "name": "stdout",
     "output_type": "stream",
     "text": [
      "The sum of the digits is: 15\n"
     ]
    }
   ],
   "source": [
    "def sum_of_digits(number):\n",
    "    digit_sum = 0\n",
    "    for digit in str(number):  \n",
    "        digit_sum += int(digit)\n",
    "    print(\"The sum of the digits is:\", digit_sum)\n",
    "sum_of_digits(456)"
   ]
  },
  {
   "cell_type": "markdown",
   "metadata": {
    "id": "NKJ3ARHxMeZf"
   },
   "source": [
    "**11. Write a program to count vowels in a user entered string.**\n",
    "\n",
    "- Take the string as an input from the user.\n",
    "- Use **for** loop to go through each **character** in the given **string**.\n",
    "- **char.lower()** makes sure it catches both uppercase and lowercase letters.\n",
    "- If the character is a **vowel (a, e, i, o, u)**, we count it as **1**.\n",
    "- **sum()** adds up all the 1s — so the total is the number of vowels.\n",
    "\n"
   ]
  },
  {
   "cell_type": "code",
   "execution_count": 1,
   "metadata": {
    "id": "XG7Fi6OCMfLA"
   },
   "outputs": [
    {
     "name": "stdin",
     "output_type": "stream",
     "text": [
      "Enter a string to count the vowels:  hello\n"
     ]
    },
    {
     "name": "stdout",
     "output_type": "stream",
     "text": [
      "The number of vowels in the string is: 2\n"
     ]
    }
   ],
   "source": [
    "input_string = input(\"Enter a string to count the vowels: \")\n",
    "vowel_count = sum(1 for char in input_string if char.lower() in 'aeiou')\n",
    "print(f\"The number of vowels in the string is: {vowel_count}\")"
   ]
  },
  {
   "cell_type": "code",
   "execution_count": 5,
   "metadata": {},
   "outputs": [
    {
     "name": "stdin",
     "output_type": "stream",
     "text": [
      "Enter a string to count the vowels:  hello python\n"
     ]
    },
    {
     "name": "stdout",
     "output_type": "stream",
     "text": [
      "The number of vowels in the string is: 3\n"
     ]
    }
   ],
   "source": [
    "t = input(\"Enter a string to count the vowels: \")\n",
    "def count_vowels():                     \n",
    "    v = 'aeiou'\n",
    "    total = 0\n",
    "    for char in t:\n",
    "        if char.lower() in v:\n",
    "            total += 1\n",
    "    print(\"The number of vowels in the string is:\", total)\n",
    "\n",
    "count_vowels()                        "
   ]
  },
  {
   "cell_type": "markdown",
   "metadata": {
    "id": "vFTyDXEzNXqZ"
   },
   "source": [
    "**12. Write a python program to find the numbers divisible by another number.**\n",
    "\n",
    "- Take the list of numbers from the user. Also ask the user to enter the divisor.\n",
    "- Split the input into individual numbers (**split()** separates them by spaces).\n",
    "- **Convert** each to an **integer**\n",
    "- Check whether each number is divisible by the given divisor using: **number % divisor == 0**, if yes display the message.\n",
    "- If none of them are divisible, it prints a message at the end saying that.\n",
    "\n"
   ]
  },
  {
   "cell_type": "code",
   "execution_count": 142,
   "metadata": {
    "id": "xoNqRD99OyQF"
   },
   "outputs": [
    {
     "name": "stdin",
     "output_type": "stream",
     "text": [
      "Enter your numbers here:  453\n",
      "Please enter the divisor:  4\n"
     ]
    },
    {
     "name": "stdout",
     "output_type": "stream",
     "text": [
      "None of the numbers are divisible by 4.\n"
     ]
    }
   ],
   "source": [
    "input_numbers = input(\"Enter your numbers here: \")\n",
    "divisor = int(input(\"Please enter the divisor: \"))\n",
    "\n",
    "numbers = input_numbers.split()  # Splits the input string into individual numbers (as strings)\n",
    "\n",
    "found_divisible = False  # This will track if we found at least one divisible number\n",
    "\n",
    "for num_str in numbers:\n",
    "    number = int(num_str)  # Convert string to integer\n",
    "\n",
    "    if number % divisor == 0:\n",
    "        print(f\"{number} is divisible by {divisor}.\")\n",
    "        found_divisible = True  #  found at least one number that is divisible\n",
    "\n",
    "if not found_divisible:\n",
    "    print(f\"None of the numbers are divisible by {divisor}.\")\n"
   ]
  },
  {
   "cell_type": "code",
   "execution_count": 43,
   "metadata": {},
   "outputs": [
    {
     "name": "stdout",
     "output_type": "stream",
     "text": [
      "Numbers divisible by 6 are: 30\n"
     ]
    }
   ],
   "source": [
    "input_numbers = [10, 15, 20, 25, 30]\n",
    "divisor = 6\n",
    "divisible = [] \n",
    "\n",
    "for n in input_numbers:\n",
    "    if n % divisor == 0:\n",
    "        divisible += [n]  \n",
    "if divisible:\n",
    "    print(\"Numbers divisible by\", divisor, \"are:\", *divisible)\n",
    "else:\n",
    "    print(\"No numbers are divisible by\", divisor)"
   ]
  },
  {
   "cell_type": "markdown",
   "metadata": {
    "id": "UULxK68fO6FD"
   },
   "source": [
    "**13. Write a program to convert the Kilometers into Miles.**\n",
    "\n",
    "- Take the kilometers as an user input.\n",
    "- **1 kilometer = 0.621371 miles**, so use the formula for conversion: **miles=kilometers×0.621371**\n",
    "- Print the conversion for kilomters to miles."
   ]
  },
  {
   "cell_type": "code",
   "execution_count": 45,
   "metadata": {
    "id": "KwB4Cb5kO5qX"
   },
   "outputs": [
    {
     "name": "stdin",
     "output_type": "stream",
     "text": [
      "Enter the distance in kilometers:  6\n"
     ]
    },
    {
     "name": "stdout",
     "output_type": "stream",
     "text": [
      "6.0 kilometers is equal to 3.7282260000000003 miles.\n"
     ]
    }
   ],
   "source": [
    "kilometers = float(input(\"Enter the distance in kilometers: \"))\n",
    "\n",
    "conversion = 0.621371\n",
    "\n",
    "miles = kilometers * conversion\n",
    "print(f\"{kilometers} kilometers is equal to {miles} miles.\")\n"
   ]
  },
  {
   "cell_type": "code",
   "execution_count": 51,
   "metadata": {},
   "outputs": [
    {
     "name": "stdin",
     "output_type": "stream",
     "text": [
      "Enter the distance in kilometers:  54\n"
     ]
    },
    {
     "name": "stdout",
     "output_type": "stream",
     "text": [
      "54.0 kilometers is equal to 33.554034 miles.\n"
     ]
    }
   ],
   "source": [
    "conversion = 0.621371\n",
    "kilometers = float(input(\"Enter the distance in kilometers: \"))\n",
    "def Kilometers_into_Miles():\n",
    "    for i in range(1): \n",
    "        miles = kilometers * conversion\n",
    "        print(f\"{kilometers} kilometers is equal to {miles} miles.\")\n",
    "Kilometers_into_Miles()"
   ]
  },
  {
   "cell_type": "markdown",
   "metadata": {
    "id": "IHxznngFPl81"
   },
   "source": [
    "**14. Write a program to connvert decimal to binary.**\n",
    "\n",
    "**Binary Conversion - Keep dividing the number by 2 and writing down the remainders. Then reverse those remainders to get the binary number.**\n",
    "\n",
    "- Take the decimal number as an input from the user.\n",
    "- If the number is 0, binary is simply '0'\n",
    "- Keep dividing the number by 2. Collect the remainders (num % 2)\n",
    "- Add each remainder to the left of the binary string, Stop when the number becomes 0."
   ]
  },
  {
   "cell_type": "code",
   "execution_count": 55,
   "metadata": {
    "id": "W_6-qXfGPwBj"
   },
   "outputs": [
    {
     "name": "stdin",
     "output_type": "stream",
     "text": [
      "Enter a number:  54\n"
     ]
    },
    {
     "name": "stdout",
     "output_type": "stream",
     "text": [
      " Binary representation is: 110110\n"
     ]
    }
   ],
   "source": [
    "num = int(input(\"Enter a number: \"))\n",
    "\n",
    "binary = ''\n",
    "\n",
    "if num == 0:\n",
    "    binary = '0'\n",
    "else:\n",
    "    while num > 0:\n",
    "        binary = str(num % 2) + binary\n",
    "        num = num // 2\n",
    "\n",
    "print(\" Binary representation is:\", binary)\n"
   ]
  },
  {
   "cell_type": "code",
   "execution_count": 142,
   "metadata": {},
   "outputs": [
    {
     "name": "stdin",
     "output_type": "stream",
     "text": [
      "Enter a number:  2\n"
     ]
    },
    {
     "name": "stdout",
     "output_type": "stream",
     "text": [
      "Binary representation is: 00000000000000000000000000000010\n"
     ]
    }
   ],
   "source": [
    "num = int(input(\"Enter a number: \"))\n",
    "\n",
    "def Binary_Conversion():\n",
    "    binary = ''\n",
    "    n = num \n",
    "    if n == 0:\n",
    "        binary = '0'\n",
    "    else:\n",
    "        for i in range(32):\n",
    "            binary = str(n % 2) + binary\n",
    "            n = n // 2\n",
    "    print(\"Binary representation is:\", binary)\n",
    "Binary_Conversion()"
   ]
  },
  {
   "cell_type": "markdown",
   "metadata": {
    "id": "12QqG_aJQcXR"
   },
   "source": [
    "**15. Write a program for number guesing game, where the program automatically selects a number from 1 to 100, and we have to guess it. After guessing the program tells us if our guess is low or high.**\n",
    "\n",
    "- Start the game by asking the user to enter any number.\n",
    "- The number entered by the user is used to generate the target number. **target_number = num % 100 + 1**\n",
    "- Infinite loop, using **while** loop until the condition is **true**, It keeps asking for guesses.\n",
    "- Gives result: \"Too high\" or \"Too low\". When the **guess is correct** → it congratulates the user and **breaks the loop**.\n",
    "\n"
   ]
  },
  {
   "cell_type": "code",
   "execution_count": null,
   "metadata": {
    "id": "BsMMlof4Rxyo"
   },
   "outputs": [],
   "source": [
    "num = int(input(\"Enter any number to start the game: \"))\n",
    "\n",
    "target_number = num % 100 + 1  # Generate a number between 1 and 100\n",
    "\n",
    "print(\"I've thought of a number between 1 and 100. Try to guess it!\")\n",
    "\n",
    "while True:\n",
    "    guess = int(input(\"Enter your guess: \"))\n",
    "\n",
    "    if guess > target_number:\n",
    "        print(\"Too high! Try again.\")\n",
    "    elif guess < target_number:\n",
    "        print(\"Too low! Try again.\")\n",
    "    else:\n",
    "        print(\"Congratulations! You've guessed the right number!\")\n",
    "        break\n"
   ]
  },
  {
   "cell_type": "code",
   "execution_count": 134,
   "metadata": {},
   "outputs": [
    {
     "name": "stdin",
     "output_type": "stream",
     "text": [
      "Enter any number to start the game:  3\n"
     ]
    },
    {
     "name": "stdout",
     "output_type": "stream",
     "text": [
      "I've thought of a number between 1 and 100. Try to guess it!\n"
     ]
    },
    {
     "name": "stdin",
     "output_type": "stream",
     "text": [
      "Enter your guess:  3\n"
     ]
    },
    {
     "name": "stdout",
     "output_type": "stream",
     "text": [
      "Too low! Try again.\n"
     ]
    },
    {
     "name": "stdin",
     "output_type": "stream",
     "text": [
      "Enter your guess:  3\n"
     ]
    },
    {
     "name": "stdout",
     "output_type": "stream",
     "text": [
      "Too low! Try again.\n"
     ]
    },
    {
     "name": "stdin",
     "output_type": "stream",
     "text": [
      "Enter your guess:  4\n"
     ]
    },
    {
     "name": "stdout",
     "output_type": "stream",
     "text": [
      "Congratulations! You've guessed the right number!\n"
     ]
    }
   ],
   "source": [
    "num = int(input(\"Enter any number to start the game: \"))\n",
    "target_number = num % 100 + 1  \n",
    "print(\"I've thought of a number between 1 and 100. Try to guess it!\")\n",
    "def guess_the_number():\n",
    "    max_attempts = 100\n",
    "    for _ in range(max_attempts):\n",
    "        guess = int(input(\"Enter your guess: \"))\n",
    "        if guess > target_number:\n",
    "            print(\"Too high! Try again.\")\n",
    "        elif guess < target_number:\n",
    "            print(\"Too low! Try again.\")\n",
    "        else:\n",
    "            print(\"Congratulations! You've guessed the right number!\")\n",
    "            break\n",
    "guess_the_number()"
   ]
  },
  {
   "cell_type": "markdown",
   "metadata": {
    "id": "E0ErQHQGlrAN"
   },
   "source": [
    "**16. Write a program to print the following pattern. Reverse Triangle**\n",
    "\n",
    "    *  *  *  *  *  \n",
    "    *  *  *  *  \n",
    "    *  *  *  \n",
    "    *  *  \n",
    "    *\n",
    "\n",
    " - Take the number of rows as an input from the user.\n",
    " - Use an outer for loop for deciding the number of rows.\n",
    " - Use an inner for loop to print stars in each loop, it runs in the range of 0\n",
    "  to i. Prints stars on the same line with spaces.\n",
    " - The print() function at the last moves to the next line after finishing one row.\n",
    "     "
   ]
  },
  {
   "cell_type": "code",
   "execution_count": null,
   "metadata": {
    "id": "XmAGKt4DR-L4"
   },
   "outputs": [],
   "source": [
    "rows = int(input(\"Enter number of rows: \"))\n",
    "\n",
    "for i in range(rows, 0, -1):  # Outer loop starts from 'rows' down to 1\n",
    "    for j in range(0, i):     # Inner loop prints stars in each row\n",
    "        print(\"* \", end=\" \")  # Print star with space, stay on same line\n",
    "    print()                   # Move to next line after each row\n"
   ]
  },
  {
   "cell_type": "code",
   "execution_count": 72,
   "metadata": {},
   "outputs": [
    {
     "name": "stdin",
     "output_type": "stream",
     "text": [
      "Enter number of rows:  7\n"
     ]
    },
    {
     "name": "stdout",
     "output_type": "stream",
     "text": [
      "* * * * * * * \n",
      "* * * * * * \n",
      "* * * * * \n",
      "* * * * \n",
      "* * * \n",
      "* * \n",
      "* \n"
     ]
    }
   ],
   "source": [
    "def inverted_star(rows):\n",
    "    i = rows\n",
    "    while i > 0:\n",
    "        print(\"* \" * i) \n",
    "        i -= 1\n",
    "rows = int(input(\"Enter number of rows: \"))\n",
    "inverted_star(rows)"
   ]
  },
  {
   "cell_type": "markdown",
   "metadata": {
    "id": "CZsPHaanlyEV"
   },
   "source": [
    "**17. Write a program to print right angled triangle.**\n",
    "\n",
    "                     *\n",
    "                     * *\n",
    "                     * * *\n",
    "                     * * * *\n",
    "                     * * * * *\n",
    "\n",
    "\n",
    "- Take user input for number of rows.\n",
    "- Using a for loop control to print the number of rows specified by the user.Loop runs from i = 0 to i = rows - 1.\n",
    "- Use another for loop which acts like an and inner loop controls how many stars (*) to print on each line.                    \n",
    "- Print a * and make sure it doesn't go to the next line use end=\"\" to keep it on the same line\n",
    "- Call print() function again, to move the cursor to the next line, for each new row."
   ]
  },
  {
   "cell_type": "code",
   "execution_count": null,
   "metadata": {
    "id": "hFssEUsRldND"
   },
   "outputs": [],
   "source": [
    "rows = int(input(\"Enter number of rows: \"))\n",
    "\n",
    "for i in range(rows):             # Outer loop controls the number of rows\n",
    "    for j in range(i + 1):        # Inner loop controls number of stars per row\n",
    "        print(\"* \", end=\"\")       # Print star and stay on the same line\n",
    "    print()                       # Move to next line after each row\n"
   ]
  },
  {
   "cell_type": "code",
   "execution_count": 74,
   "metadata": {},
   "outputs": [
    {
     "name": "stdin",
     "output_type": "stream",
     "text": [
      "Enter number of rows:  6\n"
     ]
    },
    {
     "name": "stdout",
     "output_type": "stream",
     "text": [
      "* \n",
      "* * \n",
      "* * * \n",
      "* * * * \n",
      "* * * * * \n",
      "* * * * * * \n"
     ]
    }
   ],
   "source": [
    "def print_star_pattern():\n",
    "    rows = int(input(\"Enter number of rows: \"))\n",
    "    i = 1\n",
    "    while i <= rows:\n",
    "        print(\"* \" * i) \n",
    "        i += 1\n",
    "print_star_pattern()"
   ]
  },
  {
   "cell_type": "markdown",
   "metadata": {
    "id": "bKPxOOKgnWoN"
   },
   "source": [
    "**18. Write a python program to print half pyramid a using numbers.**\n",
    "\n",
    "                         1\n",
    "                         1 2\n",
    "                         1 2 3\n",
    "                         1 2 3 4\n",
    "                         1 2 3 4 5\n",
    "\n",
    "- Take user input for the number of rows.\n",
    "- Loop for each **row (outer loop)**.From **i = 0 to rows - 1**,Each value of i represents a row.\n",
    "-  Loop to print **numbers (inner loop)**.For each **row i, run a loop from j = 0 to i**.Print j + 1 with space (end=\" \")\n",
    "- Use print() to go to a new line after each row.\n",
    "\n",
    "\n",
    "                         \n"
   ]
  },
  {
   "cell_type": "code",
   "execution_count": null,
   "metadata": {
    "id": "COk-b4r6nPN1"
   },
   "outputs": [],
   "source": [
    "rows = int(input(\"Enter number of rows: \"))\n",
    "\n",
    "for i in range(rows):\n",
    "    for j in range(i + 1):\n",
    "        print(j + 1, end=\" \")\n",
    "    print()\n"
   ]
  },
  {
   "cell_type": "code",
   "execution_count": 76,
   "metadata": {},
   "outputs": [
    {
     "name": "stdin",
     "output_type": "stream",
     "text": [
      "Enter number of rows:  4\n"
     ]
    },
    {
     "name": "stdout",
     "output_type": "stream",
     "text": [
      "1 \n",
      "1 2 \n",
      "1 2 3 \n",
      "1 2 3 4 \n"
     ]
    }
   ],
   "source": [
    "def number_pattern():\n",
    "    rows = int(input(\"Enter number of rows: \"))\n",
    "    for i in range(rows):\n",
    "        for j in range(i + 1):\n",
    "            print(j + 1, end=\" \")\n",
    "        print()\n",
    "number_pattern()"
   ]
  },
  {
   "cell_type": "markdown",
   "metadata": {
    "id": "8x__CwUAodFW"
   },
   "source": [
    "**19. Write a python program to print half pyramid using alphabets.**\n",
    "\n",
    "                      A\n",
    "                      B B\n",
    "                      C C C\n",
    "                      D D D D\n",
    "                      E E E E E\n",
    "\n",
    "- Take user input for number of rows.\n",
    "- Initialize **ascii_value = 65 (for 'A')**.\n",
    "- Loop through **rows (i from 0 to rows-1)**.\n",
    "- For each row, Loop through **columns (j from 0 to i)**.\n",
    "- Convert ascii_value to character using **chr()**.Print the character with space (**end=\" \"**).\n",
    "- After inner loop, go to next line using print().**Increment** ascii_value by **1.**                      "
   ]
  },
  {
   "cell_type": "code",
   "execution_count": null,
   "metadata": {
    "id": "NoMDaY3Mphst"
   },
   "outputs": [],
   "source": [
    "rows = int(input(\"Enter number of rows: \"))\n",
    "\n",
    "ascii_value = 65  # ASCII value of 'A'\n",
    "\n",
    "for i in range(rows):\n",
    "    for j in range(i + 1):\n",
    "        alphabet = chr(ascii_value)\n",
    "        print(alphabet, end=\" \")\n",
    "\n",
    "    ascii_value += 1  # Move to next letter for the next row\n",
    "    print()\n"
   ]
  },
  {
   "cell_type": "code",
   "execution_count": 82,
   "metadata": {},
   "outputs": [
    {
     "name": "stdin",
     "output_type": "stream",
     "text": [
      "Enter number of rows:  6\n"
     ]
    },
    {
     "name": "stdout",
     "output_type": "stream",
     "text": [
      "A \n",
      "B B \n",
      "C C C \n",
      "D D D D \n",
      "E E E E E \n",
      "F F F F F F \n"
     ]
    }
   ],
   "source": [
    "def alphabet_pattern():\n",
    "    rows = int(input(\"Enter number of rows: \"))\n",
    "    ascii_value = 65  \n",
    "    i = 1\n",
    "    while i <= rows:\n",
    "        print((chr(ascii_value) + \" \") * i)\n",
    "        ascii_value += 1\n",
    "        i += 1\n",
    "alphabet_pattern()"
   ]
  },
  {
   "cell_type": "markdown",
   "metadata": {
    "id": "selfKqlopmNm"
   },
   "source": [
    "**20. Write a program to print full pyramid of numbers.**\n",
    "\n",
    "                               1\n",
    "                             2 3 2\n",
    "                           3 4 5 4 3\n",
    "                         4 5 6 7 6 5 4\n",
    "                       5 6 7 8 9 8 7 6 5\n",
    "\n",
    "- Take number of rows from user.\n",
    "- Loop from **i = 1** to **rows (each row)**.                       \n",
    "- Print spaces to center the numbers. Use a loop to print **(rows - i)** spaces.\n",
    "- Use while loop to print **(2 * i - 1)** numbers. First half increases from i.\n",
    "Second half decreases back toward i.\n",
    "- Reset counters **(k, count, count1)**, move to next line."
   ]
  },
  {
   "cell_type": "code",
   "execution_count": null,
   "metadata": {
    "id": "U0nrRHYFrbt7"
   },
   "outputs": [],
   "source": [
    "# Ask the user how many rows they want in the pyramid\n",
    "rows = int(input(\"Enter number of rows: \"))\n",
    "\n",
    "# Initialize counters\n",
    "k = 0         # Controls how many numbers to print in each row\n",
    "count = 0     # Helps decide when to switch from increasing to decreasing numbers\n",
    "count1 = 0    # Helps calculate decreasing numbers\n",
    "\n",
    "# Loop through each row from 1 to 'rows'\n",
    "for i in range(1, rows + 1):\n",
    "\n",
    "    # Print spaces before the numbers to center the pyramid\n",
    "    for space in range(1, (rows - i) + 1):\n",
    "        print(\"  \", end=\"\")  # Print two spaces for proper alignment\n",
    "        count += 1           # Increase the space counter\n",
    "\n",
    "    # Print numbers (first increasing, then decreasing)\n",
    "    while k != ((2 * i) - 1):   # Total numbers in a row = 2*i - 1\n",
    "        if count <= rows - 1:\n",
    "            # First half: print increasing numbers\n",
    "            print(i + k, end=\" \")\n",
    "            count += 1\n",
    "        else:\n",
    "            # Second half: print decreasing numbers\n",
    "            count1 += 1\n",
    "            print(i + k - (2 * count1), end=\" \")\n",
    "        k += 1   # Move to the next number position\n",
    "\n",
    "    # Reset counters after each row\n",
    "    count = count1 = k = 0\n",
    "\n",
    "    # Move to the next line after one row is done\n",
    "    print()\n"
   ]
  },
  {
   "cell_type": "code",
   "execution_count": 86,
   "metadata": {},
   "outputs": [
    {
     "name": "stdin",
     "output_type": "stream",
     "text": [
      "Enter number of rows:  6\n"
     ]
    },
    {
     "name": "stdout",
     "output_type": "stream",
     "text": [
      "          1 \n",
      "        2 3 2 \n",
      "      3 4 5 4 3 \n",
      "    4 5 6 7 6 5 4 \n",
      "  5 6 7 8 9 8 7 6 5 \n",
      "6 7 8 9 10 11 10 9 8 7 6 \n"
     ]
    }
   ],
   "source": [
    " rows = int(input(\"Enter number of rows: \"))\n",
    "def number_pyramid():\n",
    "    k = 0         \n",
    "    count = 0    \n",
    "    count1 = 0    \n",
    "    for i in range(1, rows + 1):\n",
    "\n",
    "        for space in range(1, (rows - i) + 1):\n",
    "            print(\"  \", end=\"\")  \n",
    "            count += 1           \n",
    "\n",
    "        while k != ((2 * i) - 1):  \n",
    "            if count <= rows - 1:\n",
    "                print(i + k, end=\" \")\n",
    "                count += 1\n",
    "            else:\n",
    "                count1 += 1\n",
    "                print(i + k - (2 * count1), end=\" \")\n",
    "            k += 1  \n",
    "        count = count1 = k = 0\n",
    "        print()\n",
    "number_pyramid()"
   ]
  },
  {
   "cell_type": "markdown",
   "metadata": {
    "id": "tb3b8WJmrsgT"
   },
   "source": [
    "**21. Write a program to print Pascals Triangle.**\n",
    "\n",
    "                        \n",
    "                                   1\n",
    "                                 1   1\n",
    "                               1   2   1\n",
    "                             1   3   3   1\n",
    "                           1   4   6   4   1\n",
    "                          1  5   10  10  5   1\n",
    "\n",
    "\n",
    "\n",
    "\n",
    "\n",
    "- Take number of rows as an input from the user.\n",
    "\n",
    "- Loop from **i = 1 to rows**.\n",
    "\n",
    "- Print **spaces: (rows - i)** spaces for alignment.\n",
    "\n",
    "- Set **coef = 1** at the start of each row.\n",
    "\n",
    "- Loop from **j = 0 to i - 1** for printing numbers.\n",
    "\n",
    "- If **j == 0, set coef = 1;** else use **coef = coef * (i - j) // j**.\n",
    "\n",
    "- Print **coef with a space**.\n",
    "\n",
    "- Move to next line after printing one row."
   ]
  },
  {
   "cell_type": "code",
   "execution_count": null,
   "metadata": {
    "id": "96bpyMrorr2C"
   },
   "outputs": [],
   "source": [
    "# Ask user for number of rows in Pascal's Triangle\n",
    "rows = int(input(\"Enter number of rows: \"))\n",
    "\n",
    "# Initialize coefficient\n",
    "coef = 1\n",
    "\n",
    "# Outer loop for each row (starts from 1 to rows)\n",
    "for i in range(1, rows + 1):\n",
    "\n",
    "    # Print spaces to center-align the triangle\n",
    "    for space in range(1, rows - i + 1):\n",
    "        print(\" \", end=\"\")  # Print one space\n",
    "\n",
    "    # Inner loop to print numbers in each row\n",
    "    for j in range(0, i):\n",
    "\n",
    "        # First element of every row is always 1\n",
    "        if j == 0 or i == 0:\n",
    "            coef = 1\n",
    "        else:\n",
    "            # Calculate binomial coefficient using formula:\n",
    "            # coef = coef * (i - j) // j\n",
    "            coef = coef * (i - j) // j\n",
    "\n",
    "        # Print the coefficient with a space\n",
    "        print(coef, end=\" \")\n",
    "\n",
    "    # Move to the next line after finishing one row\n",
    "    print()\n"
   ]
  },
  {
   "cell_type": "code",
   "execution_count": 132,
   "metadata": {},
   "outputs": [
    {
     "name": "stdin",
     "output_type": "stream",
     "text": [
      "Enter number of rows:  4\n"
     ]
    },
    {
     "name": "stdout",
     "output_type": "stream",
     "text": [
      "   1 \n",
      "  1 1 \n",
      " 1 2 1 \n",
      "1 3 3 1 \n"
     ]
    }
   ],
   "source": [
    "def pascal_triangle():\n",
    "    rows = int(input(\"Enter number of rows: \"))\n",
    "    coef = 1\n",
    "    for i in range(1, rows + 1):\n",
    "        for space in range(1, rows - i + 1):\n",
    "            print(\" \", end=\"\") \n",
    "        for j in range(0, i):\n",
    "            if j == 0 or i == 0:\n",
    "                coef = 1\n",
    "            else:\n",
    "                coef = coef * (i - j) // j\n",
    "            print(coef, end=\" \")\n",
    "        print()\n",
    "pascal_triangle()"
   ]
  },
  {
   "cell_type": "markdown",
   "metadata": {
    "id": "YZcJnJWWt4SG"
   },
   "source": [
    "**22. Write a program to print Floyd's Triangle.**\n",
    "\n",
    "                    1\n",
    "                    2 3\n",
    "                    4 5 6\n",
    "                    7 8 9 10\n",
    "\n",
    "- Take number of rows from the user\n",
    "- Initialize a **counter number = 1**.\n",
    "- Loop through rows from **i = 1 to rows**.\n",
    "- Loop through columns from **j = 1 to i**.\n",
    "- Print number and **increment by 1**.\n",
    "- Move to the next line after each row.\n",
    "- Repeat until all rows are printed."
   ]
  },
  {
   "cell_type": "code",
   "execution_count": null,
   "metadata": {
    "id": "EEjVYezTs8H8"
   },
   "outputs": [],
   "source": [
    "# Ask the user to enter the number of rows\n",
    "rows = int(input(\"Enter number of rows: \"))\n",
    "\n",
    "# Initialize the starting number\n",
    "number = 1\n",
    "\n",
    "# Outer loop to handle the number of rows\n",
    "for i in range(1, rows + 1):\n",
    "\n",
    "    # Inner loop to handle the number of values in each row\n",
    "    for j in range(1, i + 1):\n",
    "        print(number, end=\" \")  # Print the current number and stay on the same line\n",
    "        number += 1             # Increment the number for the next position\n",
    "\n",
    "    # Print a new line after each row is complete\n",
    "    print()\n"
   ]
  },
  {
   "cell_type": "code",
   "execution_count": 92,
   "metadata": {},
   "outputs": [
    {
     "name": "stdin",
     "output_type": "stream",
     "text": [
      "Enter number of rows:  4\n"
     ]
    },
    {
     "name": "stdout",
     "output_type": "stream",
     "text": [
      "1 \n",
      "2 3 \n",
      "4 5 6 \n",
      "7 8 9 10 \n"
     ]
    }
   ],
   "source": [
    "def number_pyramid():\n",
    "    rows = int(input(\"Enter number of rows: \"))\n",
    "    number = 1  \n",
    "    i = 1       \n",
    "    while i <= rows:\n",
    "        j = 1 \n",
    "        while j <= i:\n",
    "            print(number, end=\" \")  \n",
    "            number += 1             \n",
    "            j += 1\n",
    "        print() \n",
    "        i += 1\n",
    "number_pyramid()"
   ]
  },
  {
   "cell_type": "markdown",
   "metadata": {
    "id": "ajtiBxeyuwrr"
   },
   "source": [
    "**23. Write a program to print  full pyramid using *.**\n",
    "\n",
    "                     *\n",
    "                   * * *\n",
    "                 * * * * *\n",
    "               * * * * * * *\n",
    "             * * * * * * * * *\n",
    "\n",
    "- Take user input for the number of rows.\n",
    "- Loop from **i = 1 to rows** (for each row).\n",
    "- Print **spaces: print (rows - i)** double-spaces to center the stars.\n",
    "- Initialize **k = 0** to count the number of stars.\n",
    "- While **k != 2*i - 1**, print \"* \" and **increment k**.\n",
    "- **Reset k = 0** after finishing the row.\n",
    "- Move to the next line after each row.             "
   ]
  },
  {
   "cell_type": "code",
   "execution_count": null,
   "metadata": {
    "id": "bgKGiy5vvbkg"
   },
   "outputs": [],
   "source": [
    "# Ask the user to enter the number of rows for the pyramid\n",
    "rows = int(input(\"Enter number of rows: \"))\n",
    "\n",
    "# Initialize a counter for stars\n",
    "k = 0\n",
    "\n",
    "# Outer loop to handle each row\n",
    "for i in range(1, rows + 1):\n",
    "\n",
    "    # Inner loop to print spaces before stars to center the pyramid\n",
    "    for space in range(1, (rows - i) + 1):\n",
    "        print(end=\"  \")  # Two spaces for proper alignment\n",
    "\n",
    "    # While loop to print stars in the shape of a pyramid\n",
    "    while k != (2 * i - 1):\n",
    "        print(\"* \", end=\"\")  # Print star with space\n",
    "        k += 1               # Count the number of stars printed\n",
    "\n",
    "    # Reset star counter for next row\n",
    "    k = 0\n",
    "\n",
    "    # Move to next line after printing one row\n",
    "    print()\n"
   ]
  },
  {
   "cell_type": "code",
   "execution_count": 94,
   "metadata": {},
   "outputs": [
    {
     "name": "stdin",
     "output_type": "stream",
     "text": [
      "Enter number of rows:  6\n"
     ]
    },
    {
     "name": "stdout",
     "output_type": "stream",
     "text": [
      "          * \n",
      "        * * * \n",
      "      * * * * * \n",
      "    * * * * * * * \n",
      "  * * * * * * * * * \n",
      "* * * * * * * * * * * \n"
     ]
    }
   ],
   "source": [
    "def star_pyramid():\n",
    "    rows = int(input(\"Enter number of rows: \"))\n",
    "\n",
    "    k = 0  \n",
    "    for i in range(1, rows + 1):\n",
    "        for space in range(1, (rows - i) + 1):\n",
    "            print(end=\"  \") \n",
    "        while k != (2 * i - 1):\n",
    "            print(\"* \", end=\"\")  \n",
    "            k += 1             \n",
    "\n",
    "        k = 0 \n",
    "        print()  \n",
    "star_pyramid()"
   ]
  },
  {
   "cell_type": "markdown",
   "metadata": {
    "id": "tubLLVbHvhd_"
   },
   "source": [
    "**Write a program to print inverse pyramid of *.**\n",
    "\n",
    "                      * * * * * * * * *\n",
    "                        * * * * * * *\n",
    "                          * * * * *\n",
    "                            * * *\n",
    "                              *\n",
    "\n",
    "- Take number of rows from user as an input.\n",
    "- Loop from **i = rows to 2 (descending)**: each i is a row.\n",
    "- Print **spaces: print (rows - i)** double spaces to center the stars.\n",
    "- Print stars: First loop: from **i to 2 * i - 1**. Second loop: from **1 to i - 2.**(Together these print a symmetric set of stars.)\n",
    "- Move to the next line.\n",
    "- Repeat for all rows until **i == 2.**"
   ]
  },
  {
   "cell_type": "code",
   "execution_count": null,
   "metadata": {
    "id": "hwfg33M1xETU"
   },
   "outputs": [],
   "source": [
    "# Ask the user to input number of rows\n",
    "rows = int(input(\"Enter number of rows: \"))\n",
    "\n",
    "# Loop from the highest row down to 2\n",
    "for i in range(rows, 1, -1):\n",
    "\n",
    "    # Print leading spaces to center the pyramid\n",
    "    for space in range(0, rows - i):\n",
    "        print(\"  \", end=\"\")\n",
    "\n",
    "    # Print the first half of stars\n",
    "    for j in range(i, 2 * i - 1):\n",
    "        print(\"* \", end=\"\")\n",
    "\n",
    "    # Print the second half of stars\n",
    "    for j in range(1, i - 1):\n",
    "        print(\"* \", end=\"\")\n",
    "\n",
    "    # Move to the next line after each row\n",
    "    print()\n"
   ]
  },
  {
   "cell_type": "code",
   "execution_count": 96,
   "metadata": {},
   "outputs": [
    {
     "name": "stdin",
     "output_type": "stream",
     "text": [
      "Enter number of rows:  5\n"
     ]
    },
    {
     "name": "stdout",
     "output_type": "stream",
     "text": [
      "* * * * * * * * * \n",
      "  * * * * * * * \n",
      "    * * * * * \n",
      "      * * * \n",
      "        * \n"
     ]
    }
   ],
   "source": [
    "def inverse_pyramid(rows):\n",
    "    for i in range(rows, 0, -1):\n",
    "        print(\"  \" * (rows - i), end=\"\")\n",
    "        k = 0\n",
    "        while k != 2 * i - 1:\n",
    "            print(\"*\", end=\" \")\n",
    "            k += 1\n",
    "        print()\n",
    "rows = int(input(\"Enter number of rows: \"))\n",
    "inverse_pyramid(rows)"
   ]
  },
  {
   "cell_type": "markdown",
   "metadata": {
    "id": "SIwBiX9MxI5T"
   },
   "source": [
    "**25. Impelement a program where user enters their current savings and monthly deposit.Use assignment operators to update their savings account after adding their monthly deposit, including monthly interest of 0.5%.**\n",
    "\n",
    "\n",
    "- Take user input for currennt savings and monthly deposit.\n",
    "- **Add** the **monthly deposit** to **savings**.\n",
    "- **Multiply** savings by **1.005** to apply **0.5% interest**.\n",
    "- Print the updated savings with interest."
   ]
  },
  {
   "cell_type": "code",
   "execution_count": null,
   "metadata": {
    "id": "JNnW5u-jzYDR"
   },
   "outputs": [],
   "source": [
    "# Ask the user for current savings amount\n",
    "savings = float(input(\"Enter current savings: \"))\n",
    "\n",
    "# Ask the user for this month's deposit\n",
    "monthlydeposit = float(input(\"Enter monthly deposit: \"))\n",
    "\n",
    "# Add the deposit to the savings\n",
    "savings += monthlydeposit\n",
    "\n",
    "# Add 0.5% interest (1.005 is the same as 100% + 0.5%)\n",
    "savings *= 1.005\n",
    "\n",
    "# Display the updated savings\n",
    "print(f\"Savings with interest: {savings}\")\n"
   ]
  },
  {
   "cell_type": "code",
   "execution_count": 106,
   "metadata": {},
   "outputs": [
    {
     "name": "stdin",
     "output_type": "stream",
     "text": [
      "Enter current savings:  1000\n",
      "Enter monthly deposit:  500\n"
     ]
    },
    {
     "name": "stdout",
     "output_type": "stream",
     "text": [
      "Savings with interest: 1507.4999999999998\n"
     ]
    }
   ],
   "source": [
    "def update_savings():\n",
    "    savings = float(input(\"Enter current savings: \"))\n",
    "    monthlydeposit = float(input(\"Enter monthly deposit: \"))\n",
    "    for _ in range(1): \n",
    "        savings += monthlydeposit      \n",
    "        savings *= 1.005               \n",
    "    print(f\"Savings with interest: {savings}\")\n",
    "update_savings()"
   ]
  },
  {
   "cell_type": "markdown",
   "metadata": {
    "id": "BD2AkQMBzabx"
   },
   "source": [
    "**26. Write a program that calculates the compound interest on an initial investment over a given number of years.The user should input the initial amount, the annual interest, the duration in years, and a specific year when the withdrawal is to be made. Adjust the calculation based on the withdrawal.**\n",
    "\n",
    "- Take user inputs for initial investment amount, no. of years, annual interest,withdrawal year, withdrawal amount.\n",
    "- Set **balance = initial_amount.**\n",
    "- Loop from **year 1 to total years**: Add interest to balance. If it’s the withdrawal year, subtract withdrawal.\n",
    "- Print the final balance rounded to 2 decimal places."
   ]
  },
  {
   "cell_type": "code",
   "execution_count": 108,
   "metadata": {
    "id": "QGwELbBo17bI"
   },
   "outputs": [
    {
     "name": "stdin",
     "output_type": "stream",
     "text": [
      "Enter the initial amount:  30000\n",
      "Enter the annual interest rate (as a percent):  1000\n",
      "Enter the number of years:  12\n",
      "Enter the year a withdrawal is made:  2\n",
      "Enter the withdrawal amount:  10000\n"
     ]
    },
    {
     "name": "stdout",
     "output_type": "stream",
     "text": [
      "Final balance after 12 years is: Rs.93893477055620000.00\n"
     ]
    }
   ],
   "source": [
    "# Input initial savings amount\n",
    "initial_amount = float(input(\"Enter the initial amount: \"))\n",
    "\n",
    "# Input annual interest rate (converted to decimal)\n",
    "annual_rate = float(input(\"Enter the annual interest rate (as a percent): \")) / 100\n",
    "\n",
    "# Input number of years to calculate growth\n",
    "years = int(input(\"Enter the number of years: \"))\n",
    "\n",
    "# Input the year in which a withdrawal will be made\n",
    "withdrawal_year = int(input(\"Enter the year a withdrawal is made: \"))\n",
    "\n",
    "# Input the amount to be withdrawn\n",
    "withdrawal_amount = float(input(\"Enter the withdrawal amount: \"))\n",
    "\n",
    "# Initialize balance with initial amount\n",
    "balance = initial_amount\n",
    "\n",
    "# Loop through each year to apply compound interest\n",
    "for year in range(1, years + 1):\n",
    "    balance += balance * annual_rate  # Add interest for the year\n",
    "    if year == withdrawal_year:\n",
    "        balance -= withdrawal_amount  # Deduct withdrawal in specified year\n",
    "\n",
    "# Print the final balance after all years\n",
    "print(f\"Final balance after {years} years is: Rs.{balance:.2f}\")\n"
   ]
  },
  {
   "cell_type": "code",
   "execution_count": 116,
   "metadata": {},
   "outputs": [
    {
     "name": "stdin",
     "output_type": "stream",
     "text": [
      "Enter initial amount:  1000\n",
      "Enter annual interest (%):  500\n",
      "Enter total years:  3\n",
      "Enter withdrawal year:  2\n",
      "Enter withdrawal amount:  200\n"
     ]
    },
    {
     "name": "stdout",
     "output_type": "stream",
     "text": [
      "Final balance: 214800.0\n"
     ]
    }
   ],
   "source": [
    "principal = float(input(\"Enter initial amount: \"))\n",
    "rate = float(input(\"Enter annual interest (%): \")) / 100\n",
    "years = int(input(\"Enter total years: \"))\n",
    "w_year = int(input(\"Enter withdrawal year: \"))\n",
    "w_amount = float(input(\"Enter withdrawal amount: \"))\n",
    "\n",
    "def compound_interest():\n",
    "    balance = principal\n",
    "    for year in range(1, years + 1):\n",
    "        balance *= (1 + rate)  \n",
    "        if year == w_year:\n",
    "            balance -= w_amount  \n",
    "\n",
    "    print(f\"Final balance:\",balance)\n",
    "\n",
    "compound_interest()"
   ]
  },
  {
   "cell_type": "markdown",
   "metadata": {
    "id": "hSbY7jeZ2QEo"
   },
   "source": [
    "**27. Develop a system that evaluates a student's performance based on scores from multiple categories(e.g: test scores, assignment scores, projects, attendance). Each category should have a different weight, and the program should calculate the final score based on these weights.Include conditions where if the attendances fall below a threshold it automatically reduces the final score by a certain percentage.**\n",
    "\n",
    "- Input test, assignment, project, and attendance scores from user.\n",
    "- Calculate weighted score by **assigning weigths** to the the **categories**.\n",
    "- Check if **attendance < 75**: If yes, **reduce** final score by **15%**.\n",
    "- Print the final weighted score (2 decimal places)."
   ]
  },
  {
   "cell_type": "code",
   "execution_count": 159,
   "metadata": {
    "id": "rc7gRnoH3gY1"
   },
   "outputs": [
    {
     "name": "stdin",
     "output_type": "stream",
     "text": [
      "Enter test score:  45\n",
      "Enter assignment score:  345\n",
      "Enter project score:  34\n",
      "Enter attendance score:  45\n"
     ]
    },
    {
     "name": "stdout",
     "output_type": "stream",
     "text": [
      "Final weighted score is: 85.51\n"
     ]
    }
   ],
   "source": [
    "# Input the scores from the user\n",
    "test_score = float(input(\"Enter test score: \"))\n",
    "assignment_score = float(input(\"Enter assignment score: \"))\n",
    "project_score = float(input(\"Enter project score: \"))\n",
    "attendance = float(input(\"Enter attendance score: \"))\n",
    "\n",
    "# Calculate the weighted final score using given weights\n",
    "final_score = (test_score * 0.3) + (assignment_score * 0.2) + (project_score * 0.4) + (attendance * 0.1)\n",
    "\n",
    "# Apply 15% penalty if attendance is less than 75\n",
    "if attendance < 75:\n",
    "    final_score *= 0.85  # Reduce score by 15%\n",
    "\n",
    "# Print the final score with 2 decimal precision\n",
    "print(f\"Final weighted score is: {final_score:.2f}\")\n"
   ]
  },
  {
   "cell_type": "code",
   "execution_count": 118,
   "metadata": {},
   "outputs": [
    {
     "name": "stdin",
     "output_type": "stream",
     "text": [
      "Enter test score:  75\n",
      "Enter assignment score:  25\n",
      "Enter project score:  86\n",
      "Enter attendance score:  75\n"
     ]
    },
    {
     "name": "stdout",
     "output_type": "stream",
     "text": [
      "Final weighted score is: 69.4\n"
     ]
    }
   ],
   "source": [
    "test_score = float(input(\"Enter test score: \"))\n",
    "assignment_score = float(input(\"Enter assignment score: \"))\n",
    "project_score = float(input(\"Enter project score: \"))\n",
    "attendance = float(input(\"Enter attendance score: \"))\n",
    "def calculate_final_score():\n",
    "    final_score = (test_score * 0.3) + (assignment_score * 0.2) + (project_score * 0.4) + (attendance * 0.1)\n",
    "    if attendance < 75:\n",
    "        final_score *= 0.85  \n",
    "    print(f\"Final weighted score is:\",final_score)\n",
    "calculate_final_score()"
   ]
  },
  {
   "cell_type": "code",
   "execution_count": null,
   "metadata": {},
   "outputs": [],
   "source": []
  }
 ],
 "metadata": {
  "colab": {
   "provenance": []
  },
  "kernelspec": {
   "display_name": "Python [conda env:base] *",
   "language": "python",
   "name": "conda-base-py"
  },
  "language_info": {
   "codemirror_mode": {
    "name": "ipython",
    "version": 3
   },
   "file_extension": ".py",
   "mimetype": "text/x-python",
   "name": "python",
   "nbconvert_exporter": "python",
   "pygments_lexer": "ipython3",
   "version": "3.12.7"
  }
 },
 "nbformat": 4,
 "nbformat_minor": 4
}
