{
 "cells": [
  {
   "cell_type": "code",
   "execution_count": 15,
   "id": "4c8b4a00-67ab-49b7-9005-3af8c2fc9fea",
   "metadata": {},
   "outputs": [
    {
     "name": "stdin",
     "output_type": "stream",
     "text": [
      "Enter a number: 4\n"
     ]
    },
    {
     "name": "stdout",
     "output_type": "stream",
     "text": [
      "number of divisors is:  1\n",
      "number of divisors is:  2\n",
      "number of divisors is:  3\n"
     ]
    }
   ],
   "source": [
    "# worksheet no. 1\n",
    "#1.Write a python program to Count how many divisors n has (including 1 and n). Take n from the user\n",
    "n = int(input(\"Enter a number:\"))\n",
    "count =0\n",
    "for i in range(1, n+1):\n",
    "    if n % i == 0:\n",
    "        count += 1\n",
    "        print(\"number of divisors is: \",count)\n",
    "        "
   ]
  },
  {
   "cell_type": "code",
   "execution_count": 13,
   "id": "eff4359b-5265-45b5-be6b-2d85d140c734",
   "metadata": {},
   "outputs": [],
   "source": [
    "#2.Write a python program to print all Smith numbers up to n (composite numbers where sum of digits equals sum of digits of prime factors with multiplicity)."
   ]
  },
  {
   "cell_type": "code",
   "execution_count": 3,
   "id": "22de4b52-3a2a-4704-8bb3-bc2f0b990403",
   "metadata": {},
   "outputs": [],
   "source": [
    "#3.Write a python program to input a 4-digit number. If sum of first two digits equals sum of last two, print \"Lucky Number\".\n"
   ]
  },
  {
   "cell_type": "code",
   "execution_count": 5,
   "id": "97686073-4e6d-4f8a-802c-b6a3a28fa2a4",
   "metadata": {},
   "outputs": [
    {
     "name": "stdin",
     "output_type": "stream",
     "text": [
      "Enter a number: 40000\n"
     ]
    },
    {
     "name": "stdout",
     "output_type": "stream",
     "text": [
      "Out of range\n"
     ]
    }
   ],
   "source": [
    "#4.  Write a python program to Ask for a number. Print \"In range\" if it is between 5000 and 10000 (inclusive), else \"Out of range\".\n",
    "a = int(input(\"Enter a number:\"))\n",
    "if 5000 >= a <= 10000:\n",
    "    print(\"In range\")\n",
    "else:\n",
    "    print(\"Out of range\")"
   ]
  },
  {
   "cell_type": "code",
   "execution_count": 33,
   "id": "2d5e6e7f-d75c-41c5-ac45-c6b714f9ad35",
   "metadata": {},
   "outputs": [
    {
     "name": "stdin",
     "output_type": "stream",
     "text": [
      "Enter a number:  12345\n"
     ]
    },
    {
     "name": "stdout",
     "output_type": "stream",
     "text": [
      "Largest digit is: 5\n"
     ]
    }
   ],
   "source": [
    "#5. Write a python program to Find Largest Digit in a Number Input a number like 4782. Print the largest digit. \n",
    "n = input(\"Enter a number: \")\n",
    "l = 0\n",
    "for d in n:\n",
    "    if int(d) > l:\n",
    "        l = int(d)\n",
    "\n",
    "print(\"Largest digit is:\", l)"
   ]
  },
  {
   "cell_type": "code",
   "execution_count": 79,
   "id": "565533e9-fd8a-4ddc-8049-5de37f614e36",
   "metadata": {},
   "outputs": [
    {
     "name": "stdin",
     "output_type": "stream",
     "text": [
      "Enter password:  python123\n"
     ]
    },
    {
     "name": "stdout",
     "output_type": "stream",
     "text": [
      "Access Granted\n"
     ]
    }
   ],
   "source": [
    "# 6.Write a program that asks the user to enter a password (\"python123\"). Allow them a maximum of 3 attempts. \n",
    "#After each incorrect attempt, prompt them again. If they get it right within 3 attempts, print \"Access Granted\". \n",
    "#Otherwise, print \"Access Denied\" after the failed attempts.\n",
    "p = \"python123\"\n",
    "for i in range(3):\n",
    "    user= input(\"Enter password: \")\n",
    "    if user == p:\n",
    "        print(\"Access Granted\")\n",
    "        break\n",
    "    else: \n",
    "        print(\"Access Denied\")\n",
    "else:\n",
    "    print(\"allow maximum 3 attempts.Access Denied\")\n"
   ]
  },
  {
   "cell_type": "code",
   "execution_count": 83,
   "id": "efac9201-765d-439f-a2d0-ba747ca8df1f",
   "metadata": {},
   "outputs": [
    {
     "name": "stdout",
     "output_type": "stream",
     "text": [
      "4\n",
      "8\n",
      "16\n",
      "32\n",
      "64\n",
      "128\n",
      "256\n",
      "512\n",
      "1024\n"
     ]
    }
   ],
   "source": [
    "#7.Print powers of 2 (2, 4, 8, 16, …) using a while loop, until the result is greater than 1000.\n",
    "num = 2\n",
    "while num <= 1000:\n",
    "    num = num * 2\n",
    "    print(num)"
   ]
  },
  {
   "cell_type": "code",
   "execution_count": 1,
   "id": "6244e690-7375-4e2b-9c19-ba748a920309",
   "metadata": {},
   "outputs": [],
   "source": [
    "#8.Write a python program for Axis-aligned rectangles overlap, given two rectangles by (x1,y1,x2,y2), print overlap area or 0. Handle touching edges."
   ]
  },
  {
   "cell_type": "code",
   "execution_count": 132,
   "id": "3fe8db2b-3180-4cd9-90ae-16ead6d3201f",
   "metadata": {},
   "outputs": [],
   "source": [
    "#9.Write a python program to calculate  Polygon perimeter: for an ordered list of points, compute the perimeter using integer distance squared; print exact if all edges are horizontal/vertical else print total in simplified radical form for such edges (challenge)."
   ]
  },
  {
   "cell_type": "code",
   "execution_count": null,
   "id": "ee357a52-3353-41b5-8cf8-d6551e992ca0",
   "metadata": {},
   "outputs": [],
   "source": [
    "#10.Write a python program to calculate Mean/median/mode: compute all three for a list; for median use in-place selection sort you write yourself; for mode break ties by smallest val."
   ]
  }
 ],
 "metadata": {
  "kernelspec": {
   "display_name": "Python 3 (ipykernel)",
   "language": "python",
   "name": "python3"
  },
  "language_info": {
   "codemirror_mode": {
    "name": "ipython",
    "version": 3
   },
   "file_extension": ".py",
   "mimetype": "text/x-python",
   "name": "python",
   "nbconvert_exporter": "python",
   "pygments_lexer": "ipython3",
   "version": "3.12.7"
  }
 },
 "nbformat": 4,
 "nbformat_minor": 5
}
