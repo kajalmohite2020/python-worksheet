{
 "cells": [
  {
   "cell_type": "code",
   "execution_count": 6,
   "id": "3e50b7f6-649f-4278-b266-f81d9d75f161",
   "metadata": {},
   "outputs": [
    {
     "name": "stdin",
     "output_type": "stream",
     "text": [
      "Enter the numbers:  45\n"
     ]
    },
    {
     "name": "stdout",
     "output_type": "stream",
     "text": [
      "is a multiple of 3 and 5, but not divisible by 7\n"
     ]
    }
   ],
   "source": [
    "#python worksheet 1 - Operators, Conditional Statements,loops\n",
    "\n",
    "#1. Check whether a given number n is both a multiple of 3 and 5, but not divisible by 7\n",
    "n=int(input(\"Enter the numbers: \"))\n",
    "if (n % 3 == 0) and (n % 5 == 0) and (n % 7 != 0):\n",
    "    print(\"is a multiple of 3 and 5, but not divisible by 7\")\n",
    "else:\n",
    "    print(\"does not feet in criateria\")"
   ]
  },
  {
   "cell_type": "code",
   "execution_count": 8,
   "id": "1b8376ae-2ed8-4f62-bd79-94f1e5ae9756",
   "metadata": {},
   "outputs": [
    {
     "name": "stdin",
     "output_type": "stream",
     "text": [
      "Enter your bill:  34\n"
     ]
    },
    {
     "name": "stdout",
     "output_type": "stream",
     "text": [
      "your bill is : 34\n",
      "your discount is : 0\n",
      "total amount is : 34\n"
     ]
    }
   ],
   "source": [
    "#2. A store has a discount policy:\n",
    "#• If the bill > ₹5000, give 20% discount.\n",
    "#• If bill is between ₹2500 and ₹5000, give 10% discount.\n",
    "#• If bill is below ₹2500 but above ₹1000, give 5% discount.\n",
    "#• No discount otherwise    Write a program to compute the final payable amount.\n",
    "bill = int(input(\"Enter your bill: \"))\n",
    "if bill > 5000:\n",
    "    discount = bill * 0.2\n",
    "elif bill >= 2500 and bill <= 5000:\n",
    "    discount = bill * 0.1\n",
    "elif bill >= 1000 and bill < 2500:\n",
    "    discount = bill * 0.05\n",
    "else:\n",
    "    discount = 0\n",
    "final_amount = bill - discount\n",
    "print(\"your bill is :\",bill)\n",
    "print(\"your discount is :\",discount)\n",
    "print(\"total amount is :\",final_amount)\n",
    "\n",
    "    \n"
   ]
  },
  {
   "cell_type": "code",
   "execution_count": 10,
   "id": "1ed08732-7aa1-40b7-b1a6-8d5de4659390",
   "metadata": {},
   "outputs": [
    {
     "name": "stdout",
     "output_type": "stream",
     "text": [
      "add of odd numbers : 85\n",
      "mult of even numbers : 31\n"
     ]
    }
   ],
   "source": [
    "#3. Take 10 numbers from user. Show:\n",
    "#• Sum of only odd numbers.• Product of even numbers.\n",
    "l1=[2,15,4,13,6,17,8,19,10,21]\n",
    "addition = 0\n",
    "multiplication = 1\n",
    "for i in l1:\n",
    "    if i % 2 == 0:\n",
    "        multiplication = multiplication + i\n",
    "    else:\n",
    "        addition = addition + i\n",
    "print(\"add of odd numbers :\",addition)\n",
    "print(\"mult of even numbers :\",multiplication)"
   ]
  },
  {
   "cell_type": "code",
   "execution_count": 14,
   "id": "9d06fee7-6fa9-4539-8160-2d040c361e80",
   "metadata": {},
   "outputs": [
    {
     "name": "stdout",
     "output_type": "stream",
     "text": [
      "Welcome to Mood Bot!\n"
     ]
    },
    {
     "name": "stdin",
     "output_type": "stream",
     "text": [
      "Enter a mood (Happy, Sad, Angry, Excited):  sad\n"
     ]
    },
    {
     "name": "stdout",
     "output_type": "stream",
     "text": [
      "Please enter a correct mood\n"
     ]
    }
   ],
   "source": [
    "#4.Create a mini \"Mood Bot\" that accepts a user's mood input (Happy, Sad, Angry, Excited) and responds with a suitable message\n",
    "print(\"Welcome to Mood Bot!\")\n",
    "mood = input(\"Enter a mood (Happy, Sad, Angry, Excited): \")\n",
    "if mood == \"Happy\":\n",
    "    print(\"Be happy!\")\n",
    "elif mood == \"Sad\":\n",
    "    print(\"Feel better soon.\")\n",
    "elif mood == \"Angry\":\n",
    "    print(\"Calm down, just sit still.\")\n",
    "elif mood == \"Excited\":\n",
    "    print(\"Enjoy this moment!\")\n",
    "else:\n",
    "    print(\"Please enter a correct mood\")"
   ]
  },
  {
   "cell_type": "code",
   "execution_count": 20,
   "id": "ee219f66-babe-4046-a69f-db830a7945a6",
   "metadata": {},
   "outputs": [
    {
     "name": "stdin",
     "output_type": "stream",
     "text": [
      "Enter PIN: 34334\n"
     ]
    },
    {
     "name": "stdout",
     "output_type": "stream",
     "text": [
      "Access denied\n"
     ]
    },
    {
     "name": "stdin",
     "output_type": "stream",
     "text": [
      "Enter PIN: 43\n"
     ]
    },
    {
     "name": "stdout",
     "output_type": "stream",
     "text": [
      "Access denied\n"
     ]
    },
    {
     "name": "stdin",
     "output_type": "stream",
     "text": [
      "Enter PIN: 34\n"
     ]
    },
    {
     "name": "stdout",
     "output_type": "stream",
     "text": [
      "Access denied\n"
     ]
    }
   ],
   "source": [
    "#5. Ask the user to guess a 4-digit PIN. Allow 3 tries.\n",
    "# • If correct: print “Unlocked”\n",
    " #• If wrong all attempts: print “Access Denied”\n",
    "Pin= \"7070\"\n",
    "for i in range(3):\n",
    "    guess=input(\"Enter PIN:\")\n",
    "    if guess==Pin:\n",
    "        print(\"Unlocked\")\n",
    "    else:\n",
    "        print(\"Access denied\")\n",
    "        "
   ]
  },
  {
   "cell_type": "code",
   "execution_count": 26,
   "id": "be0af6a4-178d-4acc-9558-c1bbb1ac51bd",
   "metadata": {},
   "outputs": [
    {
     "name": "stdout",
     "output_type": "stream",
     "text": [
      "53\n",
      "59\n",
      "61\n",
      "67\n",
      "71\n",
      "73\n",
      "79\n",
      "83\n",
      "89\n",
      "97\n"
     ]
    }
   ],
   "source": [
    "#6.print all prime numbers between 50 and 100\n",
    "for num in range (50,101):\n",
    "  count=0\n",
    "  for i in range(2,num):\n",
    "      if num % i ==0:\n",
    "          count=1\n",
    "  if count == 0:\n",
    "     print(num)"
   ]
  },
  {
   "cell_type": "code",
   "execution_count": 77,
   "id": "75f7b367-1a56-45db-9b8d-3628fb4bacee",
   "metadata": {},
   "outputs": [
    {
     "name": "stdin",
     "output_type": "stream",
     "text": [
      "Enter a number:  24\n"
     ]
    },
    {
     "name": "stdout",
     "output_type": "stream",
     "text": [
      "There is at least one number divisible by both 4 and 6.\n"
     ]
    }
   ],
   "source": [
    "#7. Given a list of numbers, check if any number is divisible by both 4 and 6 using a loop and logical operators.\n",
    "num = int(input(\"Enter a number: \"))\n",
    "for i in range(num):\n",
    "    if num % 4 == 0 and num % 6 == 0:\n",
    "        print(\"any number is divisible by both 4 and 6.\")\n",
    "else:\n",
    "    print(\"any number is does not divisible by both 4 and 6.\")"
   ]
  },
  {
   "cell_type": "code",
   "execution_count": 109,
   "id": "74a4f045-a108-4899-af6b-5d2343c220a2",
   "metadata": {},
   "outputs": [
    {
     "name": "stdin",
     "output_type": "stream",
     "text": [
      "Enter elements of the first list :  12345\n",
      "Enter elements of the second list:  123\n"
     ]
    },
    {
     "name": "stdout",
     "output_type": "stream",
     "text": [
      "The lists do NOT have the same set of elements.\n"
     ]
    }
   ],
   "source": [
    "#8.Input two lists and compare whether their set of elements (regardless of order and duplicates) are the same using operators\n",
    "l1 =int(input(\"Enter elements of the first list : \"))\n",
    "l2 = int(input(\"Enter elements of the second list: \"))\n",
    "set1=(l1)\n",
    "set2=(l2)\n",
    "if set1 == set2:\n",
    "    print(\"The lists have the same set of elements.\")\n",
    "else:\n",
    "    print(\"The lists do NOT have the same set of elements.\")\n",
    "    "
   ]
  },
  {
   "cell_type": "code",
   "execution_count": 107,
   "id": "6ba5540a-22bd-46ee-90e6-de69012d8321",
   "metadata": {},
   "outputs": [
    {
     "name": "stdin",
     "output_type": "stream",
     "text": [
      "Weight(kg):  75\n",
      "Height(m):  1.65\n"
     ]
    },
    {
     "name": "stdout",
     "output_type": "stream",
     "text": [
      "Overweight\n"
     ]
    }
   ],
   "source": [
    "#9. Build a BMI calculator that takes weight and height, computes BMI, and classifies as:• Underweight • Normal • Overweight• Obes\n",
    "w = float(input(\"Weight(kg): \"))\n",
    "h = float(input(\"Height(m): \"))\n",
    "bmi = w / (h * h)\n",
    "\n",
    "if bmi >=18.5 and bmi <=24.9:\n",
    "    print(\"Underweight\")\n",
    "elif bmi <=25:\n",
    "    print(\"Normalweight\")\n",
    "elif bmi  >=25.0 and bmi <=29.9:\n",
    "    print(\"Overweight\")\n",
    "elif bmi >=30:\n",
    "    print(\"Obese\")\n",
    "else:\n",
    "    print(\"please enter height and weight\")"
   ]
  }
 ],
 "metadata": {
  "kernelspec": {
   "display_name": "Python 3 (ipykernel)",
   "language": "python",
   "name": "python3"
  },
  "language_info": {
   "codemirror_mode": {
    "name": "ipython",
    "version": 3
   },
   "file_extension": ".py",
   "mimetype": "text/x-python",
   "name": "python",
   "nbconvert_exporter": "python",
   "pygments_lexer": "ipython3",
   "version": "3.12.7"
  }
 },
 "nbformat": 4,
 "nbformat_minor": 5
}
