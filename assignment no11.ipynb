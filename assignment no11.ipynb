{
 "cells": [
  {
   "cell_type": "code",
   "execution_count": 59,
   "id": "afcad165-ee1c-439f-b038-af0aae0b0351",
   "metadata": {},
   "outputs": [
    {
     "name": "stdin",
     "output_type": "stream",
     "text": [
      "Enter a number: 12\n"
     ]
    },
    {
     "name": "stdout",
     "output_type": "stream",
     "text": [
      "Not prime number\n"
     ]
    }
   ],
   "source": [
    "#assignment no.11\n",
    "#1.Write a python Function to Check if a Number is Prime\n",
    "#without parameter\n",
    "n = int(input(\"Enter a number:\"))\n",
    "\n",
    "def is_prime(n):\n",
    "    for i in range(2, n):           \n",
    "        if n <= 1 or n % i == 0:     \n",
    "            return \"Not prime number\"\n",
    "    else:\n",
    "        return \"It's prime number\"\n",
    "\n",
    "print(is_prime(n))"
   ]
  },
  {
   "cell_type": "code",
   "execution_count": 61,
   "id": "0f4905a3-d37a-4026-80db-4a2799283740",
   "metadata": {},
   "outputs": [
    {
     "name": "stdout",
     "output_type": "stream",
     "text": [
      "Not prime number\n"
     ]
    }
   ],
   "source": [
    "#with parameter\n",
    "def is_prime(n):\n",
    "    for i in range(2, n):           \n",
    "        if n <= 1 or n % i == 0:     \n",
    "            return \"Not prime number\"\n",
    "    else:\n",
    "        return \"It's prime number\"\n",
    "\n",
    "print(is_prime(56))"
   ]
  },
  {
   "cell_type": "code",
   "execution_count": 91,
   "id": "fe902ef8-d1d1-4540-b53e-bc47655f966d",
   "metadata": {},
   "outputs": [
    {
     "name": "stdin",
     "output_type": "stream",
     "text": [
      "Enter a number: 1234\n"
     ]
    },
    {
     "data": {
      "text/plain": [
       "10"
      ]
     },
     "execution_count": 91,
     "metadata": {},
     "output_type": "execute_result"
    }
   ],
   "source": [
    "#2.Write a function to calculate sum of digits of a number\n",
    "#without parameter\n",
    "a = input(\"Enter a number:\")\n",
    "def sum_digit(n):\n",
    "    add = 0\n",
    "    for digit in n:\n",
    "        add += int(digit)\n",
    "    return add\n",
    "sum_digit(a)"
   ]
  },
  {
   "cell_type": "code",
   "execution_count": 5,
   "id": "d592752c-3097-4790-9ecf-8fddb632b59a",
   "metadata": {},
   "outputs": [
    {
     "name": "stdout",
     "output_type": "stream",
     "text": [
      "27\n"
     ]
    }
   ],
   "source": [
    "#with parameter\n",
    "def sum_digit(n):\n",
    "    add = 0\n",
    "    for digit in n:\n",
    "        add += int(digit)\n",
    "    return add\n",
    "print(sum_digit(\"18945\"))"
   ]
  },
  {
   "cell_type": "code",
   "execution_count": 17,
   "id": "51a9e3d9-c5ce-48bb-b77e-6a509cd5f199",
   "metadata": {},
   "outputs": [
    {
     "name": "stdin",
     "output_type": "stream",
     "text": [
      "Enter a number:  5\n"
     ]
    },
    {
     "name": "stdout",
     "output_type": "stream",
     "text": [
      "5 15\n"
     ]
    }
   ],
   "source": [
    "#3.Write a python function to Find the Sum of the First N Natural Number\n",
    "n = int(input(\"Enter a number: \"))\n",
    "def sum_natural():\n",
    "    t = 0\n",
    "    for i in range(1, n + 1):\n",
    "        t += i\n",
    "    return t \n",
    "\n",
    "print(n, sum_natural())"
   ]
  },
  {
   "cell_type": "code",
   "execution_count": 27,
   "id": "6c896fdf-3770-4fdb-b6c8-e46d57d1afe6",
   "metadata": {},
   "outputs": [
    {
     "name": "stdout",
     "output_type": "stream",
     "text": [
      "55\n"
     ]
    }
   ],
   "source": [
    "# with parameter\n",
    "def sum_natural(n):\n",
    "    t = 0\n",
    "    for i in range(1, n + 1):\n",
    "        t += i\n",
    "    return t \n",
    "\n",
    "print(sum_natural(10))"
   ]
  },
  {
   "cell_type": "code",
   "execution_count": 40,
   "id": "7944abb8-8416-48aa-962e-a2c8bf246b02",
   "metadata": {},
   "outputs": [
    {
     "name": "stdout",
     "output_type": "stream",
     "text": [
      "Total number of vowels in the string are: 3\n"
     ]
    }
   ],
   "source": [
    "#4.Write a python function to find the total number of vowels in a string\n",
    "#without parameter\n",
    "string = \"Hello Python\"\n",
    "def vowels_count():\n",
    "    count = 0\n",
    "    for i in string:\n",
    "        if i in \"aeiouAEIOU\":\n",
    "            count +=1\n",
    "    print(\"Total number of vowels in the string are:\",count)\n",
    "\n",
    "vowels_count()\n",
    "            "
   ]
  },
  {
   "cell_type": "code",
   "execution_count": 42,
   "id": "6fd0cdfa-ed44-4b96-bc0d-b807b7217ad7",
   "metadata": {},
   "outputs": [
    {
     "name": "stdout",
     "output_type": "stream",
     "text": [
      "Total number of vowels in the string are: 3\n"
     ]
    }
   ],
   "source": [
    "# with parameter\n",
    "def vowels_count(n):\n",
    "    count = 0\n",
    "    for i in string:\n",
    "        if i in \"aeiouAEIOU\":\n",
    "            count +=1\n",
    "    print(\"Total number of vowels in the string are:\",count)\n",
    "\n",
    "vowels_count(\"Hello Python\")\n",
    "            "
   ]
  },
  {
   "cell_type": "code",
   "execution_count": 13,
   "id": "3418d0c0-ad37-4ab0-8ae6-46382830b329",
   "metadata": {},
   "outputs": [
    {
     "name": "stdin",
     "output_type": "stream",
     "text": [
      "Enter x1:  2.5\n",
      "Enter y1:  3.4\n",
      "Enter x2:  4.6\n",
      "Enter y2:  2.1\n"
     ]
    },
    {
     "name": "stdout",
     "output_type": "stream",
     "text": [
      "Distance between points: 2.4698178070456933\n"
     ]
    }
   ],
   "source": [
    "#5.Write a python function to calculate distance between two points.\n",
    "#without parameter\n",
    "x1 = float(input(\"Enter x1: \"))\n",
    "y1 = float(input(\"Enter y1: \"))\n",
    "x2 = float(input(\"Enter x2: \"))\n",
    "y2 = float(input(\"Enter y2: \"))\n",
    "def distance():\n",
    "    dist = ((x2 - x1)**2 + (y2 - y1)**2)**0.5\n",
    "    print(\"Distance between points:\", dist)\n",
    "\n",
    "distance()"
   ]
  },
  {
   "cell_type": "code",
   "execution_count": 37,
   "id": "f96972ca-a467-4ba7-b3e6-c64a9ffb0e2f",
   "metadata": {},
   "outputs": [
    {
     "name": "stdout",
     "output_type": "stream",
     "text": [
      "2.8284271247461903\n"
     ]
    }
   ],
   "source": [
    "#with parameter\n",
    "def distance(x1,y1,x2,y2):\n",
    "    dist = ((x2 - x1)**2 + (y2 - y1)**2)**0.5\n",
    "    return dist\n",
    "\n",
    "print(distance(4,3,2,5))"
   ]
  },
  {
   "cell_type": "code",
   "execution_count": null,
   "id": "d285060e-1c84-4c77-afcc-3783edae88d4",
   "metadata": {},
   "outputs": [],
   "source": []
  }
 ],
 "metadata": {
  "kernelspec": {
   "display_name": "Python 3 (ipykernel)",
   "language": "python",
   "name": "python3"
  },
  "language_info": {
   "codemirror_mode": {
    "name": "ipython",
    "version": 3
   },
   "file_extension": ".py",
   "mimetype": "text/x-python",
   "name": "python",
   "nbconvert_exporter": "python",
   "pygments_lexer": "ipython3",
   "version": "3.12.7"
  }
 },
 "nbformat": 4,
 "nbformat_minor": 5
}
