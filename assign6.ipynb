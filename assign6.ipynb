{
 "cells": [
  {
   "cell_type": "code",
   "execution_count": 204,
   "id": "cbbd2065-a334-4cbc-be0d-6ce9b9dced8f",
   "metadata": {},
   "outputs": [
    {
     "name": "stdin",
     "output_type": "stream",
     "text": [
      "Enter a first number: 45\n",
      "Enter a second number: 89\n"
     ]
    },
    {
     "name": "stdout",
     "output_type": "stream",
     "text": [
      "Twin prime pairs:\n",
      "47 and 49\n",
      "53 and 55\n",
      "59 and 61\n",
      "61 and 63\n",
      "67 and 69\n",
      "71 and 73\n",
      "73 and 75\n",
      "79 and 81\n",
      "83 and 85\n"
     ]
    }
   ],
   "source": [
    "#Assignment no.6\n",
    "#1.Find all twin prime pairs between two numbers. Twin primes differ by 2 (e.g., 11 and 13).\n",
    "start=int(input(\"Enter a first number:\"))\n",
    "end=int(input(\"Enter a second number:\"))\n",
    "print(\"Twin prime pairs:\")\n",
    "for num in range(start, end-1):\n",
    "    c1 = 0\n",
    "    for i in range(1, num+1):\n",
    "        if num % i == 0:\n",
    "            c1 += 1\n",
    "    c2 = 0\n",
    "    for j in range(1, num+2):\n",
    "        if num % j == 0:\n",
    "            c2 += 1\n",
    "    if c1 == 2 and c2 == 2:  \n",
    "        print(num, \"and\", num)"
   ]
  },
  {
   "cell_type": "code",
   "execution_count": 206,
   "id": "c8918de1-a5bd-4b0d-9a44-011c5f265aae",
   "metadata": {},
   "outputs": [
    {
     "name": "stdin",
     "output_type": "stream",
     "text": [
      "Enter a end number:  200\n"
     ]
    },
    {
     "name": "stdout",
     "output_type": "stream",
     "text": [
      "Palindrome numbers are:\n",
      "1\n",
      "2\n",
      "3\n",
      "4\n",
      "5\n",
      "6\n",
      "7\n",
      "8\n",
      "9\n",
      "11\n",
      "22\n",
      "33\n",
      "44\n",
      "55\n",
      "66\n",
      "77\n",
      "88\n",
      "99\n",
      "101\n",
      "111\n",
      "121\n",
      "131\n",
      "141\n",
      "151\n",
      "161\n",
      "171\n",
      "181\n",
      "191\n"
     ]
    }
   ],
   "source": [
    "#2.Input a range and print all numbers that are palindromes.\n",
    "a = int(input(\"Enter a end number: \"))\n",
    "print(\"Palindrome numbers are:\")\n",
    "for num in range(1, a + 1):\n",
    "    if str(num) == str(num)[::-1]:\n",
    "        print(num)"
   ]
  },
  {
   "cell_type": "code",
   "execution_count": 35,
   "id": "19002ed9-e208-47a8-a7a3-c3d93efcaece",
   "metadata": {},
   "outputs": [
    {
     "name": "stdin",
     "output_type": "stream",
     "text": [
      "Enter a number:  24\n"
     ]
    },
    {
     "name": "stdout",
     "output_type": "stream",
     "text": [
      "24 is a Harshad number\n"
     ]
    }
   ],
   "source": [
    "#3.A number is Harshad if it is divisible by the sum of its digits. Example: 18 → 1+8 = 9 → 18 % 9 == 0 → Harshad\n",
    "num = int(input(\"Enter a number: \"))\n",
    "a= 0\n",
    "for d in str(num):        \n",
    "    a += int(d) \n",
    "if num % a == 0:\n",
    "    print(num, \"is a Harshad number\")\n",
    "else:\n",
    "    print(num, \"is not a Harshad number\")"
   ]
  },
  {
   "cell_type": "code",
   "execution_count": 37,
   "id": "c4ec6506-9e26-4a20-97d2-124114830a57",
   "metadata": {},
   "outputs": [
    {
     "name": "stdin",
     "output_type": "stream",
     "text": [
      "Enter a number:  23\n"
     ]
    },
    {
     "name": "stdout",
     "output_type": "stream",
     "text": [
      "is not a Triangular number 0\n"
     ]
    }
   ],
   "source": [
    "#4.A triangular number is of the form n(n+1)/2. Check if the given number fits that pattern.  Example: 6, 10, 15 are triangular.\n",
    "num = int(input(\"Enter a number: \"))\n",
    "a = 0 \n",
    "for n in range(1, num + 1):\n",
    "    if n * (n + 1) / 2 == num:\n",
    "        a= n  \n",
    "if a != 0:\n",
    "    print(\"is a Triangular number\",a)\n",
    "else:\n",
    "    print(\"is not a Triangular number\",a)"
   ]
  },
  {
   "cell_type": "code",
   "execution_count": 67,
   "id": "75e998d0-ef68-48e9-a1e5-0a8a647f511e",
   "metadata": {},
   "outputs": [
    {
     "name": "stdin",
     "output_type": "stream",
     "text": [
      "Enter a number:  234\n"
     ]
    },
    {
     "name": "stdout",
     "output_type": "stream",
     "text": [
      "Not Disarium\n"
     ]
    }
   ],
   "source": [
    "#5.A Disarium number is one where the sum of its digits raised to the power of their positions is equal to the number. Example: 135 → 1¹ + 3² + 5³ = 135\n",
    "n = int(input(\"Enter a number: \"))\n",
    "s = 0\n",
    "t = str(n)\n",
    "position = 1\n",
    "for d in t:\n",
    "    s += int(d) ** position\n",
    "    position += 1\n",
    "\n",
    "if s == n:\n",
    "    print(\"Disarium\")\n",
    "else:\n",
    "    print(\"Not Disarium\")\n"
   ]
  },
  {
   "cell_type": "code",
   "execution_count": 190,
   "id": "22650b46-d3ec-495b-a0b3-2ca470bf9904",
   "metadata": {},
   "outputs": [],
   "source": [
    "#6. Write a python program to find Sum of Non-Prime Numbers in a Range"
   ]
  },
  {
   "cell_type": "code",
   "execution_count": 192,
   "id": "f33448e5-07ae-4077-ab07-9422c7e1c952",
   "metadata": {},
   "outputs": [],
   "source": [
    "#7.Check for Magic Number  A number is a magic number if the repeated sum of its digits equals 1. Example: 1729 → 1+7+2+9 = 19 → 1+9 = 10 → 1+0 = 1"
   ]
  },
  {
   "cell_type": "code",
   "execution_count": 149,
   "id": "f6893004-2736-4e39-a03e-38b88e7ab64b",
   "metadata": {},
   "outputs": [
    {
     "name": "stdin",
     "output_type": "stream",
     "text": [
      "Enter a number:  12345\n"
     ]
    },
    {
     "name": "stdout",
     "output_type": "stream",
     "text": [
      "Digital Root of number: 6\n"
     ]
    }
   ],
   "source": [
    "#8.Find the Digital Root of a Number Repeatedly sum digits until a single-digit number is left.  Input: 9875 → 9+8+7+5 = 29 → 2+9 = 11 → 1+1 = 2\n",
    "n = int(input(\"Enter a number: \"))\n",
    "for i in range(20): \n",
    "    a = 0\n",
    "    for d in str(n):\n",
    "        a += int(d)\n",
    "    n = a\n",
    "print(\"Digital Root of number:\", n)"
   ]
  },
  {
   "cell_type": "code",
   "execution_count": 116,
   "id": "74d8985c-5418-419a-a92f-a3fd3e8e2e13",
   "metadata": {},
   "outputs": [
    {
     "name": "stdin",
     "output_type": "stream",
     "text": [
      "Enter start of range:  2004\n",
      "Enter end of range:  3008\n"
     ]
    },
    {
     "name": "stdout",
     "output_type": "stream",
     "text": [
      "Count of numbers with no zero digit: 1005\n"
     ]
    }
   ],
   "source": [
    "#9.Count All Numbers in a Range That Have No Zero Digit  Example: 104 has a zero → Exclude | 123 → Include\n",
    "s= int(input(\"Enter start of range: \"))\n",
    "e = int(input(\"Enter end of range: \"))\n",
    "count = 0\n",
    "for n in range(s, e+ 1):      \n",
    "        count += 1\n",
    "print(\"Count of numbers with no zero digit:\", count)"
   ]
  },
  {
   "cell_type": "code",
   "execution_count": 208,
   "id": "d8d1d988-aaa1-4973-bef6-b0aaba02c9a4",
   "metadata": {},
   "outputs": [
    {
     "name": "stdout",
     "output_type": "stream",
     "text": [
      "81\n",
      "100\n"
     ]
    }
   ],
   "source": [
    "#10. Find All 2-Digit Numbers Where Sum of Digits Squared Equals the Number  Example: 81 → 8 + 1 = 9 → 9² = 81\n",
    "for num in range(10, 400):  \n",
    "    d1 = num // 10          \n",
    "    d2 = num % 10           \n",
    "    if (d1 + d2) ** 2 == num:\n",
    "        print(num)"
   ]
  },
  {
   "cell_type": "code",
   "execution_count": null,
   "id": "8a661e2d-3118-4055-8029-ede49011dc71",
   "metadata": {},
   "outputs": [],
   "source": []
  }
 ],
 "metadata": {
  "kernelspec": {
   "display_name": "Python 3 (ipykernel)",
   "language": "python",
   "name": "python3"
  },
  "language_info": {
   "codemirror_mode": {
    "name": "ipython",
    "version": 3
   },
   "file_extension": ".py",
   "mimetype": "text/x-python",
   "name": "python",
   "nbconvert_exporter": "python",
   "pygments_lexer": "ipython3",
   "version": "3.12.7"
  }
 },
 "nbformat": 4,
 "nbformat_minor": 5
}
