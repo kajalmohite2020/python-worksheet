{
 "cells": [
  {
   "cell_type": "code",
   "execution_count": 17,
   "id": "0fbd2b69-67a7-4c01-ad3d-4557982370f8",
   "metadata": {},
   "outputs": [
    {
     "name": "stdout",
     "output_type": "stream",
     "text": [
      "Name is amit\n",
      "assume test scores:\n",
      " scores is: 45\n",
      " scores is: 67\n",
      " scores is: 89\n",
      "subject weight:\n",
      "maths = 2\n",
      "english = 1\n"
     ]
    }
   ],
   "source": [
    "#assignment no. 16\n",
    "#1.Write a function create_student_profile(name, *scores, **weights) that:\n",
    "#Accepts name as the first argument.\n",
    "#Accepts any number of scores in *scores (assume test scores).\n",
    "#Accepts keyword arguments as subject weights (e.g., math=2, english=1).\n",
    "#Returns a dictionary \n",
    "def create_student_profile(name, *scores, **weights):\n",
    "    print(\"Name is\",name)\n",
    "    print(\"assume test scores:\")\n",
    "    for i in scores:\n",
    "        print(\" scores is:\",i)\n",
    "        \n",
    "    print(\"subject weight:\")\n",
    "    for k,v in weights.items():\n",
    "          print(k,\"=\",v)\n",
    "            \n",
    "create_student_profile(\"amit\",45,67,89,maths=2,english=1)\n",
    "                  \n",
    "            "
   ]
  },
  {
   "cell_type": "code",
   "execution_count": 47,
   "id": "f8b00a8d-c8d2-4500-a75b-71b91ca529dd",
   "metadata": {},
   "outputs": [
    {
     "name": "stdout",
     "output_type": "stream",
     "text": [
      "region is East\n",
      "list of daily sales amounts:\n",
      "sale amount: 234\n",
      "sale amount: 452\n",
      "sale amount: 123\n",
      "number of days: 3\n",
      "total bonuse: 150\n"
     ]
    }
   ],
   "source": [
    "#2. Create a function sales_report(region, *sales, **bonuses) where:\n",
    "#region: region name (e.g., \"East\")\n",
    "#*sales: list of daily sales amounts\n",
    "#**bonuses: keyword bonuses by day (e.g., day1=100, day3=50)\n",
    "#Return a dictionary with:\n",
    "#region\n",
    "#sales list\n",
    "#total bonus\n",
    "#number of day\n",
    "#the corrected version:\n",
    "def sales_report(region, *sales, **bonuses):\n",
    "    print(\"region is\",region)\n",
    "    print(\"list of daily sales amounts:\")\n",
    "    \n",
    "    day = 0\n",
    "    for s in sales:\n",
    "        print(\"sale amount:\",s)\n",
    "        day +=1\n",
    "    print(\"number of days:\",day)\n",
    "    \n",
    "    total = 0\n",
    "    for b in bonuses.values():\n",
    "        total+=b\n",
    "    print(\"total bonuse:\",total)\n",
    "sales_report(\"East\",234,452,123,day1=100, day3=50) "
   ]
  },
  {
   "cell_type": "code",
   "execution_count": 1,
   "id": "49f35cd2-d271-4fd9-a0df-1081707c2b6a",
   "metadata": {},
   "outputs": [
    {
     "name": "stdout",
     "output_type": "stream",
     "text": [
      "Account Type: savings\n",
      "Transactions: (500, -200, 300)\n",
      "Adjustments: {'interest': 50, 'fees': -10}\n",
      "Final Balance: 640\n"
     ]
    }
   ],
   "source": [
    "#3. Write a function account_summary(account_type, *transactions, **adjustments) that:\n",
    "#account_type: like \"savings\", \"checking\"\n",
    "#*transactions: deposit/withdrawal values (positive/negative)\n",
    "#**adjustments: like interest=50, fees=10\n",
    "def account_summary(account_type, *transactions, **adjustments):\n",
    "    total = 0\n",
    "    for t in transactions:\n",
    "        total += t\n",
    "    for a in adjustments.values():\n",
    "        total += a\n",
    "    print(\"Account Type:\", account_type)\n",
    "    print(\"Transactions:\", transactions)\n",
    "    print(\"Adjustments:\", adjustments)\n",
    "    print(\"Final Balance:\", total)\n",
    "account_summary(\"savings\", 500, -200, 300, interest=50, fees=-10)\n"
   ]
  },
  {
   "cell_type": "code",
   "execution_count": 80,
   "id": "b4a7bf21-a252-4dee-8415-58f6862279f3",
   "metadata": {},
   "outputs": [
    {
     "name": "stdout",
     "output_type": "stream",
     "text": [
      "student: amit\n",
      "marks:\n",
      "45\n",
      "67\n",
      "78\n",
      "90\n",
      "total marks: 280\n",
      "Penalties:\n",
      "late = 5\n",
      "cheating = 10\n",
      "Total penalties: 15\n",
      "Final score after penalties: 265\n"
     ]
    }
   ],
   "source": [
    "#4. Write a function grade_exam(student, *marks, **penalties) that:\n",
    "#Accepts the student's name\n",
    "#Takes any number of marks (e.g., per section)\n",
    "#Accepts deductions via keywords (e.g., late=5, cheating=10)\n",
    "#Return total score after all penalties.\n",
    "\n",
    "def grade_exam(student, *marks, **penalties):\n",
    "    print(\"student:\",student)\n",
    "    print(\"marks:\")\n",
    "    \n",
    "    total_marks=0\n",
    "    for m in marks:\n",
    "        print(m)\n",
    "        total_marks += m\n",
    "    print(\"total marks:\",total_marks)\n",
    "        \n",
    "    print(\"Penalties:\")\n",
    "    total_penalties = 0\n",
    "    for k, v in penalties.items():\n",
    "            print(k, \"=\", v)\n",
    "            total_penalties += v\n",
    "    print(\"Total penalties:\", total_penalties)\n",
    "    print(\"Final score after penalties:\", total_marks - total_penalties)\n",
    "\n",
    "grade_exam(\"amit\",45,67,78,90, late=5, cheating=10)"
   ]
  },
  {
   "cell_type": "code",
   "execution_count": null,
   "id": "420b1f59-5eec-4770-85a9-5955d228fe24",
   "metadata": {},
   "outputs": [],
   "source": [
    "#5.Write a function check_primes(*args) that takes multiple integers and returns a dictionary where each number is a key, and the value is True if it's a prime number, otherwise False."
   ]
  },
  {
   "cell_type": "code",
   "execution_count": 9,
   "id": "93ce10e6-26eb-49d3-9e57-1c5722b76189",
   "metadata": {},
   "outputs": [
    {
     "name": "stdout",
     "output_type": "stream",
     "text": [
      "6 is Perfect Number\n",
      "12 is Not Perfect Number\n"
     ]
    },
    {
     "data": {
      "text/plain": [
       "list"
      ]
     },
     "execution_count": 9,
     "metadata": {},
     "output_type": "execute_result"
    }
   ],
   "source": [
    "#6. Write a function check_perfect_numbers(*args) that:\n",
    "#Accepts multiple integers via *args.\n",
    "#Returns a list of only those numbers that are perfect numbers.\n",
    "#A perfect number is a number that is equal to the sum of its proper divisors (excluding itself).  ",
    "Example: 6 → divisors: 1, 2, 3 → sum: 6.\n",
    "def check_perfect_numbers(*args):\n",
    "    for n in args:\n",
    "        s = 0\n",
    "        for i in range(1, n):\n",
    "            if n % i == 0:\n",
    "                s += i\n",
    "        if s == n:\n",
    "            print(n, \"is Perfect Number\")\n",
    "        else:\n",
    "            print(n, \"is Not Perfect Number\")\n",
    "            return list\n",
    "check_perfect_numbers(6,12)"
   ]
  },
  {
   "cell_type": "code",
   "execution_count": 5,
   "id": "1007f984-1745-4304-b4fe-d5b932915190",
   "metadata": {},
   "outputs": [
    {
     "name": "stdout",
     "output_type": "stream",
     "text": [
      "3\n",
      "6\n",
      "9\n",
      "12\n"
     ]
    }
   ],
   "source": [
    "#7.Write a function filter_divisible(divisor, *args) that returns a list of numbers from args divisible by divisor.\n",
    "def filter_divisible(divisor, *args):\n",
    "    for n in args:\n",
    "        if n % divisor == 0:\n",
    "            print(n)\n",
    "filter_divisible(3, 2, 3, 4, 6, 9, 10, 12)"
   ]
  },
  {
   "cell_type": "code",
   "execution_count": null,
   "id": "ac6f439b-596c-49d6-b7d4-19f76131757a",
   "metadata": {},
   "outputs": [],
   "source": [
    "#8.Write a function is_prime(num) that returns True if num is prime, else False."
   ]
  },
  {
   "cell_type": "code",
   "execution_count": null,
   "id": "d3a6a36c-f0a5-4df3-86de-d6c8065f2a06",
   "metadata": {},
   "outputs": [],
   "source": [
    "#9.Write a function count_divisors(*args) that returns a dictionary mapping each number to the count of its positive divisors.\n"
   ]
  },
  {
   "cell_type": "code",
   "execution_count": 3,
   "id": "ff1d6fef-ee43-41a0-bc0c-5c570ac76ec5",
   "metadata": {},
   "outputs": [
    {
     "name": "stdout",
     "output_type": "stream",
     "text": [
      "35\n"
     ]
    }
   ],
   "source": [
    "#10.Write a function sum_of_powers(power, *args) that computes the sum of each number raised to the given power (power is a positive integer).\n",
    "def sum_of_powers(power, *args):\n",
    "    s = 0\n",
    "    for n in args:\n",
    "        s = s + n ** power\n",
    "    print(s)\n",
    "sum_of_powers(3, 2, 3, )"
   ]
  },
  {
   "cell_type": "code",
   "execution_count": null,
   "id": "0fd522f8-9d96-42cc-bb21-04962cdca640",
   "metadata": {},
   "outputs": [],
   "source": []
  }
 ],
 "metadata": {
  "kernelspec": {
   "display_name": "Python 3 (ipykernel)",
   "language": "python",
   "name": "python3"
  },
  "language_info": {
   "codemirror_mode": {
    "name": "ipython",
    "version": 3
   },
   "file_extension": ".py",
   "mimetype": "text/x-python",
   "name": "python",
   "nbconvert_exporter": "python",
   "pygments_lexer": "ipython3",
   "version": "3.12.7"
  }
 },
 "nbformat": 4,
 "nbformat_minor": 5
}
