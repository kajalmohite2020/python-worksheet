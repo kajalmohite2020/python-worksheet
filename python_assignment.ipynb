{
 "cells": [
  {
   "cell_type": "code",
   "execution_count": 39,
   "id": "58b26072-82f2-4181-9ea3-7e7d33be3c9c",
   "metadata": {},
   "outputs": [
    {
     "name": "stdin",
     "output_type": "stream",
     "text": [
      "Enter first number:  2\n",
      "Enter first number:  4\n"
     ]
    },
    {
     "name": "stdout",
     "output_type": "stream",
     "text": [
      "greater number:  4\n"
     ]
    }
   ],
   "source": [
    "#Assignment no.1\n",
    "#1.Write a Python program that takes two numbers and prints which number is greater.\n",
    "num1=int(input(\"Enter first number: \"))\n",
    "num2=int(input(\"Enter first number: \"))\n",
    "\n",
    "if num1>num2:\n",
    "    print(\"greater number: \",num1)\n",
    "else:\n",
    "    print(\"greater number: \",num2)"
   ]
  },
  {
   "cell_type": "code",
   "execution_count": 43,
   "id": "38519792-58c0-41d2-ba9e-35d634bdd382",
   "metadata": {},
   "outputs": [
    {
     "name": "stdin",
     "output_type": "stream",
     "text": [
      "Enter a number: 23\n"
     ]
    },
    {
     "name": "stdout",
     "output_type": "stream",
     "text": [
      "This is a positive number\n"
     ]
    }
   ],
   "source": [
    "#2.Write a Python program that checks whether a number is positive, negative, or zero.\n",
    "a=int(input(\"Enter a number:\"))\n",
    "if a > 0:\n",
    "    print(\"This is a positive number\")\n",
    "elif a < 0:\n",
    "    print(\"This is a negative number\")\n",
    "else:\n",
    "    print(\"This is zero\")"
   ]
  },
  {
   "cell_type": "code",
   "execution_count": 45,
   "id": "d690364e-d36f-47f8-b198-f3bfa6d1dbec",
   "metadata": {},
   "outputs": [
    {
     "name": "stdin",
     "output_type": "stream",
     "text": [
      "Enter your mark 34\n"
     ]
    },
    {
     "name": "stdout",
     "output_type": "stream",
     "text": [
      "Fail\n"
     ]
    }
   ],
   "source": [
    "#3.Write a Python program to assign grades based on the marks entered using conditional statements.\n",
    "marks = int(input(\"Enter your mark\"))\n",
    "if marks >=90:\n",
    "    print(\"Grade A+\")\n",
    "elif marks >=80:\n",
    "    print(\"Grade B+\")\n",
    "elif marks >=70:\n",
    "    print(\"Grade C+\")\n",
    "elif  marks >=65:\n",
    "    print(\"Grade B+\")\n",
    "elif  marks >=60:\n",
    "    print(\"Grade C+\")\n",
    "elif marks >=50:\n",
    "    print(\"Grade D+\")\n",
    "else:\n",
    "    print(\"Fail\")"
   ]
  },
  {
   "cell_type": "code",
   "execution_count": 47,
   "id": "5356b6a7-e9f3-4532-bb06-a6b5734d9f1c",
   "metadata": {},
   "outputs": [
    {
     "name": "stdin",
     "output_type": "stream",
     "text": [
      "Enter a single alphabet: a\n"
     ]
    },
    {
     "name": "stdout",
     "output_type": "stream",
     "text": [
      "is a vowel.\n"
     ]
    }
   ],
   "source": [
    "#4.Write a Python program to check whether a given character is a vowel or a consonant.\n",
    "char = input(\"Enter a single alphabet:\")\n",
    "if char in \"aeiou\":\n",
    "    print(\"is a vowel.\")\n",
    "else:\n",
    "    print(\"is a consonant.\")\n"
   ]
  },
  {
   "cell_type": "code",
   "execution_count": 49,
   "id": "372072de-9707-4a5c-b7fd-c3a728cee8f3",
   "metadata": {},
   "outputs": [
    {
     "name": "stdin",
     "output_type": "stream",
     "text": [
      "Enter a number:  23\n"
     ]
    },
    {
     "name": "stdout",
     "output_type": "stream",
     "text": [
      "This a number not lies between 10 and 20 (exclusive)\n"
     ]
    }
   ],
   "source": [
    "#5.Write a Python program that checks if a number lies between 10 and 20 (exclusive).\n",
    "a = int(input(\"Enter a number: \"))\n",
    "if 10< a <20:\n",
    "    print(\"This a number a lies between 10 and 20 (exclusive)\")\n",
    "else:\n",
    "     print(\"This a number not lies between 10 and 20 (exclusive)\")\n",
    "    \n"
   ]
  },
  {
   "cell_type": "code",
   "execution_count": 51,
   "id": "2be316ee-131d-4b15-bd88-2878faaefe97",
   "metadata": {},
   "outputs": [
    {
     "name": "stdin",
     "output_type": "stream",
     "text": [
      "Enter the year:  2020\n"
     ]
    },
    {
     "name": "stdout",
     "output_type": "stream",
     "text": [
      "The entered year is a leap year\n"
     ]
    }
   ],
   "source": [
    "#6. Write a Python program to check if a given year is a leap year.\n",
    "year = int(input(\"Enter the year: \"))\n",
    "if year % 4 == 0:\n",
    "    print(\"The entered year is a leap year\")\n",
    "else:\n",
    "    print(\"The entered year is not a leap year\")"
   ]
  },
  {
   "cell_type": "code",
   "execution_count": 53,
   "id": "eb0c0b79-1ea3-4930-b8fb-4ea08fc9cc1a",
   "metadata": {},
   "outputs": [
    {
     "name": "stdin",
     "output_type": "stream",
     "text": [
      "Enter username:  kajal\n",
      "Enter password:  1234\n"
     ]
    },
    {
     "name": "stdout",
     "output_type": "stream",
     "text": [
      "Login successful.\n"
     ]
    }
   ],
   "source": [
    "#7. Write a Python program that validates a login using a predefined username and password.\n",
    "username = \"kajal\"\n",
    "password = \"1234\"\n",
    "a = input(\"Enter username: \")\n",
    "b = input(\"Enter password: \")\n",
    "if a == username and b == password:\n",
    "    print(\"Login successful.\")\n",
    "elif a !=username:\n",
    "    print(\"Invalid username.\")\n",
    "else:\n",
    "    print(\"Invalid password.\")   "
   ]
  },
  {
   "cell_type": "code",
   "execution_count": 55,
   "id": "2b37146a-9a72-4091-8db7-a0447779b168",
   "metadata": {},
   "outputs": [
    {
     "name": "stdin",
     "output_type": "stream",
     "text": [
      "Enter first number:  3\n",
      "Enter second number:  6\n",
      "Enter operator :  7\n"
     ]
    },
    {
     "name": "stdout",
     "output_type": "stream",
     "text": [
      "Invalid operator\n"
     ]
    }
   ],
   "source": [
    "#8.Write a Python program that works as a basic calculator (supports +, -, *, /).\n",
    "\n",
    "a = int(input(\"Enter first number: \"))\n",
    "b = int(input(\"Enter second number: \"))\n",
    "Op = input(\"Enter operator : \")\n",
    "if Op == '+':\n",
    "    print(a + b)\n",
    "elif Op== '-':\n",
    "    print(a - b)\n",
    "elif Op== '*':\n",
    "    print(a * b)\n",
    "elif Op== '/':\n",
    "    print(a / b)\n",
    "else:\n",
    "    print(\"Invalid operator\") "
   ]
  },
  {
   "cell_type": "code",
   "execution_count": 57,
   "id": "21375284-222a-4486-a077-7ff0f0daddac",
   "metadata": {},
   "outputs": [
    {
     "name": "stdin",
     "output_type": "stream",
     "text": [
      "Enter your age:  21\n"
     ]
    },
    {
     "name": "stdout",
     "output_type": "stream",
     "text": [
      "your are a adult.\n"
     ]
    }
   ],
   "source": [
    "#9.Write a Python program that assigns a category (Child, Teen, Adult, Senior) based on age.\n",
    "age = int(input(\"Enter your age: \"))\n",
    "if age < 12:\n",
    "    print(\"your are a child.\")\n",
    "elif age < 20:\n",
    "    print(\"your are a teen.\")\n",
    "elif age < 60:\n",
    "    print(\"your are a adult.\")\n",
    "elif age >61:\n",
    "    print(\"your are a senior.\")\n",
    "else:\n",
    "    print(\"please enter currect age\")\n",
    "          "
   ]
  },
  {
   "cell_type": "code",
   "execution_count": 59,
   "id": "eca2b4d0-5394-4892-bfaf-3b714b126ba1",
   "metadata": {},
   "outputs": [
    {
     "name": "stdin",
     "output_type": "stream",
     "text": [
      "enter the side1 of the triangle:  300\n",
      "enter the side2 of the triangle:  200\n",
      "enter the side3 of the triangle:  201\n"
     ]
    },
    {
     "name": "stdout",
     "output_type": "stream",
     "text": [
      "The triangle is scalene triangle\n"
     ]
    }
   ],
   "source": [
    "#10. Write a Python program that checks the type of triangle based on the sides (Equilateral, Isosceles, Scalene).\n",
    "s1 = int(input(\"enter the side1 of the triangle: \"))\n",
    "s2 = int(input(\"enter the side2 of the triangle: \"))\n",
    "s3 = int(input(\"enter the side3 of the triangle: \"))\n",
    "\n",
    "if s1 == s2 and s2 == s3:\n",
    "    print(\"The triangle is an equalateral triangle\")\n",
    "elif s1 == s2 or s2 == s3 or s3 == s1:\n",
    "    print(\"The triangle is an Isoceles triangle\")\n",
    "elif s1 != s2 and s3 != s2 and s1 != s3:\n",
    "    print(\"The triangle is scalene triangle\")\n",
    "else:\n",
    "    print(\"please enter a currect side\")\n",
    "\n"
   ]
  },
  {
   "cell_type": "code",
   "execution_count": 37,
   "id": "23eeb5b4-6785-4fda-892b-e7460ba7c646",
   "metadata": {},
   "outputs": [
    {
     "name": "stdin",
     "output_type": "stream",
     "text": [
      "Enter a number:  2\n",
      "Enter a number:  4\n",
      "Enter a number:  5\n",
      "Enter a number:  6\n",
      "Enter a number:  7\n"
     ]
    },
    {
     "name": "stdout",
     "output_type": "stream",
     "text": [
      "Add the to list: [1, 3, 7, 5, 9]\n"
     ]
    }
   ],
   "source": [
    "# assingmnet no.2\n",
    "#1.Take 5 numbers from user, add them to a list and for each odd number add +2 and even number substract -1\n",
    "numbers = [0] * 5  \n",
    "\n",
    "for i in range(5):\n",
    "    a = int(input(\"Enter a number: \"))\n",
    "    if a % 2 == 0: \n",
    "        a -= 1\n",
    "    else:  \n",
    "        a += 2\n",
    "    numbers[i] = a  \n",
    "\n",
    "print(\"Add the to list:\",numbers)\n"
   ]
  },
  {
   "cell_type": "code",
   "execution_count": 23,
   "id": "724c5192-8889-4e01-9253-bcc93a399397",
   "metadata": {},
   "outputs": [
    {
     "name": "stdin",
     "output_type": "stream",
     "text": [
      "Enter a number: 4\n"
     ]
    },
    {
     "name": "stdout",
     "output_type": "stream",
     "text": [
      "not both condition satified\n"
     ]
    }
   ],
   "source": [
    "#2.Given a list of numbers, calculate the sum of all elements that are greater than 50 or divisible by 3, but not both.\n",
    "a = int(input(\"Enter a number:\"))\n",
    "if a >= 50 or a % 3 == 0:\n",
    "    print(\"number is greater than 50 or divisible by 3\")\n",
    "else:\n",
    "    print(\"not both condition satified\")"
   ]
  },
  {
   "cell_type": "code",
   "execution_count": 63,
   "id": "0a0b490c-2798-4aee-ab24-90814d78f508",
   "metadata": {},
   "outputs": [
    {
     "name": "stdin",
     "output_type": "stream",
     "text": [
      "Enter year:  2020\n"
     ]
    },
    {
     "name": "stdout",
     "output_type": "stream",
     "text": [
      "Leap year\n"
     ]
    }
   ],
   "source": [
    "#3. Given a year, check whether it's a leap year.Take the year from the user.\n",
    "y = int(input(\"Enter year: \"))\n",
    "if y % 4 == 0 :\n",
    "    print(\"Leap year\")\n",
    "else:\n",
    "    print(\"Not leap year\")"
   ]
  },
  {
   "cell_type": "code",
   "execution_count": 1,
   "id": "7ec6ff45-6828-46f2-825f-4b70d1382f93",
   "metadata": {},
   "outputs": [
    {
     "name": "stdin",
     "output_type": "stream",
     "text": [
      "Enter the principal amount:  34\n",
      "Enter the rate of interest :  45\n",
      "Enter the time :  67\n"
     ]
    },
    {
     "name": "stdout",
     "output_type": "stream",
     "text": [
      "The simple interest is: 1025.1\n"
     ]
    }
   ],
   "source": [
    "#4.Take principal, rate, and time as input, and calculate simple interest.\n",
    "principal = float(input(\"Enter the principal amount: \"))\n",
    "rate = float(input(\"Enter the rate of interest : \"))\n",
    "time = float(input(\"Enter the time : \"))\n",
    "\n",
    "simple_interest = (principal * rate * time) / 100\n",
    "\n",
    "print(\"The simple interest is:\", simple_interest)"
   ]
  },
  {
   "cell_type": "code",
   "execution_count": 5,
   "id": "e431f5b8-d5aa-4db6-93e3-1667db09db62",
   "metadata": {},
   "outputs": [
    {
     "name": "stdin",
     "output_type": "stream",
     "text": [
      "Enter a positive integer:  34\n"
     ]
    },
    {
     "name": "stdout",
     "output_type": "stream",
     "text": [
      "The sum of squares from 1 to n is: 13685\n"
     ]
    }
   ],
   "source": [
    "#5.Take n, and compute the sum of squares: 1² + 2² + 3² + ... + n²\n",
    "\n",
    "n = int(input(\"Enter a positive integer: \"))\n",
    "sum_of_squares = 0\n",
    "\n",
    "for i in range(1, n + 1):\n",
    "    sum_of_squares += i ** 2\n",
    "\n",
    "print(\"The sum of squares from 1 to n is:\", sum_of_squares)\n"
   ]
  },
  {
   "cell_type": "code",
   "execution_count": 19,
   "id": "a921b06c-5c04-4eb3-9964-0588d7277e28",
   "metadata": {},
   "outputs": [
    {
     "name": "stdin",
     "output_type": "stream",
     "text": [
      "Enter a number between 1 and 100:  3\n"
     ]
    },
    {
     "name": "stdout",
     "output_type": "stream",
     "text": [
      "Odd numbers:\n",
      "1\n",
      "3\n",
      "Less than 50\n"
     ]
    }
   ],
   "source": [
    "#6.Write a Python program that asks the user to enter a number between 1 and 100. Then the program should: \n",
    "\n",
    "#- Check if the number is even or odd using a conditional statement\n",
    "\n",
    "#- If the number is even, print all even numbers from 2 to that number using a loop.\n",
    "\n",
    "#- If the number is odd, print all odd numbers from 1 to that number using a loop.\n",
    "\n",
    "#Finally, print whether the number is greater than, less than, or equal to 50 using comparison operators.\n",
    "\n",
    "\n",
    "n = int(input(\"Enter a number between 1 and 100: \"))\n",
    "\n",
    "if n % 2 == 0:\n",
    "    print(\"Even numbers:\")\n",
    "    for i in range(2, n+1, 2):\n",
    "        print(i)\n",
    "else:\n",
    "    print(\"Odd numbers:\")\n",
    "    for i in range(1, n+1, 2):\n",
    "        print(i)\n",
    "\n",
    "if n > 50:\n",
    "    print(\"Greater than 50\")\n",
    "elif n < 50:\n",
    "    print(\"Less than 50\")\n",
    "else:\n",
    "    print(\"Equal to 50\")"
   ]
  },
  {
   "cell_type": "code",
   "execution_count": 7,
   "id": "c19034ad-6a47-4311-9909-378326ddfbbe",
   "metadata": {},
   "outputs": [
    {
     "name": "stdin",
     "output_type": "stream",
     "text": [
      "Enter a number:  34\n"
     ]
    },
    {
     "name": "stdout",
     "output_type": "stream",
     "text": [
      "4\n"
     ]
    }
   ],
   "source": [
    "#7. Ask the user to enter a number. Find the sum of all even digits in that number.\n",
    "#Example: 2468 → 2 + 4 + 6 + 8 = 20\n",
    "num = input(\"Enter a number: \")\n",
    "even_digit = 0\n",
    "for i in num:\n",
    "    i = int(i)   \n",
    "    if i % 2 == 0:\n",
    "        even_digit += i\n",
    "print(even_digit)"
   ]
  },
  {
   "cell_type": "code",
   "execution_count": 9,
   "id": "e0865e07-296f-4536-9dda-fc677b1cf103",
   "metadata": {},
   "outputs": [
    {
     "name": "stdin",
     "output_type": "stream",
     "text": [
      "Enter a number:  34\n"
     ]
    },
    {
     "name": "stdout",
     "output_type": "stream",
     "text": [
      "306\n"
     ]
    }
   ],
   "source": [
    "#8. Write a Python program to calculate the sum of all even numbers between 1 and a number entered by the user.\n",
    "n = int(input(\"Enter a number: \"))\n",
    "s = 0\n",
    "for i in range(1, n+1):\n",
    "    if i % 2 == 0:\n",
    "        s += i\n",
    "print(s)\n"
   ]
  },
  {
   "cell_type": "code",
   "execution_count": 11,
   "id": "fd0daa29-c4e8-426e-8ef2-b8101444f45f",
   "metadata": {},
   "outputs": [
    {
     "name": "stdin",
     "output_type": "stream",
     "text": [
      "how many numbers? 5\n",
      "Enter number: 758\n",
      "Enter number: 34\n",
      "Enter number: 456\n",
      "Enter number: 453\n",
      "Enter number: 345\n"
     ]
    },
    {
     "name": "stdout",
     "output_type": "stream",
     "text": [
      "sum: 2046.0\n",
      "Average: 409.2\n"
     ]
    }
   ],
   "source": [
    "# 9.Ask the user how many numbers they want to enter (n). Accept n numbers, then print their total sum and average.\n",
    "n=int(input(\"how many numbers?\" ))\n",
    "total=0\n",
    "for i in range(n):\n",
    "    total+=float(input(\"Enter number:\"))\n",
    "avg=total/n\n",
    "print(\"sum:\",total)\n",
    "print(\"Average:\",avg)\n",
    "    "
   ]
  },
  {
   "cell_type": "code",
   "execution_count": 15,
   "id": "9ea7dcd5-add3-4cf1-b7ad-de719935134c",
   "metadata": {},
   "outputs": [
    {
     "name": "stdin",
     "output_type": "stream",
     "text": [
      "Enter total seconds: 45\n"
     ]
    },
    {
     "name": "stdout",
     "output_type": "stream",
     "text": [
      "0 minutes 45 seconds\n"
     ]
    }
   ],
   "source": [
    "#10.Ask the user to input a total number of seconds. Convert and print it as minutes and seconds.\n",
    "\n",
    "#Example: 130 seconds → 2 minutes, 10 seconds \n",
    "s = int(input(\"Enter total seconds:\"))\n",
    "m = s // 60\n",
    "s = s %  60\n",
    "print(m,\"minutes\",s,\"seconds\")"
   ]
  }
 ],
 "metadata": {
  "kernelspec": {
   "display_name": "Python 3 (ipykernel)",
   "language": "python",
   "name": "python3"
  },
  "language_info": {
   "codemirror_mode": {
    "name": "ipython",
    "version": 3
   },
   "file_extension": ".py",
   "mimetype": "text/x-python",
   "name": "python",
   "nbconvert_exporter": "python",
   "pygments_lexer": "ipython3",
   "version": "3.12.7"
  }
 },
 "nbformat": 4,
 "nbformat_minor": 5
}
