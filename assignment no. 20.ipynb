{
 "cells": [
  {
   "cell_type": "code",
   "execution_count": 3,
   "id": "b1f4f770-b430-4f8d-b322-d6c8f25d89ca",
   "metadata": {},
   "outputs": [
    {
     "name": "stdout",
     "output_type": "stream",
     "text": [
      "Lower Quartile (Q1): 12\n",
      "Upper Quartile (Q3): 15\n"
     ]
    }
   ],
   "source": [
    "#1.Create a function-based program that calculates the lower and upper quartiles of a dataset.\n",
    "# The dataset should be processed without using built-in functions or sorting utilities.\n",
    "# Implement your own logic to divide the data into appropriate segments and extract quartile values.\n",
    "data = [12, 15, 18, 20, 22, 25, 14, 35, 40, 45, 55]\n",
    "def calculate_quartiles(data):\n",
    "    n = 0\n",
    "    for _ in data:\n",
    "        n += 1\n",
    "    q1 = data[0]\n",
    "    q3 = data[0]\n",
    "    for i in range(n):\n",
    "        if data[i] < q1:\n",
    "            q1 = data[i]  # find smallest\n",
    "        if data[i] > q3:\n",
    "            q3 = data[i]\n",
    "            print(\"Lower Quartile (Q1):\", q1)\n",
    "            print(\"Upper Quartile (Q3):\", q3)\n",
    "            return q1, q3\n",
    "q1, q3 = calculate_quartiles(data) "
   ]
  },
  {
   "cell_type": "code",
   "execution_count": 5,
   "id": "669f7dae-42b9-4df9-9190-2c4fd472df78",
   "metadata": {},
   "outputs": [
    {
     "name": "stdout",
     "output_type": "stream",
     "text": [
      "Decreasing\n",
      "Increasing\n",
      "Neither\n"
     ]
    }
   ],
   "source": [
    "# 2.Build a program using only user-defined functions to determine whether a sequence of numbers is increasing, decreasing, or neither. \n",
    "# The solution must not rely on any built-in comparison helpers or sequence manipulation functions.\n",
    "def check(a, b):\n",
    "    if a < b:\n",
    "        return \"Increasing\"\n",
    "    elif a > b:\n",
    "        return \"Decreasing\"\n",
    "    else:\n",
    "        return \"Neither\"\n",
    "print(check(5, 1))\n",
    "print(check(1, 2))\n",
    "print(check(3, 3))\n"
   ]
  },
  {
   "cell_type": "code",
   "execution_count": 7,
   "id": "48fc8eaf-02bb-47da-a7be-535fa234b010",
   "metadata": {},
   "outputs": [
    {
     "name": "stdin",
     "output_type": "stream",
     "text": [
      "Enter a first number: 1\n",
      "Enter a second number: 2\n",
      "Enter a third number: 4\n",
      "Enter a forth number: 6\n",
      "Enter a sixth  number: 7\n",
      "Enter a seventh number: 3\n"
     ]
    },
    {
     "data": {
      "text/plain": [
       "(-4.4, 4.2)"
      ]
     },
     "execution_count": 7,
     "metadata": {},
     "output_type": "execute_result"
    }
   ],
   "source": [
    "# 3.Write a program to solve a system of two linear equations with two variables.\n",
    "# Construct all logic from scratch, using only user-defined functions for calculations and comparisons. \n",
    "# Your solution should handle different types of coefficients and ensure a unique solution is found when possible.\n",
    "a1 = int(input(\"Enter a first number:\"))\n",
    "b1 = int(input(\"Enter a second number:\"))\n",
    "c1 = int(input(\"Enter a third number:\"))\n",
    "a2 = int(input(\"Enter a forth number:\"))\n",
    "b2 = int(input(\"Enter a sixth  number:\"))\n",
    "c2 = int(input(\"Enter a seventh number:\"))\n",
    "def linear ( ):\n",
    "    d = a1*b2 - a2*b1\n",
    "    if d == 0:\n",
    "        return \"No unique solution\"\n",
    "    x = (c1*b2 - c2*b1) / d\n",
    "    y = (a1*c2 - a2*c1) / d\n",
    "    return x, y\n",
    "linear()"
   ]
  },
  {
   "cell_type": "code",
   "execution_count": 9,
   "id": "eb24fbbb-e584-4a74-b891-bf0cc826774b",
   "metadata": {},
   "outputs": [
    {
     "name": "stdout",
     "output_type": "stream",
     "text": [
      "Value of polynomial:\n"
     ]
    },
    {
     "data": {
      "text/plain": [
       "69"
      ]
     },
     "execution_count": 9,
     "metadata": {},
     "output_type": "execute_result"
    }
   ],
   "source": [
    "#4.Construct a program that evaluates a polynomial expression of a single variable for a given input value. \n",
    "# For example, evaluate an expression like ax² + bx + c at x = n using only user-defined arithmetic functions.\n",
    "def evaluate_polynomial(a, b, c, x):\n",
    "    r= 1\n",
    "    x2 = 1\n",
    "    for _ in range(2):\n",
    "        x2 *= x\n",
    "    r = a * x2 + b * x + c\n",
    "    print(\"Value of polynomial:\")\n",
    "    return r\n",
    "a, b, c = 2, 3, 4\n",
    "x = 5\n",
    "evaluate_polynomial(a, b, c, x)     "
   ]
  },
  {
   "cell_type": "code",
   "execution_count": null,
   "id": "079631e8-361c-43d6-9895-427d971c9cf7",
   "metadata": {},
   "outputs": [],
   "source": [
    "# 5.Write a program using user-defined functions that computes the weighted average of a set of values with associated weights. \n",
    "# Implement all operations manually, including multiplication, summation, and division. \n",
    "# Ensure the logic checks for mismatched lengths between values and weights.\n"
   ]
  },
  {
   "cell_type": "code",
   "execution_count": 51,
   "id": "ea33a288-41a1-4990-a475-e0c38bd2de50",
   "metadata": {},
   "outputs": [],
   "source": [
    "# 6.Design a program that identifies whether a given list contains any significant outliers.\n",
    "# Use custom logic to assess how far individual values deviate from the main body of data. \n",
    "# All statistical measures used must be computed using your own user-defined functions."
   ]
  },
  {
   "cell_type": "code",
   "execution_count": 53,
   "id": "dcfc00cf-f66c-4d6b-a416-1f67578f0a18",
   "metadata": {},
   "outputs": [],
   "source": [
    "# 7.Construct a program to analyze two numerical datasets and determine the strength and direction of their linear relationship. \n",
    "# Use only user-defined functions to perform all required calculations, avoiding any shortcuts or statistical libraries.\n"
   ]
  },
  {
   "cell_type": "code",
   "execution_count": null,
   "id": "344c7704-b8a1-4b43-90e3-e5fd4d810975",
   "metadata": {},
   "outputs": [],
   "source": [
    "# 8.Create a program using user-defined functions that takes a linear algebraic expression with like terms (e.g., 2x + 3x - x + 5) and simplifies it to its shortest form. \n",
    "# Ensure that your function handles sign changes and coefficient aggregation manually.\n"
   ]
  },
  {
   "cell_type": "code",
   "execution_count": 11,
   "id": "a57c8beb-2f62-4ce8-a473-bf8942da4fbd",
   "metadata": {},
   "outputs": [],
   "source": [
    "# 9.Write a set of user-defined functions to check whether a given sequence of numbers forms an arithmetic progression. \n",
    "# If so, determine the common difference and the general term. All computations must be derived using basic arithmetic logic."
   ]
  },
  {
   "cell_type": "code",
   "execution_count": 13,
   "id": "626d3978-0ad8-4eb9-ba6e-2cbae5aee217",
   "metadata": {},
   "outputs": [
    {
     "name": "stdout",
     "output_type": "stream",
     "text": [
      "Most frequent value: 2\n"
     ]
    }
   ],
   "source": [
    "# 10.Develop a function-based solution that determines the most frequently occurring value in a dataset. \n",
    "# Implement custom logic to count occurrences and identify the maximum frequency. Do not use dictionaries, built-ins, or collections.\n",
    "def most_frequent(data):\n",
    "    max_count=0\n",
    "    for i in data:\n",
    "        count=0\n",
    "        for j in data:\n",
    "            if i==j:\n",
    "                count+=1\n",
    "        if count>max_count:\n",
    "            max_count=count\n",
    "            mode=i\n",
    "    return mode\n",
    "\n",
    "dataset=[4,1,2,4,3,2,4,2,2]\n",
    "print(\"Most frequent value:\", most_frequent(dataset))"
   ]
  },
  {
   "cell_type": "code",
   "execution_count": null,
   "id": "e7337639-c249-40d4-abd4-8878b2863b39",
   "metadata": {},
   "outputs": [],
   "source": []
  }
 ],
 "metadata": {
  "kernelspec": {
   "display_name": "Python 3 (ipykernel)",
   "language": "python",
   "name": "python3"
  },
  "language_info": {
   "codemirror_mode": {
    "name": "ipython",
    "version": 3
   },
   "file_extension": ".py",
   "mimetype": "text/x-python",
   "name": "python",
   "nbconvert_exporter": "python",
   "pygments_lexer": "ipython3",
   "version": "3.12.7"
  }
 },
 "nbformat": 4,
 "nbformat_minor": 5
}
