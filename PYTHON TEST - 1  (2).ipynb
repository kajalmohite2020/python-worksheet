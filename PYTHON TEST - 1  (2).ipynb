{
 "cells": [
  {
   "cell_type": "markdown",
   "id": "3adc4cd4-da0f-496a-8c88-7fab1919ef58",
   "metadata": {},
   "source": [
    "# DATA ANALYTICS TEST 1\n",
    "\n",
    "- INTRODUCTION TO DATA ANALYTICS \n",
    "- VARIABLES & OPERATORS\n",
    "- CONTROL STRUCTURE\n",
    "   - CONDITIONAL STATEMENTS\n",
    "   - LOOPS"
   ]
  },
  {
   "cell_type": "markdown",
   "id": "7367285f-00f7-491d-a613-17fae16f8801",
   "metadata": {},
   "source": [
    "### Q1. Input 3 side lengths. Check if the triangle is:\n",
    "\n",
    "- Equilateral (all sides equal)\n",
    "\n",
    "- Isosceles (two sides equal)\n",
    "\n",
    "- Scalene (all sides different)\n",
    "\n"
   ]
  },
  {
   "cell_type": "code",
   "execution_count": 43,
   "id": "5c2d7a64-5dd7-4865-b221-a204c94edf0d",
   "metadata": {},
   "outputs": [
    {
     "name": "stdin",
     "output_type": "stream",
     "text": [
      "Enter side 1:  2\n",
      "Enter side 2:  3\n",
      "Enter side 3:  4\n"
     ]
    },
    {
     "name": "stdout",
     "output_type": "stream",
     "text": [
      "Scalene\n"
     ]
    }
   ],
   "source": [
    "a = int(input(\"Enter side 1: \"))\n",
    "b = int(input(\"Enter side 2: \"))\n",
    "c = int(input(\"Enter side 3: \"))\n",
    "if a == b == c:\n",
    "    print(\"Equilateral\")\n",
    "elif a == b or b == c or a == c:\n",
    "    print(\"Isosceles\")\n",
    "else:\n",
    "    print(\"Scalene\")"
   ]
  },
  {
   "cell_type": "markdown",
   "id": "85d7d2c8-d9e0-49dc-ae17-96d4a2b23f15",
   "metadata": {},
   "source": [
    "### Q2. Write a python program to check blood donation eligibility. Ask for age and weight. Eligible if age ≥ 18 and weight ≥ 50 kg.\n",
    "\n"
   ]
  },
  {
   "cell_type": "code",
   "execution_count": 3,
   "id": "060d7c40-cc27-4588-90ac-d6ee927bebb9",
   "metadata": {},
   "outputs": [
    {
     "name": "stdin",
     "output_type": "stream",
     "text": [
      "Enter a age: 18\n",
      "Enter a weight: 60\n"
     ]
    },
    {
     "name": "stdout",
     "output_type": "stream",
     "text": [
      "patient is  not eligible for blood donate\n"
     ]
    }
   ],
   "source": [
    "a = int(input(\"Enter a age:\"))\n",
    "w = int(input(\"Enter a weight:\"))\n",
    "if a > 18 and w > 50:\n",
    "    print(\"patient is eligible for blood donate\")\n",
    "else:\n",
    "     print(\"patient is  not eligible for blood donate\")"
   ]
  },
  {
   "cell_type": "markdown",
   "id": "e99537df-660b-43cd-bdb0-f8385169049d",
   "metadata": {},
   "source": [
    "### Q3. Input a 3-digit number. Find the sum of its digits. (e.g: 432 = 4 + 3 + 2)"
   ]
  },
  {
   "cell_type": "code",
   "execution_count": 11,
   "id": "ab0253a5-5a27-4dcc-8085-e680b00a0ca2",
   "metadata": {},
   "outputs": [
    {
     "name": "stdin",
     "output_type": "stream",
     "text": [
      "Enter a 3 digit number: 432\n"
     ]
    },
    {
     "name": "stdout",
     "output_type": "stream",
     "text": [
      "9\n"
     ]
    }
   ],
   "source": [
    "a = int(input(\"Enter a 3 digit number:\"))\n",
    "sum_digits = 0\n",
    "for d in str(a):\n",
    "    sum_digits += int(d)\n",
    "print(sum_digits)\n"
   ]
  },
  {
   "cell_type": "markdown",
   "id": "6c7f58b7-5ccd-4d99-be3d-2a5f6b79beca",
   "metadata": {},
   "source": [
    "### Q4. Write a python Program to calculate average of four numbers. Ask for four numbers. Calculate and print their average.\n",
    "\n"
   ]
  },
  {
   "cell_type": "code",
   "execution_count": 15,
   "id": "73a7e9ac-b2fe-4872-9f78-b3a50d211e72",
   "metadata": {},
   "outputs": [
    {
     "name": "stdin",
     "output_type": "stream",
     "text": [
      "Enter a first number: 2\n",
      "Enter a second number: 3\n",
      "Enter a thrid number: 6\n",
      "Enter a forth number: 7\n"
     ]
    },
    {
     "name": "stdout",
     "output_type": "stream",
     "text": [
      "average is: 4.5\n"
     ]
    }
   ],
   "source": [
    "a1 = int(input(\"Enter a first number:\"))\n",
    "a2 = int(input(\"Enter a second number:\"))\n",
    "a3 = int(input(\"Enter a thrid number:\"))\n",
    "a4 = int(input(\"Enter a forth number:\"))\n",
    "avg = ( a1 + a2 + a3 + a4) /4\n",
    "print(\"average is:\",avg) \n"
   ]
  },
  {
   "cell_type": "markdown",
   "id": "7ab5bfd9-7d68-4566-94a5-19fdb4161622",
   "metadata": {},
   "source": [
    "### Q5. Write a program to convert Celsius temperature  to Kelvin temperature. Input Celsius. Convert to Kelvin using: K = C + 273.15\n"
   ]
  },
  {
   "cell_type": "code",
   "execution_count": 19,
   "id": "9dc90dcf-1899-4d52-b260-52170e8c9894",
   "metadata": {},
   "outputs": [
    {
     "name": "stdin",
     "output_type": "stream",
     "text": [
      "Enter temperature in Celsius:  45\n"
     ]
    },
    {
     "name": "stdout",
     "output_type": "stream",
     "text": [
      "Temperature in Kelvin = 318.15\n"
     ]
    }
   ],
   "source": [
    "c = float(input(\"Enter temperature in Celsius: \"))\n",
    "k = c + 273.15\n",
    "print(\"Temperature in Kelvin =\", k)"
   ]
  },
  {
   "cell_type": "markdown",
   "id": "a3eee2c9-f5ba-44fb-931f-c17a3529364a",
   "metadata": {},
   "source": [
    "### Q6. Input a 4-digit number. If sum of first two digits equals sum of last two, print \"Lucky Number\".\n",
    "\n"
   ]
  },
  {
   "cell_type": "code",
   "execution_count": null,
   "id": "c8767f79-f4ef-460c-95ba-20b19ce8c242",
   "metadata": {},
   "outputs": [],
   "source": []
  },
  {
   "cell_type": "markdown",
   "id": "c5f019fb-5a4a-49b4-b076-dfdb16bdb85e",
   "metadata": {},
   "source": [
    "Q7. What is Data Analysis? Mention the types of Data Aanalysis along with their description. "
   ]
  },
  {
   "cell_type": "code",
   "execution_count": null,
   "id": "b73b9e60-8d80-4558-bba7-12b1dd40d786",
   "metadata": {},
   "outputs": [],
   "source": []
  },
  {
   "cell_type": "markdown",
   "id": "ce61bbbd-819b-4729-858c-814288855e4f",
   "metadata": {},
   "source": [
    "Q8. Ask for a 2-digit number like 47. Reverse it using integer math and print 74.\n",
    "\n"
   ]
  },
  {
   "cell_type": "code",
   "execution_count": null,
   "id": "8208a4e1-56e8-4c5a-b7e3-950937c33839",
   "metadata": {},
   "outputs": [],
   "source": []
  },
  {
   "cell_type": "markdown",
   "id": "64678529-cbde-4402-b478-d14e44fb3528",
   "metadata": {},
   "source": [
    "### Q9. Ask for a number. Print \"In range\" if it is between 50 and 100 (inclusive), else \"Out of range\".\n",
    "\n"
   ]
  },
  {
   "cell_type": "code",
   "execution_count": 23,
   "id": "4f238d5d-99c2-4799-b77a-4f3eed866a86",
   "metadata": {},
   "outputs": [
    {
     "name": "stdin",
     "output_type": "stream",
     "text": [
      "Enter a number:  56\n"
     ]
    },
    {
     "name": "stdout",
     "output_type": "stream",
     "text": [
      "In range\n"
     ]
    }
   ],
   "source": [
    "num = int(input(\"Enter a number: \"))\n",
    "if 50 <= num <= 100:\n",
    "    print(\"In range\")\n",
    "else:\n",
    "    print(\"Out of range\")"
   ]
  },
  {
   "cell_type": "markdown",
   "id": "9db7f30a-4f2f-4553-9e4b-024a3d2c99e3",
   "metadata": {},
   "source": [
    "### Q10. Write a program to Print Multiples of 7 Between 1–100"
   ]
  },
  {
   "cell_type": "code",
   "execution_count": 25,
   "id": "046baff5-e364-4988-aea7-21401d89861f",
   "metadata": {},
   "outputs": [
    {
     "name": "stdout",
     "output_type": "stream",
     "text": [
      "7\n",
      "14\n",
      "21\n",
      "28\n",
      "35\n",
      "42\n",
      "49\n",
      "56\n",
      "63\n",
      "70\n",
      "77\n",
      "84\n",
      "91\n",
      "98\n"
     ]
    }
   ],
   "source": [
    "for i in range(1, 101):\n",
    "    if i % 7 == 0:\n",
    "        print(i)"
   ]
  },
  {
   "cell_type": "markdown",
   "id": "6b79593e-892f-4def-ad24-f77b531909c5",
   "metadata": {},
   "source": [
    "### Q11. Write a program to calculate speed. Input distance (km) and time (hours). Calculate and print speed.\n",
    "\n",
    "- Formula : speed = distance ÷ time."
   ]
  },
  {
   "cell_type": "code",
   "execution_count": 27,
   "id": "61820fd9-f2dd-4fee-9b8c-99a3369a981a",
   "metadata": {},
   "outputs": [
    {
     "name": "stdin",
     "output_type": "stream",
     "text": [
      "Enter distance (km):  23\n",
      "Enter time (hours):  45\n"
     ]
    },
    {
     "name": "stdout",
     "output_type": "stream",
     "text": [
      "km/h and time  = 0.5111111111111111\n"
     ]
    }
   ],
   "source": [
    "d = int(input(\"Enter distance (km): \"))\n",
    "t = int(input(\"Enter time (hours): \"))\n",
    "\n",
    "s = distance / time\n",
    "print(\"km/h and time  =\", s)"
   ]
  },
  {
   "cell_type": "markdown",
   "id": "233ef1a4-53a5-48eb-b286-887e3342665c",
   "metadata": {},
   "source": [
    "### Q12. What is type conversion? Explain the two types of type conversion"
   ]
  },
  {
   "cell_type": "code",
   "execution_count": null,
   "id": "0e45e61e-78d5-44c8-96d1-8596df97507b",
   "metadata": {},
   "outputs": [],
   "source": [
    "\"\"\"\n",
    "Type conversion is refers to change in the data type of a variable python  support two type conversion.\n",
    "\n",
    "1] Implicit type conversion:\n",
    "                            this type conversion is done by python during runtime. It does it in order to avoid data loss.\n",
    "2] explicit type conversion:\n",
    "                           this type of the conversion us done by the user as required using the built in data type functions as int(), float(), \n",
    "                           str(),list(),tuple(),set(). this type of conversion id also called type casting. "
   ]
  },
  {
   "cell_type": "markdown",
   "id": "ee5fdeec-59f3-4146-a347-3d8bc2edb15a",
   "metadata": {},
   "source": [
    "### Q13. Explain Membership operators with example"
   ]
  },
  {
   "cell_type": "code",
   "execution_count": null,
   "id": "4cbe6d06-60f4-4c95-98d8-b094b41d45ff",
   "metadata": {},
   "outputs": [],
   "source": [
    "\"\"\"Membership Operators\n",
    "Used to test whether a value or variable is found in a sequence (string, list, tuple, set, and dictionary).\n",
    "in: True if value/variable is found in the sequence.\n",
    "not in: True if value/variable is not found in the sequence.\n",
    "These operators are fundamental to performing operations, making decisions, and controlling the flow of execution in Python scripts.\"\"\"\n",
    "\"\"\"\n",
    "example:\n",
    "n = int(input(\"Enter a number: \"))\n",
    "if n in [10, 20, 30, 40]:\n",
    "    print(\"Number is in the list\")\n",
    "else:\n",
    "     print(\"Number is not in the list\")\n",
    "    "
   ]
  },
  {
   "cell_type": "markdown",
   "id": "c75ee074-57de-4c4e-a344-aa2152616e0c",
   "metadata": {},
   "source": [
    "### Q14. Find Largest Digit in a Number\n",
    "Input a number like 4782. Print the largest digit."
   ]
  },
  {
   "cell_type": "code",
   "execution_count": null,
   "id": "5fccba81-ab59-40f7-8e66-e736c51f11e6",
   "metadata": {},
   "outputs": [],
   "source": []
  },
  {
   "cell_type": "markdown",
   "id": "75591fdb-35a5-4da2-b2a6-898bdddfdcd7",
   "metadata": {},
   "source": [
    "### Q15. Tip Calculator\n",
    "Input total bill and tip percentage. Print tip amount and total amount.\n",
    "\n"
   ]
  },
  {
   "cell_type": "code",
   "execution_count": 41,
   "id": "ada9f3dc-c65f-499b-b5bd-fcea8b5f24ac",
   "metadata": {},
   "outputs": [
    {
     "name": "stdin",
     "output_type": "stream",
     "text": [
      "Enter total bill:  450\n",
      "Enter tip percentage:  23\n"
     ]
    },
    {
     "name": "stdout",
     "output_type": "stream",
     "text": [
      "Tip amount = 103.5\n",
      "Total amount = 553.5\n"
     ]
    }
   ],
   "source": [
    "bill = float(input(\"Enter total bill: \"))\n",
    "tip_per = float(input(\"Enter tip percentage: \"))\n",
    "tip = bill * tip_per / 100\n",
    "total = bill + tip\n",
    "print(\"Tip amount =\", tip)\n",
    "print(\"Total amount =\", total)"
   ]
  },
  {
   "cell_type": "code",
   "execution_count": null,
   "id": "ecc75230-4085-4461-875b-00ff60e2b14f",
   "metadata": {},
   "outputs": [],
   "source": []
  }
 ],
 "metadata": {
  "kernelspec": {
   "display_name": "Python [conda env:base] *",
   "language": "python",
   "name": "conda-base-py"
  },
  "language_info": {
   "codemirror_mode": {
    "name": "ipython",
    "version": 3
   },
   "file_extension": ".py",
   "mimetype": "text/x-python",
   "name": "python",
   "nbconvert_exporter": "python",
   "pygments_lexer": "ipython3",
   "version": "3.12.7"
  }
 },
 "nbformat": 4,
 "nbformat_minor": 5
}
