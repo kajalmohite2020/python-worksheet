{
 "cells": [
  {
   "cell_type": "code",
   "execution_count": 127,
   "id": "04bc2c04-063a-422b-9bfb-930178968fbe",
   "metadata": {},
   "outputs": [],
   "source": [
    "#Assignment no.13\n",
    "#1.Write a python function to find  Greatest Common Divisor (GCD) using Euclid’s algorithm"
   ]
  },
  {
   "cell_type": "code",
   "execution_count": 5,
   "id": "4c943a46-cf71-4b1e-ad9a-aea909584122",
   "metadata": {},
   "outputs": [
    {
     "name": "stdin",
     "output_type": "stream",
     "text": [
      "Enter x1:  2\n",
      "Enter y1:  6\n",
      "Enter x2:  8\n",
      "Enter y2:  4\n"
     ]
    },
    {
     "name": "stdout",
     "output_type": "stream",
     "text": [
      "Midpoint = (5.0, 5.0)\n"
     ]
    }
   ],
   "source": [
    "#2.Write a python function to find Midpoint of a line segment.\n",
    "#without parameter\n",
    "x1 = float(input(\"Enter x1: \"))\n",
    "y1 = float(input(\"Enter y1: \"))\n",
    "x2 = float(input(\"Enter x2: \"))\n",
    "y2 = float(input(\"Enter y2: \"))\n",
    "def midpoint(x1, y1, x2, y2):\n",
    "    m = (x1 + x2) / 2,(y1 + y2) / 2\n",
    "    print(\"Midpoint =\")\n",
    "    return m\n",
    "midpoint(x1, y1, x2, y2)\n"
   ]
  },
  {
   "cell_type": "code",
   "execution_count": 184,
   "id": "07966d74-7a29-4bb2-b6a3-24335b299226",
   "metadata": {},
   "outputs": [
    {
     "name": "stdout",
     "output_type": "stream",
     "text": [
      "Midpoint =\n"
     ]
    },
    {
     "data": {
      "text/plain": [
       "(7.0, 4.5)"
      ]
     },
     "execution_count": 184,
     "metadata": {},
     "output_type": "execute_result"
    }
   ],
   "source": [
    "#with parameter\n",
    "def midpoint(x1, y1, x2, y2):\n",
    "    m = (x1 + x2) / 2,(y1 + y2) / 2\n",
    "    print(\"Midpoint =\")\n",
    "    return m\n",
    "midpoint(5,7,9,2)\n"
   ]
  },
  {
   "cell_type": "code",
   "execution_count": null,
   "id": "ef957014-285a-4376-b19d-673997b41b19",
   "metadata": {},
   "outputs": [],
   "source": [
    "#3.Write a python function to find Equation of the perpendicular bisector of segment (x1, y1)-(x2, y2)."
   ]
  },
  {
   "cell_type": "code",
   "execution_count": null,
   "id": "e926dd3e-297f-497b-b628-f87736c1a1db",
   "metadata": {},
   "outputs": [],
   "source": [
    "#4.Write a python function to find Area and perimeter of a triangle using coordinates."
   ]
  },
  {
   "cell_type": "code",
   "execution_count": 13,
   "id": "6321c63c-27a2-41aa-a499-9edf5b1a8eec",
   "metadata": {},
   "outputs": [
    {
     "name": "stdin",
     "output_type": "stream",
     "text": [
      "Enter a first digits: 3\n",
      "Enter a second digits: 4\n",
      "Enter a third digits: 7\n",
      "Enter a forth digits: 89\n",
      "Enter a radius: 234\n"
     ]
    },
    {
     "name": "stdout",
     "output_type": "stream",
     "text": [
      "Inside a circle\n"
     ]
    }
   ],
   "source": [
    "#5.Write a python function to Check if point (px, py) lies inside/on/outside a circle with center (cx, cy) and radius r.\n",
    "#without parameter\n",
    "px = float(input(\"Enter a first digits:\"))\n",
    "py = float(input(\"Enter a second digits:\"))\n",
    "cx = float(input(\"Enter a third digits:\"))\n",
    "cy = float(input(\"Enter a forth digits:\"))\n",
    "r = float(input(\"Enter a radius:\"))\n",
    "d2 = (px - cx)**2 + (py - cy)**2\n",
    "def check_point_circle():\n",
    "    if d2 < r**2:\n",
    "        print(\"Inside a circle\")\n",
    "    elif d2 == r**2:\n",
    "        print(\"On the circle\")\n",
    "    else:\n",
    "        print(\"Outside the circle\")\n",
    "check_point_circle()\n"
   ]
  },
  {
   "cell_type": "code",
   "execution_count": 180,
   "id": "d4678586-2d35-41f5-bbab-5a616dd2642e",
   "metadata": {},
   "outputs": [
    {
     "name": "stdout",
     "output_type": "stream",
     "text": [
      "Outside the circle\n"
     ]
    },
    {
     "data": {
      "text/plain": [
       "584"
      ]
     },
     "execution_count": 180,
     "metadata": {},
     "output_type": "execute_result"
    }
   ],
   "source": [
    "#with parameter\n",
    "def check_point_circle(px,py,cx,cy,r):\n",
    "    d2 = (px - cx)**2 + (py - cy)**2\n",
    "    if d2 < r**2:\n",
    "        print(\"Inside a circle\")\n",
    "    elif d2 == r**2:\n",
    "        print(\"On the circle\")\n",
    "    else:\n",
    "        print(\"Outside the circle\")\n",
    "check_point_circle(2,34,12,12,23)"
   ]
  },
  {
   "cell_type": "code",
   "execution_count": 43,
   "id": "99271fc2-06f7-417b-8090-3caeed5fdd9e",
   "metadata": {},
   "outputs": [
    {
     "name": "stdin",
     "output_type": "stream",
     "text": [
      "Enter x-coordinate of center:  2\n",
      "Enter y-coordinate of center:  3\n",
      "Enter radius:  4\n"
     ]
    },
    {
     "name": "stdout",
     "output_type": "stream",
     "text": [
      "(x- 2.0 )^2 + (y- 3.0 )^2 = 4.0 ^2\n"
     ]
    }
   ],
   "source": [
    "#6.Write a python function to find Equation of a circle given center and radius\n",
    "#without parameter\n",
    "x = float(input(\"Enter x-coordinate of center: \"))\n",
    "y = float(input(\"Enter y-coordinate of center: \"))\n",
    "r = float(input(\"Enter radius: \"))\n",
    "def circle_equation():\n",
    "   print(\"(x-\", x, \")^2 + (y-\", y, \")^2 =\", r, \"^2\")\n",
    "\n",
    "circle_equation()"
   ]
  },
  {
   "cell_type": "code",
   "execution_count": 49,
   "id": "977da71a-7b12-4ea9-a376-3e277b194a06",
   "metadata": {},
   "outputs": [
    {
     "name": "stdout",
     "output_type": "stream",
     "text": [
      "(x- 5 )^2 + (y- 6 )^2 = 9 ^2\n"
     ]
    }
   ],
   "source": [
    "#with parameter\n",
    "def circle_equation(x, y, r):\n",
    "    print(\"(x-\", x, \")^2 + (y-\", y, \")^2 =\", r, \"^2\")\n",
    "circle_equation(5, 6, 9)"
   ]
  },
  {
   "cell_type": "code",
   "execution_count": 172,
   "id": "0a83ad87-f04a-45cf-8120-673dd3396cff",
   "metadata": {},
   "outputs": [
    {
     "name": "stdin",
     "output_type": "stream",
     "text": [
      "Enter x:  3\n",
      "Enter y:  4\n"
     ]
    },
    {
     "name": "stdout",
     "output_type": "stream",
     "text": [
      "Distance  of a point (x,y) from origin =\n"
     ]
    },
    {
     "data": {
      "text/plain": [
       "5.0"
      ]
     },
     "execution_count": 172,
     "metadata": {},
     "output_type": "execute_result"
    }
   ],
   "source": [
    "#7.Write a python function to find Distance of a point (x, y) from origin.\n",
    "#without parameter\n",
    "x = float(input(\"Enter x: \"))\n",
    "y = float(input(\"Enter y: \"))\n",
    "def distance_from_origin( ):\n",
    "    d = (x**2 + y**2) ** 0.5\n",
    "    print(\"Distance  of a point (x,y) from origin =\")\n",
    "    return d\n",
    "distance_from_origin( )"
   ]
  },
  {
   "cell_type": "code",
   "execution_count": 178,
   "id": "6b0dfc61-7ce4-4ae5-99cd-f15b64988f42",
   "metadata": {},
   "outputs": [
    {
     "name": "stdout",
     "output_type": "stream",
     "text": [
      "Distance  of a point (x,y) from origin =\n"
     ]
    },
    {
     "data": {
      "text/plain": [
       "5.0"
      ]
     },
     "execution_count": 178,
     "metadata": {},
     "output_type": "execute_result"
    }
   ],
   "source": [
    "#with parameter\n",
    "def distance_from_origin(x, y):\n",
    "    d = (x**2 + y**2) ** 0.5\n",
    "    print(\"Distance  of a point (x,y) from origin =\")\n",
    "    return d\n",
    "distance_from_origin(3,4)"
   ]
  },
  {
   "cell_type": "code",
   "execution_count": 160,
   "id": "30e3f52c-a92c-44f4-843a-913d2ee0eda0",
   "metadata": {},
   "outputs": [
    {
     "name": "stdin",
     "output_type": "stream",
     "text": [
      "Enter x1 number:  2\n",
      "Enter y1 number:  3\n",
      "Enter x2 number:  4\n",
      "Enter y2 number:  6\n",
      "Enter x3 number:  3\n",
      "Enter y3 number:  4\n"
     ]
    },
    {
     "name": "stdout",
     "output_type": "stream",
     "text": [
      "points lie on the different line (collinear)\n"
     ]
    }
   ],
   "source": [
    "#8.Write a python function to Check if 3 points lie on the same line (collinear).\n",
    "#without parameter\n",
    "x1 = int(input(\"Enter x1 number: \"))\n",
    "y1 = int(input(\"Enter y1 number: \"))\n",
    "x2 = int(input(\"Enter x2 number: \"))\n",
    "y2 = int(input(\"Enter y2 number: \"))\n",
    "x3 = int(input(\"Enter x3 number: \"))\n",
    "y3 = int(input(\"Enter y3 number: \"))\n",
    "a = x1*(y2 - y3) + x2*(y3 - y1) + x3*(y1 - y2)\n",
    "def collinear( ):\n",
    "    if a == 0:\n",
    "        print(\"points lie on the same line (collinear)\")\n",
    "    else:\n",
    "        print(\"points lie on the different line (collinear)\") \n",
    "collinear( )"
   ]
  },
  {
   "cell_type": "code",
   "execution_count": 162,
   "id": "3e9cae27-da56-4157-b488-71d8ca3514f3",
   "metadata": {},
   "outputs": [
    {
     "name": "stdout",
     "output_type": "stream",
     "text": [
      "points lie on the different line (collinear)\n"
     ]
    }
   ],
   "source": [
    "#with parameter\n",
    "def collinear(x1, y1, x2, y2, x3, y3):\n",
    "    a = x1*(y2 - y3) + x2*(y3 - y1) + x3*(y1 - y2)\n",
    "    if a == 0:\n",
    "        print(\"points lie on the same line (collinear)\")\n",
    "    else:\n",
    "        print(\"points lie on the different line (collinear)\")\n",
    "collinear(2,221,42,42,71,5)"
   ]
  },
  {
   "cell_type": "code",
   "execution_count": 154,
   "id": "db68f233-c574-4cdf-94a3-5360b7b559d8",
   "metadata": {},
   "outputs": [
    {
     "name": "stdin",
     "output_type": "stream",
     "text": [
      "Enter x1 numbrer:  1\n",
      "Enter y1 number:  2\n",
      "Enter x2 number:  3\n",
      "Enter y2 number:  4\n",
      "Enter x3 number:  5\n",
      "Enter y3 number:  6\n"
     ]
    },
    {
     "name": "stdout",
     "output_type": "stream",
     "text": [
      "Centroid of the triangle is:\n"
     ]
    },
    {
     "data": {
      "text/plain": [
       "(3.0, 4.0)"
      ]
     },
     "execution_count": 154,
     "metadata": {},
     "output_type": "execute_result"
    }
   ],
   "source": [
    "#9.Write a python function to Find centroid of a triangle.\n",
    "#without parameter\n",
    "x1 = int(input(\"Enter x1 numbrer: \"))\n",
    "y1 = int(input(\"Enter y1 number: \"))\n",
    "x2 = int(input(\"Enter x2 number: \"))\n",
    "y2 = int(input(\"Enter y2 number: \"))\n",
    "x3 = int(input(\"Enter x3 number: \"))\n",
    "y3 = int(input(\"Enter y3 number: \"))\n",
    "def centroid():\n",
    "    c = ((x1 + x2 + x3) / 3,(y1 + y2 + y3) / 3)\n",
    "    print(\"Centroid of the triangle is:\")\n",
    "    return c\n",
    "\n",
    "centroid()"
   ]
  },
  {
   "cell_type": "code",
   "execution_count": 148,
   "id": "8acd9f14-6aa3-4455-b563-5f450f907087",
   "metadata": {},
   "outputs": [
    {
     "name": "stdout",
     "output_type": "stream",
     "text": [
      "Centroid of the triangle is:\n"
     ]
    },
    {
     "data": {
      "text/plain": [
       "(2.0, 5.0)"
      ]
     },
     "execution_count": 148,
     "metadata": {},
     "output_type": "execute_result"
    }
   ],
   "source": [
    "#with parameter\n",
    "def centroid(x1,x2,x3,y1,y2,y3):\n",
    "    c = ((x1 + x2 + x3) / 3, (y1 + y2 + y3) / 3)\n",
    "    print(\"Centroid of the triangle is:\")\n",
    "    return c\n",
    "centroid(1,2,3,4,5,6)"
   ]
  },
  {
   "cell_type": "code",
   "execution_count": 144,
   "id": "ea2bfd9b-388f-4662-9b4f-5b6859717452",
   "metadata": {},
   "outputs": [
    {
     "name": "stdin",
     "output_type": "stream",
     "text": [
      "Enter side a:  5\n",
      "Enter side b:  5\n",
      "Enter side c:  6\n"
     ]
    },
    {
     "name": "stdout",
     "output_type": "stream",
     "text": [
      "Length of median:\n"
     ]
    },
    {
     "data": {
      "text/plain": [
       "4.924428900898052"
      ]
     },
     "execution_count": 144,
     "metadata": {},
     "output_type": "execute_result"
    }
   ],
   "source": [
    "#10.Write a python function to Find length of median in a triangle given side lengths.\n",
    "#without parameter\n",
    "a = float(input(\"Enter side a: \"))\n",
    "b = float(input(\"Enter side b: \"))\n",
    "c = float(input(\"Enter side c: \"))\n",
    "def median_length():\n",
    "    m = ((2*b*b + 2*c*c - a*a) / 4)**0.5\n",
    "    print(\"Length of median:\")\n",
    "    return m\n",
    "median_length()\n"
   ]
  },
  {
   "cell_type": "code",
   "execution_count": 135,
   "id": "54d9ec0b-c376-456d-a1f1-07023b34c96b",
   "metadata": {},
   "outputs": [
    {
     "name": "stdout",
     "output_type": "stream",
     "text": [
      "Length of median:\n"
     ]
    },
    {
     "data": {
      "text/plain": [
       "7.0"
      ]
     },
     "execution_count": 135,
     "metadata": {},
     "output_type": "execute_result"
    }
   ],
   "source": [
    "#with parameter\n",
    "def median_length(a,b,c):\n",
    "    m = ((2*b*b + 2*c*c - a*a) / 4)**0.5\n",
    "    print(\"Length of median:\")\n",
    "    return m\n",
    "median_length(2,6,8)\n"
   ]
  }
 ],
 "metadata": {
  "kernelspec": {
   "display_name": "Python 3 (ipykernel)",
   "language": "python",
   "name": "python3"
  },
  "language_info": {
   "codemirror_mode": {
    "name": "ipython",
    "version": 3
   },
   "file_extension": ".py",
   "mimetype": "text/x-python",
   "name": "python",
   "nbconvert_exporter": "python",
   "pygments_lexer": "ipython3",
   "version": "3.12.7"
  }
 },
 "nbformat": 4,
 "nbformat_minor": 5
}
