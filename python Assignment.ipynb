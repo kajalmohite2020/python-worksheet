{
 "cells": [
  {
   "cell_type": "code",
   "execution_count": 9,
   "id": "15e2231d-2c4c-4875-acdd-ccc77ec4e978",
   "metadata": {},
   "outputs": [
    {
     "name": "stdin",
     "output_type": "stream",
     "text": [
      "Enter first number:  6\n",
      "Enter first number:  1\n"
     ]
    },
    {
     "name": "stdout",
     "output_type": "stream",
     "text": [
      "greater number:  6\n"
     ]
    }
   ],
   "source": [
    "#Assignment no.1\n",
    "#1.Write a Python program that takes two numbers and prints which number is greater.\n",
    "num1=int(input(\"Enter first number: \"))\n",
    "num2=int(input(\"Enter first number: \"))\n",
    "\n",
    "if num1>num2:\n",
    "    print(\"greater number: \",num1)\n",
    "else:\n",
    "    print(\"greater number: \",num2)"
   ]
  },
  {
   "cell_type": "code",
   "execution_count": 45,
   "id": "2cea869e-5a32-419e-8af0-e05e0b1061d2",
   "metadata": {},
   "outputs": [
    {
     "name": "stdin",
     "output_type": "stream",
     "text": [
      "Enter a number: 0\n"
     ]
    },
    {
     "name": "stdout",
     "output_type": "stream",
     "text": [
      "This is zero\n"
     ]
    }
   ],
   "source": [
    "#2.Write a Python program that checks whether a number is positive, negative, or zero.\n",
    "a=int(input(\"Enter a number:\"))\n",
    "if a > 0:\n",
    "    print(\"This is a positive number\")\n",
    "elif a < 0:\n",
    "    print(\"This is a negative number\")\n",
    "else:\n",
    "    print(\"This is zero\")\n",
    "      \n",
    "      "
   ]
  },
  {
   "cell_type": "code",
   "execution_count": 106,
   "id": "abb7431f-df6d-436b-96c1-e24fa2be1238",
   "metadata": {},
   "outputs": [
    {
     "name": "stdin",
     "output_type": "stream",
     "text": [
      "Enter your mark 78\n"
     ]
    },
    {
     "name": "stdout",
     "output_type": "stream",
     "text": [
      "Grade C+\n"
     ]
    }
   ],
   "source": [
    "#3.Write a Python program to assign grades based on the marks entered using conditional statements.\n",
    "marks = int(input(\"Enter your mark\"))\n",
    "if marks >=90:\n",
    "    print(\"Grade A+\")\n",
    "elif marks >=80:\n",
    "    print(\"Grade B+\")\n",
    "elif marks >=70:\n",
    "    print(\"Grade C+\")\n",
    "elif  marks >=65:\n",
    "    print(\"Grade B+\")\n",
    "elif  marks >=60:\n",
    "    print(\"Grade C+\")\n",
    "elif marks >=50:\n",
    "    print(\"Grade D+\")\n",
    "else:\n",
    "    print(\"Fail\")\n",
    "    "
   ]
  },
  {
   "cell_type": "code",
   "execution_count": 108,
   "id": "d7d61bf1-8bdb-4d0f-9554-3dc17037db4a",
   "metadata": {},
   "outputs": [
    {
     "name": "stdin",
     "output_type": "stream",
     "text": [
      "Enter a single alphabet: 3\n"
     ]
    },
    {
     "name": "stdout",
     "output_type": "stream",
     "text": [
      "is a consonant.\n"
     ]
    }
   ],
   "source": [
    "#4.Write a Python program to check whether a given character is a vowel or a consonant.\n",
    "char = input(\"Enter a single alphabet:\")\n",
    "if char in \"aeiou\":\n",
    "    print(\"is a vowel.\")\n",
    "else:\n",
    "    print(\"is a consonant.\")\n"
   ]
  },
  {
   "cell_type": "code",
   "execution_count": 3,
   "id": "b6b96563-2748-49d4-87cc-a2378b5f4516",
   "metadata": {},
   "outputs": [
    {
     "name": "stdin",
     "output_type": "stream",
     "text": [
      "Enter a number:  5\n"
     ]
    },
    {
     "name": "stdout",
     "output_type": "stream",
     "text": [
      "This a number not lies between 10 and 20 (exclusive)\n"
     ]
    }
   ],
   "source": [
    "#5.Write a Python program that checks if a number lies between 10 and 20 (exclusive).\n",
    "a = int(input(\"Enter a number: \"))\n",
    "if 10< a <20:\n",
    "    print(\"This a number a lies between 10 and 20 (exclusive)\")\n",
    "else:\n",
    "     print(\"This a number not lies between 10 and 20 (exclusive)\")\n",
    "    \n"
   ]
  },
  {
   "cell_type": "code",
   "execution_count": 65,
   "id": "575bacc2-3f16-4e6b-9a70-642582d4c7f5",
   "metadata": {},
   "outputs": [
    {
     "name": "stdin",
     "output_type": "stream",
     "text": [
      "Enter the year:  2015\n"
     ]
    },
    {
     "name": "stdout",
     "output_type": "stream",
     "text": [
      "The entered year is not a leap year\n"
     ]
    }
   ],
   "source": [
    "#6. Write a Python program to check if a given year is a leap year.\n",
    "year = int(input(\"Enter the year: \"))\n",
    "if year % 4 == 0:\n",
    "    print(\"The entered year is a leap year\")\n",
    "else:\n",
    "    print(\"The entered year is not a leap year\")"
   ]
  },
  {
   "cell_type": "code",
   "execution_count": 102,
   "id": "c1865bd1-6b75-4f44-8030-429299d6af3c",
   "metadata": {},
   "outputs": [
    {
     "name": "stdin",
     "output_type": "stream",
     "text": [
      "Enter username:  isha\n",
      "Enter password:  1234\n"
     ]
    },
    {
     "name": "stdout",
     "output_type": "stream",
     "text": [
      "Invalid username.\n"
     ]
    }
   ],
   "source": [
    "#7. Write a Python program that validates a login using a predefined username and password.\n",
    "\n",
    "username = \"kajal\"\n",
    "password = \"1234\"\n",
    "a = input(\"Enter username: \")\n",
    "b = input(\"Enter password: \")\n",
    "if a == username and b == password:\n",
    "    print(\"Login successful.\")\n",
    "elif a !=username:\n",
    "    print(\"Invalid username.\")\n",
    "else:\n",
    "    print(\"Invalid password.\")   "
   ]
  },
  {
   "cell_type": "code",
   "execution_count": 94,
   "id": "1caf5eaf-af95-4fb9-aa6f-dc97449030e4",
   "metadata": {},
   "outputs": [
    {
     "name": "stdin",
     "output_type": "stream",
     "text": [
      "Enter first number:  23\n",
      "Enter second number:  3\n",
      "Enter operator :  *\n"
     ]
    },
    {
     "name": "stdout",
     "output_type": "stream",
     "text": [
      "69\n"
     ]
    }
   ],
   "source": [
    "#8.Write a Python program that works as a basic calculator (supports +, -, *, /).\n",
    "\n",
    "a = int(input(\"Enter first number: \"))\n",
    "b = int(input(\"Enter second number: \"))\n",
    "Op = input(\"Enter operator : \")\n",
    "if Op == '+':\n",
    "    print(a + b)\n",
    "elif Op== '-':\n",
    "    print(a - b)\n",
    "elif Op== '*':\n",
    "    print(a * b)\n",
    "elif Op== '/':\n",
    "    print(a / b)\n",
    "else:\n",
    "    print(\"Invalid operator\") "
   ]
  },
  {
   "cell_type": "code",
   "execution_count": 31,
   "id": "b6ffa198-2596-4bb4-8311-304e86a59b9e",
   "metadata": {},
   "outputs": [
    {
     "name": "stdin",
     "output_type": "stream",
     "text": [
      "Enter your age:  -2\n"
     ]
    },
    {
     "name": "stdout",
     "output_type": "stream",
     "text": [
      "your are a child.\n"
     ]
    }
   ],
   "source": [
    "#9.Write a Python program that assigns a category (Child, Teen, Adult, Senior) based on age.\n",
    "age = int(input(\"Enter your age: \"))\n",
    "if age < 12:\n",
    "    print(\"your are a child.\")\n",
    "elif age < 20:\n",
    "    print(\"your are a teen.\")\n",
    "elif age < 60:\n",
    "    print(\"your are a adult.\")\n",
    "elif age >61:\n",
    "    print(\"your are a senior.\")\n",
    "else:\n",
    "    print(\"please enter currect age\")\n",
    "          "
   ]
  },
  {
   "cell_type": "code",
   "execution_count": 88,
   "id": "f21c08d4-516b-46be-8495-7e27405ff3ab",
   "metadata": {},
   "outputs": [
    {
     "name": "stdin",
     "output_type": "stream",
     "text": [
      "enter the side1 of the triangle:  34\n",
      "enter the side2 of the triangle:  23\n",
      "enter the side3 of the triangle:  5\n"
     ]
    },
    {
     "name": "stdout",
     "output_type": "stream",
     "text": [
      "The triangle is scalene triangle\n"
     ]
    }
   ],
   "source": [
    "#10. Write a Python program that checks the type of triangle based on the sides (Equilateral, Isosceles, Scalene).\n",
    "s1 = int(input(\"enter the side1 of the triangle: \"))\n",
    "s2 = int(input(\"enter the side2 of the triangle: \"))\n",
    "s3 = int(input(\"enter the side3 of the triangle: \"))\n",
    "\n",
    "if s1 == s2 and s2 == s3:\n",
    "    print(\"The triangle is an equalateral triangle\")\n",
    "elif s1 == s2 or s2 == s3 or s3 == s1:\n",
    "    print(\"The triangle is an Isoceles triangle\")\n",
    "elif s1 != s2 and s3 != s2 and s1 != s3:\n",
    "    print(\"The triangle is scalene triangle\")\n",
    "else:\n",
    "    print(\"please enter a currect side\")\n",
    "\n"
   ]
  },
  {
   "cell_type": "code",
   "execution_count": 39,
   "id": "813ffb06-aa46-4307-b5e5-f8aaf0ab25f6",
   "metadata": {},
   "outputs": [
    {
     "name": "stdin",
     "output_type": "stream",
     "text": [
      "Enter a first number:  40\n",
      "Enter a second number:  90\n",
      "Enter a third number:  20\n"
     ]
    },
    {
     "name": "stdout",
     "output_type": "stream",
     "text": [
      "Invalid triangle\n"
     ]
    }
   ],
   "source": [
    "#11.Write a Python program that checks if three given angles can form a valid triangle.\n",
    "a=int(input(\"Enter a first number: \"))\n",
    "b=int(input(\"Enter a second number: \"))\n",
    "c=int(input(\"Enter a third number: \"))\n",
    "if a+b+c==180:\n",
    "    print(\"Valid triangle\")\n",
    "else:\n",
    "    print(\"Invalid triangle\")\n"
   ]
  }
 ],
 "metadata": {
  "kernelspec": {
   "display_name": "Python 3 (ipykernel)",
   "language": "python",
   "name": "python3"
  },
  "language_info": {
   "codemirror_mode": {
    "name": "ipython",
    "version": 3
   },
   "file_extension": ".py",
   "mimetype": "text/x-python",
   "name": "python",
   "nbconvert_exporter": "python",
   "pygments_lexer": "ipython3",
   "version": "3.12.7"
  }
 },
 "nbformat": 4,
 "nbformat_minor": 5
}
