{
 "cells": [
  {
   "cell_type": "code",
   "execution_count": 3,
   "id": "fab4cff0-d4ff-4def-ba3d-6f4c59399fc3",
   "metadata": {},
   "outputs": [
    {
     "name": "stdin",
     "output_type": "stream",
     "text": [
      "Enter a number:  12345\n"
     ]
    },
    {
     "data": {
      "text/plain": [
       "2"
      ]
     },
     "execution_count": 3,
     "metadata": {},
     "output_type": "execute_result"
    }
   ],
   "source": [
    "#assignment no.18\n",
    "#1.Write a python program to Count Even Digits in a Number using recursion.\n",
    "num = int(input(\"Enter a number: \"))\n",
    "def count_even(n):\n",
    "    if n == 0:\n",
    "        return 0\n",
    "    else:\n",
    "        return (n % 10 % 2 == 0) + count_even(n // 10)\n",
    "count_even(num)"
   ]
  },
  {
   "cell_type": "code",
   "execution_count": 8,
   "id": "2ce1ce94-f89d-4b92-9069-e761d03ab003",
   "metadata": {},
   "outputs": [
    {
     "name": "stdout",
     "output_type": "stream",
     "text": [
      "1234\n"
     ]
    }
   ],
   "source": [
    "#2.Write a python program to Replace All Occurrences of 0 with 5 using recursion\n",
    "def replace(n):\n",
    "    if n == 0:\n",
    "        return 0\n",
    "    elif n % 10 == 0:\n",
    "            digit = 5\n",
    "    else:\n",
    "        digit = n % 10\n",
    "        return replace(n // 10) * 10 + digit\n",
    "print(replace(1234))"
   ]
  },
  {
   "cell_type": "code",
   "execution_count": 10,
   "id": "052c82d7-4347-4ccd-9d36-a94bc10ddc26",
   "metadata": {},
   "outputs": [
    {
     "name": "stdin",
     "output_type": "stream",
     "text": [
      "Enter a number:  102030\n"
     ]
    },
    {
     "name": "stdout",
     "output_type": "stream",
     "text": [
      "2\n"
     ]
    }
   ],
   "source": [
    "#3. Write a python program to Find Number of Zeroes in a Number using recursion.\n",
    "num = int(input(\"Enter a number: \"))\n",
    "def count_zero(n):\n",
    "    if n == 0:\n",
    "        return 0\n",
    "    else:\n",
    "        c = 0\n",
    "        if n % 10 == 0:\n",
    "            c = 1\n",
    "        return c + count_zero(n // 10)\n",
    "count_zero()"
   ]
  },
  {
   "cell_type": "code",
   "execution_count": null,
   "id": "a59f03da-0794-42ad-83fa-76c0ddaa6833",
   "metadata": {},
   "outputs": [],
   "source": [
    "#4.Write a python program to find Sum of Alternate Digits (Even Positions) using recursion"
   ]
  },
  {
   "cell_type": "code",
   "execution_count": null,
   "id": "e217670a-b3e9-4f57-a6c7-5599e432e8a7",
   "metadata": {},
   "outputs": [],
   "source": [
    "#5.Write a python program to find Sum of Square of Alternate Digits using recursion\n"
   ]
  },
  {
   "cell_type": "code",
   "execution_count": 16,
   "id": "19d56de9-0a61-4964-be5d-25eb56dac4b0",
   "metadata": {},
   "outputs": [
    {
     "name": "stdin",
     "output_type": "stream",
     "text": [
      "Enter a number:  2568945632\n"
     ]
    },
    {
     "data": {
      "text/plain": [
       "4"
      ]
     },
     "execution_count": 16,
     "metadata": {},
     "output_type": "execute_result"
    }
   ],
   "source": [
    "#6.Write a python program to find Count of Digits Greater than 5 using recursion\n",
    "n = int(input(\"Enter a number: \"))\n",
    "def count_digits(n):\n",
    "    if n == 0: \n",
    "        return (n % 10 > 5) + count_digits(n // 10)\n",
    "count_greater5(n)"
   ]
  }
 ],
 "metadata": {
  "kernelspec": {
   "display_name": "Python 3 (ipykernel)",
   "language": "python",
   "name": "python3"
  },
  "language_info": {
   "codemirror_mode": {
    "name": "ipython",
    "version": 3
   },
   "file_extension": ".py",
   "mimetype": "text/x-python",
   "name": "python",
   "nbconvert_exporter": "python",
   "pygments_lexer": "ipython3",
   "version": "3.12.7"
  }
 },
 "nbformat": 4,
 "nbformat_minor": 5
}
